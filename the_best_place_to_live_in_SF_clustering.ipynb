{
  "nbformat": 4,
  "nbformat_minor": 0,
  "metadata": {
    "colab": {
      "name": "battle_of_neighborhoods",
      "provenance": []
    },
    "kernelspec": {
      "name": "python3",
      "display_name": "Python 3"
    },
    "language_info": {
      "name": "python"
    }
  },
  "cells": [
    {
      "cell_type": "markdown",
      "metadata": {
        "id": "YsFGH1ftAb1c"
      },
      "source": [
        "# **The best place to live in San Francisco for a family with children**"
      ]
    },
    {
      "cell_type": "code",
      "metadata": {
        "colab": {
          "base_uri": "https://localhost:8080/"
        },
        "id": "92z-jzC9ESgK",
        "outputId": "8c46b767-0e6b-4eef-fc76-02eae5bb0b25"
      },
      "source": [
        "import pandas as pd\n",
        "import numpy as np\n",
        "\n",
        "from bs4 import BeautifulSoup \n",
        "import requests \n",
        "\n",
        "#!conda install -c conda-forge geopy --yes\n",
        "from geopy.geocoders import Nominatim\n",
        "#!conda install -c conda-forge folium=0.5.0 --yes\n",
        "import folium # map rendering library\n",
        "!pip install geocoder\n",
        "import geocoder\n",
        "\n",
        "import matplotlib.cm as cm\n",
        "import matplotlib.colors as colors\n",
        "import matplotlib.pyplot as plt\n",
        "%matplotlib inline\n",
        "\n",
        "from sklearn.cluster import KMeans"
      ],
      "execution_count": 460,
      "outputs": [
        {
          "output_type": "stream",
          "text": [
            "Requirement already satisfied: geocoder in /usr/local/lib/python3.7/dist-packages (1.38.1)\n",
            "Requirement already satisfied: click in /usr/local/lib/python3.7/dist-packages (from geocoder) (7.1.2)\n",
            "Requirement already satisfied: ratelim in /usr/local/lib/python3.7/dist-packages (from geocoder) (0.1.6)\n",
            "Requirement already satisfied: six in /usr/local/lib/python3.7/dist-packages (from geocoder) (1.15.0)\n",
            "Requirement already satisfied: requests in /usr/local/lib/python3.7/dist-packages (from geocoder) (2.23.0)\n",
            "Requirement already satisfied: future in /usr/local/lib/python3.7/dist-packages (from geocoder) (0.16.0)\n",
            "Requirement already satisfied: decorator in /usr/local/lib/python3.7/dist-packages (from ratelim->geocoder) (4.4.2)\n",
            "Requirement already satisfied: idna<3,>=2.5 in /usr/local/lib/python3.7/dist-packages (from requests->geocoder) (2.10)\n",
            "Requirement already satisfied: certifi>=2017.4.17 in /usr/local/lib/python3.7/dist-packages (from requests->geocoder) (2020.12.5)\n",
            "Requirement already satisfied: urllib3!=1.25.0,!=1.25.1,<1.26,>=1.21.1 in /usr/local/lib/python3.7/dist-packages (from requests->geocoder) (1.24.3)\n",
            "Requirement already satisfied: chardet<4,>=3.0.2 in /usr/local/lib/python3.7/dist-packages (from requests->geocoder) (3.0.4)\n"
          ],
          "name": "stdout"
        }
      ]
    },
    {
      "cell_type": "markdown",
      "metadata": {
        "id": "jGOnZgnfpGKA"
      },
      "source": [
        "## Load zip codes and neighborhoods of San Francisco"
      ]
    },
    {
      "cell_type": "code",
      "metadata": {
        "id": "YgnbPkl8kLVo"
      },
      "source": [
        "url = \"http://www.healthysf.org/bdi/outcomes/zipmap.htm\"\n",
        "\n",
        "data  = requests.get(url).text\n",
        "\n",
        "soup = BeautifulSoup(data,\"html5lib\")"
      ],
      "execution_count": 461,
      "outputs": []
    },
    {
      "cell_type": "code",
      "metadata": {
        "colab": {
          "base_uri": "https://localhost:8080/",
          "height": 221
        },
        "id": "SFNRDF9hkVNK",
        "outputId": "520cfc20-986d-4bcd-b391-fcbd2f9cc3de"
      },
      "source": [
        "table = soup.find_all(\"table\")\n",
        "df = pd.read_html(str(table))\n",
        "df = pd.DataFrame(df[4])\n",
        "\n",
        "#Drop unnecessary columns and rows\n",
        "df.columns = df.iloc[0]\n",
        "df = df.iloc[1:-1, :-1]\n",
        "\n",
        "#Rename columns\n",
        "df.rename(columns={'Zip Code':'ZipCode'}, inplace=True)\n",
        "\n",
        "#Reset index\n",
        "df.reset_index(drop=True, inplace=True)\n",
        "\n",
        "print(df.shape)\n",
        "df.head()"
      ],
      "execution_count": 462,
      "outputs": [
        {
          "output_type": "stream",
          "text": [
            "(21, 2)\n"
          ],
          "name": "stdout"
        },
        {
          "output_type": "execute_result",
          "data": {
            "text/html": [
              "<div>\n",
              "<style scoped>\n",
              "    .dataframe tbody tr th:only-of-type {\n",
              "        vertical-align: middle;\n",
              "    }\n",
              "\n",
              "    .dataframe tbody tr th {\n",
              "        vertical-align: top;\n",
              "    }\n",
              "\n",
              "    .dataframe thead th {\n",
              "        text-align: right;\n",
              "    }\n",
              "</style>\n",
              "<table border=\"1\" class=\"dataframe\">\n",
              "  <thead>\n",
              "    <tr style=\"text-align: right;\">\n",
              "      <th></th>\n",
              "      <th>ZipCode</th>\n",
              "      <th>Neighborhood</th>\n",
              "    </tr>\n",
              "  </thead>\n",
              "  <tbody>\n",
              "    <tr>\n",
              "      <th>0</th>\n",
              "      <td>94102</td>\n",
              "      <td>Hayes Valley/Tenderloin/North of Market</td>\n",
              "    </tr>\n",
              "    <tr>\n",
              "      <th>1</th>\n",
              "      <td>94103</td>\n",
              "      <td>South of Market</td>\n",
              "    </tr>\n",
              "    <tr>\n",
              "      <th>2</th>\n",
              "      <td>94107</td>\n",
              "      <td>Potrero Hill</td>\n",
              "    </tr>\n",
              "    <tr>\n",
              "      <th>3</th>\n",
              "      <td>94108</td>\n",
              "      <td>Chinatown</td>\n",
              "    </tr>\n",
              "    <tr>\n",
              "      <th>4</th>\n",
              "      <td>94109</td>\n",
              "      <td>Polk/Russian Hill (Nob Hill)</td>\n",
              "    </tr>\n",
              "  </tbody>\n",
              "</table>\n",
              "</div>"
            ],
            "text/plain": [
              "0 ZipCode                             Neighborhood\n",
              "0   94102  Hayes Valley/Tenderloin/North of Market\n",
              "1   94103                          South of Market\n",
              "2   94107                             Potrero Hill\n",
              "3   94108                                Chinatown\n",
              "4   94109             Polk/Russian Hill (Nob Hill)"
            ]
          },
          "metadata": {
            "tags": []
          },
          "execution_count": 462
        }
      ]
    },
    {
      "cell_type": "markdown",
      "metadata": {
        "id": "NN_3UGO9uj8-"
      },
      "source": [
        "### Get coordinates for each neighborhood"
      ]
    },
    {
      "cell_type": "code",
      "metadata": {
        "id": "eZhBPzDCkWOZ"
      },
      "source": [
        "# Function to get coordinates\n",
        "def get_latlng(neighborhood):\n",
        "    # initialize your variable to None\n",
        "    lat_lng_coords = None\n",
        "    # loop until you get the coordinates\n",
        "    while(lat_lng_coords is None):\n",
        "        g = geocoder.arcgis('{}, San Francisco, USA'.format(neighborhood))\n",
        "        lat_lng_coords = g.latlng\n",
        "    return lat_lng_coords"
      ],
      "execution_count": 463,
      "outputs": []
    },
    {
      "cell_type": "code",
      "metadata": {
        "id": "szwHzDPOnmC3"
      },
      "source": [
        "coords = [ get_latlng(neighborhood) for neighborhood in df[\"Neighborhood\"].tolist() ]"
      ],
      "execution_count": 464,
      "outputs": []
    },
    {
      "cell_type": "code",
      "metadata": {
        "colab": {
          "base_uri": "https://localhost:8080/"
        },
        "id": "wspggBBUn2v8",
        "outputId": "4d17980c-50e7-4797-8c73-f560118e5512"
      },
      "source": [
        "len(coords)"
      ],
      "execution_count": 465,
      "outputs": [
        {
          "output_type": "execute_result",
          "data": {
            "text/plain": [
              "21"
            ]
          },
          "metadata": {
            "tags": []
          },
          "execution_count": 465
        }
      ]
    },
    {
      "cell_type": "code",
      "metadata": {
        "id": "bGJEUHF4ovS_"
      },
      "source": [
        "df_coords = pd.DataFrame(coords, columns=['Latitude', 'Longitude'])\n",
        "df['NeighborhoodLatitude'] = df_coords['Latitude']\n",
        "df['NeighborhoodLongitude'] = df_coords['Longitude']"
      ],
      "execution_count": 466,
      "outputs": []
    },
    {
      "cell_type": "code",
      "metadata": {
        "colab": {
          "base_uri": "https://localhost:8080/",
          "height": 204
        },
        "id": "Z62Ub_Xkt91m",
        "outputId": "979650a9-d2bc-4268-cd3c-01d206bc47d1"
      },
      "source": [
        "df.head()"
      ],
      "execution_count": 467,
      "outputs": [
        {
          "output_type": "execute_result",
          "data": {
            "text/html": [
              "<div>\n",
              "<style scoped>\n",
              "    .dataframe tbody tr th:only-of-type {\n",
              "        vertical-align: middle;\n",
              "    }\n",
              "\n",
              "    .dataframe tbody tr th {\n",
              "        vertical-align: top;\n",
              "    }\n",
              "\n",
              "    .dataframe thead th {\n",
              "        text-align: right;\n",
              "    }\n",
              "</style>\n",
              "<table border=\"1\" class=\"dataframe\">\n",
              "  <thead>\n",
              "    <tr style=\"text-align: right;\">\n",
              "      <th></th>\n",
              "      <th>ZipCode</th>\n",
              "      <th>Neighborhood</th>\n",
              "      <th>NeighborhoodLatitude</th>\n",
              "      <th>NeighborhoodLongitude</th>\n",
              "    </tr>\n",
              "  </thead>\n",
              "  <tbody>\n",
              "    <tr>\n",
              "      <th>0</th>\n",
              "      <td>94102</td>\n",
              "      <td>Hayes Valley/Tenderloin/North of Market</td>\n",
              "      <td>37.77428</td>\n",
              "      <td>-122.42833</td>\n",
              "    </tr>\n",
              "    <tr>\n",
              "      <th>1</th>\n",
              "      <td>94103</td>\n",
              "      <td>South of Market</td>\n",
              "      <td>37.77757</td>\n",
              "      <td>-122.40435</td>\n",
              "    </tr>\n",
              "    <tr>\n",
              "      <th>2</th>\n",
              "      <td>94107</td>\n",
              "      <td>Potrero Hill</td>\n",
              "      <td>37.75660</td>\n",
              "      <td>-122.39914</td>\n",
              "    </tr>\n",
              "    <tr>\n",
              "      <th>3</th>\n",
              "      <td>94108</td>\n",
              "      <td>Chinatown</td>\n",
              "      <td>37.79539</td>\n",
              "      <td>-122.40812</td>\n",
              "    </tr>\n",
              "    <tr>\n",
              "      <th>4</th>\n",
              "      <td>94109</td>\n",
              "      <td>Polk/Russian Hill (Nob Hill)</td>\n",
              "      <td>37.80203</td>\n",
              "      <td>-122.41963</td>\n",
              "    </tr>\n",
              "  </tbody>\n",
              "</table>\n",
              "</div>"
            ],
            "text/plain": [
              "0 ZipCode  ... NeighborhoodLongitude\n",
              "0   94102  ...            -122.42833\n",
              "1   94103  ...            -122.40435\n",
              "2   94107  ...            -122.39914\n",
              "3   94108  ...            -122.40812\n",
              "4   94109  ...            -122.41963\n",
              "\n",
              "[5 rows x 4 columns]"
            ]
          },
          "metadata": {
            "tags": []
          },
          "execution_count": 467
        }
      ]
    },
    {
      "cell_type": "markdown",
      "metadata": {
        "id": "Pk-EFN68wrxe"
      },
      "source": [
        "### Create dataframe: Neighborhood"
      ]
    },
    {
      "cell_type": "code",
      "metadata": {
        "colab": {
          "base_uri": "https://localhost:8080/",
          "height": 204
        },
        "id": "02s6l_6dt_F2",
        "outputId": "8e99d43d-97b2-4d9f-9040-2bef8a64ce55"
      },
      "source": [
        "neighborhood_df = df.loc[:, ['Neighborhood','NeighborhoodLatitude', 'NeighborhoodLongitude']]\n",
        "neighborhood_df.head()"
      ],
      "execution_count": 468,
      "outputs": [
        {
          "output_type": "execute_result",
          "data": {
            "text/html": [
              "<div>\n",
              "<style scoped>\n",
              "    .dataframe tbody tr th:only-of-type {\n",
              "        vertical-align: middle;\n",
              "    }\n",
              "\n",
              "    .dataframe tbody tr th {\n",
              "        vertical-align: top;\n",
              "    }\n",
              "\n",
              "    .dataframe thead th {\n",
              "        text-align: right;\n",
              "    }\n",
              "</style>\n",
              "<table border=\"1\" class=\"dataframe\">\n",
              "  <thead>\n",
              "    <tr style=\"text-align: right;\">\n",
              "      <th></th>\n",
              "      <th>Neighborhood</th>\n",
              "      <th>NeighborhoodLatitude</th>\n",
              "      <th>NeighborhoodLongitude</th>\n",
              "    </tr>\n",
              "  </thead>\n",
              "  <tbody>\n",
              "    <tr>\n",
              "      <th>0</th>\n",
              "      <td>Hayes Valley/Tenderloin/North of Market</td>\n",
              "      <td>37.77428</td>\n",
              "      <td>-122.42833</td>\n",
              "    </tr>\n",
              "    <tr>\n",
              "      <th>1</th>\n",
              "      <td>South of Market</td>\n",
              "      <td>37.77757</td>\n",
              "      <td>-122.40435</td>\n",
              "    </tr>\n",
              "    <tr>\n",
              "      <th>2</th>\n",
              "      <td>Potrero Hill</td>\n",
              "      <td>37.75660</td>\n",
              "      <td>-122.39914</td>\n",
              "    </tr>\n",
              "    <tr>\n",
              "      <th>3</th>\n",
              "      <td>Chinatown</td>\n",
              "      <td>37.79539</td>\n",
              "      <td>-122.40812</td>\n",
              "    </tr>\n",
              "    <tr>\n",
              "      <th>4</th>\n",
              "      <td>Polk/Russian Hill (Nob Hill)</td>\n",
              "      <td>37.80203</td>\n",
              "      <td>-122.41963</td>\n",
              "    </tr>\n",
              "  </tbody>\n",
              "</table>\n",
              "</div>"
            ],
            "text/plain": [
              "0                             Neighborhood  ...  NeighborhoodLongitude\n",
              "0  Hayes Valley/Tenderloin/North of Market  ...             -122.42833\n",
              "1                          South of Market  ...             -122.40435\n",
              "2                             Potrero Hill  ...             -122.39914\n",
              "3                                Chinatown  ...             -122.40812\n",
              "4             Polk/Russian Hill (Nob Hill)  ...             -122.41963\n",
              "\n",
              "[5 rows x 3 columns]"
            ]
          },
          "metadata": {
            "tags": []
          },
          "execution_count": 468
        }
      ]
    },
    {
      "cell_type": "markdown",
      "metadata": {
        "id": "9p_5Eq5AxK5v"
      },
      "source": [
        "### Get coordinates of San francisco"
      ]
    },
    {
      "cell_type": "code",
      "metadata": {
        "colab": {
          "base_uri": "https://localhost:8080/"
        },
        "id": "XYhqTySYwofb",
        "outputId": "36d5c077-06c1-4528-f7cf-cdfadcfb2132"
      },
      "source": [
        "address = 'San Francisco'\n",
        "\n",
        "geolocator = Nominatim(user_agent=\"san_francisco_explorer\")\n",
        "location = geolocator.geocode(address)\n",
        "latitude = location.latitude\n",
        "longitude = location.longitude\n",
        "print('The geograpical coordinate of San francisco are {}, {}.'.format(latitude, longitude))"
      ],
      "execution_count": 469,
      "outputs": [
        {
          "output_type": "stream",
          "text": [
            "The geograpical coordinate of San francisco are 37.7790262, -122.419906.\n"
          ],
          "name": "stdout"
        }
      ]
    },
    {
      "cell_type": "markdown",
      "metadata": {
        "id": "XI1czZ5Wxhiz"
      },
      "source": [
        "## Create a map of San Francisco with neighborhoods"
      ]
    },
    {
      "cell_type": "code",
      "metadata": {
        "colab": {
          "base_uri": "https://localhost:8080/",
          "height": 1000
        },
        "id": "4q8WZTsBxZ6N",
        "outputId": "d37b1eff-1587-488c-956a-ac372b0ef0c0"
      },
      "source": [
        "sf_map = folium.Map(location = [latitude, longitude], zoom_start=12)\n",
        "\n",
        "# add markers to map\n",
        "for lat, lng, neighborhood in zip(neighborhood_df['NeighborhoodLatitude'], neighborhood_df['NeighborhoodLongitude'], neighborhood_df['Neighborhood']):\n",
        "    label = '{}'.format(neighborhood)\n",
        "    label = folium.Popup(label, parse_html = True)\n",
        "    folium.CircleMarker(\n",
        "        [lat, lng],\n",
        "        radius = 5,\n",
        "        popup = label,\n",
        "        color = 'blue',\n",
        "        fill = True,\n",
        "        fill_color = '#3186cc',\n",
        "        fill_opacity = 0.7,\n",
        "        parse_html = False).add_to(sf_map)  \n",
        "    \n",
        "sf_map"
      ],
      "execution_count": 470,
      "outputs": [
        {
          "output_type": "execute_result",
          "data": {
            "text/html": [
              "<div style=\"width:100%;\"><div style=\"position:relative;width:100%;height:0;padding-bottom:60%;\"><span style=\"color:#565656\">Make this Notebook Trusted to load map: File -> Trust Notebook</span><iframe src=\"about:blank\" style=\"position:absolute;width:100%;height:100%;left:0;top:0;border:none !important;\" data-html=%3C%21DOCTYPE%20html%3E%0A%3Chead%3E%20%20%20%20%0A%20%20%20%20%3Cmeta%20http-equiv%3D%22content-type%22%20content%3D%22text/html%3B%20charset%3DUTF-8%22%20/%3E%0A%20%20%20%20%3Cscript%3EL_PREFER_CANVAS%3Dfalse%3B%20L_NO_TOUCH%3Dfalse%3B%20L_DISABLE_3D%3Dfalse%3B%3C/script%3E%0A%20%20%20%20%3Cscript%20src%3D%22https%3A//cdn.jsdelivr.net/npm/leaflet%401.4.0/dist/leaflet.js%22%3E%3C/script%3E%0A%20%20%20%20%3Cscript%20src%3D%22https%3A//code.jquery.com/jquery-1.12.4.min.js%22%3E%3C/script%3E%0A%20%20%20%20%3Cscript%20src%3D%22https%3A//maxcdn.bootstrapcdn.com/bootstrap/3.2.0/js/bootstrap.min.js%22%3E%3C/script%3E%0A%20%20%20%20%3Cscript%20src%3D%22https%3A//cdnjs.cloudflare.com/ajax/libs/Leaflet.awesome-markers/2.0.2/leaflet.awesome-markers.js%22%3E%3C/script%3E%0A%20%20%20%20%3Clink%20rel%3D%22stylesheet%22%20href%3D%22https%3A//cdn.jsdelivr.net/npm/leaflet%401.4.0/dist/leaflet.css%22/%3E%0A%20%20%20%20%3Clink%20rel%3D%22stylesheet%22%20href%3D%22https%3A//maxcdn.bootstrapcdn.com/bootstrap/3.2.0/css/bootstrap.min.css%22/%3E%0A%20%20%20%20%3Clink%20rel%3D%22stylesheet%22%20href%3D%22https%3A//maxcdn.bootstrapcdn.com/bootstrap/3.2.0/css/bootstrap-theme.min.css%22/%3E%0A%20%20%20%20%3Clink%20rel%3D%22stylesheet%22%20href%3D%22https%3A//maxcdn.bootstrapcdn.com/font-awesome/4.6.3/css/font-awesome.min.css%22/%3E%0A%20%20%20%20%3Clink%20rel%3D%22stylesheet%22%20href%3D%22https%3A//cdnjs.cloudflare.com/ajax/libs/Leaflet.awesome-markers/2.0.2/leaflet.awesome-markers.css%22/%3E%0A%20%20%20%20%3Clink%20rel%3D%22stylesheet%22%20href%3D%22https%3A//rawcdn.githack.com/python-visualization/folium/master/folium/templates/leaflet.awesome.rotate.css%22/%3E%0A%20%20%20%20%3Cstyle%3Ehtml%2C%20body%20%7Bwidth%3A%20100%25%3Bheight%3A%20100%25%3Bmargin%3A%200%3Bpadding%3A%200%3B%7D%3C/style%3E%0A%20%20%20%20%3Cstyle%3E%23map%20%7Bposition%3Aabsolute%3Btop%3A0%3Bbottom%3A0%3Bright%3A0%3Bleft%3A0%3B%7D%3C/style%3E%0A%20%20%20%20%0A%20%20%20%20%3Cmeta%20name%3D%22viewport%22%20content%3D%22width%3Ddevice-width%2C%0A%20%20%20%20%20%20%20%20initial-scale%3D1.0%2C%20maximum-scale%3D1.0%2C%20user-scalable%3Dno%22%20/%3E%0A%20%20%20%20%3Cstyle%3E%23map_5451150abfe34573ac2ca13006f28229%20%7B%0A%20%20%20%20%20%20%20%20position%3A%20relative%3B%0A%20%20%20%20%20%20%20%20width%3A%20100.0%25%3B%0A%20%20%20%20%20%20%20%20height%3A%20100.0%25%3B%0A%20%20%20%20%20%20%20%20left%3A%200.0%25%3B%0A%20%20%20%20%20%20%20%20top%3A%200.0%25%3B%0A%20%20%20%20%20%20%20%20%7D%0A%20%20%20%20%3C/style%3E%0A%3C/head%3E%0A%3Cbody%3E%20%20%20%20%0A%20%20%20%20%0A%20%20%20%20%3Cdiv%20class%3D%22folium-map%22%20id%3D%22map_5451150abfe34573ac2ca13006f28229%22%20%3E%3C/div%3E%0A%3C/body%3E%0A%3Cscript%3E%20%20%20%20%0A%20%20%20%20%0A%20%20%20%20%0A%20%20%20%20%20%20%20%20var%20bounds%20%3D%20null%3B%0A%20%20%20%20%0A%0A%20%20%20%20var%20map_5451150abfe34573ac2ca13006f28229%20%3D%20L.map%28%0A%20%20%20%20%20%20%20%20%27map_5451150abfe34573ac2ca13006f28229%27%2C%20%7B%0A%20%20%20%20%20%20%20%20center%3A%20%5B37.7790262%2C%20-122.419906%5D%2C%0A%20%20%20%20%20%20%20%20zoom%3A%2012%2C%0A%20%20%20%20%20%20%20%20maxBounds%3A%20bounds%2C%0A%20%20%20%20%20%20%20%20layers%3A%20%5B%5D%2C%0A%20%20%20%20%20%20%20%20worldCopyJump%3A%20false%2C%0A%20%20%20%20%20%20%20%20crs%3A%20L.CRS.EPSG3857%2C%0A%20%20%20%20%20%20%20%20zoomControl%3A%20true%2C%0A%20%20%20%20%20%20%20%20%7D%29%3B%0A%0A%0A%20%20%20%20%0A%20%20%20%20var%20tile_layer_b6cc6aea1c2b469098bffdb93248df90%20%3D%20L.tileLayer%28%0A%20%20%20%20%20%20%20%20%27https%3A//%7Bs%7D.tile.openstreetmap.org/%7Bz%7D/%7Bx%7D/%7By%7D.png%27%2C%0A%20%20%20%20%20%20%20%20%7B%0A%20%20%20%20%20%20%20%20%22attribution%22%3A%20null%2C%0A%20%20%20%20%20%20%20%20%22detectRetina%22%3A%20false%2C%0A%20%20%20%20%20%20%20%20%22maxNativeZoom%22%3A%2018%2C%0A%20%20%20%20%20%20%20%20%22maxZoom%22%3A%2018%2C%0A%20%20%20%20%20%20%20%20%22minZoom%22%3A%200%2C%0A%20%20%20%20%20%20%20%20%22noWrap%22%3A%20false%2C%0A%20%20%20%20%20%20%20%20%22opacity%22%3A%201%2C%0A%20%20%20%20%20%20%20%20%22subdomains%22%3A%20%22abc%22%2C%0A%20%20%20%20%20%20%20%20%22tms%22%3A%20false%0A%7D%29.addTo%28map_5451150abfe34573ac2ca13006f28229%29%3B%0A%20%20%20%20%0A%20%20%20%20%20%20%20%20%20%20%20%20var%20circle_marker_b87aecb18c5f48c4ad81ccbb5af0a95c%20%3D%20L.circleMarker%28%0A%20%20%20%20%20%20%20%20%20%20%20%20%20%20%20%20%5B37.77428000000003%2C%20-122.42832999999996%5D%2C%0A%20%20%20%20%20%20%20%20%20%20%20%20%20%20%20%20%7B%0A%20%20%22bubblingMouseEvents%22%3A%20true%2C%0A%20%20%22color%22%3A%20%22blue%22%2C%0A%20%20%22dashArray%22%3A%20null%2C%0A%20%20%22dashOffset%22%3A%20null%2C%0A%20%20%22fill%22%3A%20true%2C%0A%20%20%22fillColor%22%3A%20%22%233186cc%22%2C%0A%20%20%22fillOpacity%22%3A%200.7%2C%0A%20%20%22fillRule%22%3A%20%22evenodd%22%2C%0A%20%20%22lineCap%22%3A%20%22round%22%2C%0A%20%20%22lineJoin%22%3A%20%22round%22%2C%0A%20%20%22opacity%22%3A%201.0%2C%0A%20%20%22radius%22%3A%205%2C%0A%20%20%22stroke%22%3A%20true%2C%0A%20%20%22weight%22%3A%203%0A%7D%0A%20%20%20%20%20%20%20%20%20%20%20%20%20%20%20%20%29%0A%20%20%20%20%20%20%20%20%20%20%20%20%20%20%20%20.addTo%28map_5451150abfe34573ac2ca13006f28229%29%3B%0A%20%20%20%20%20%20%20%20%20%20%20%20%0A%20%20%20%20%0A%20%20%20%20%20%20%20%20%20%20%20%20var%20popup_78f6f350fd0a40d0aceddaa776635bbb%20%3D%20L.popup%28%7BmaxWidth%3A%20%27100%25%27%0A%20%20%20%20%20%20%20%20%20%20%20%20%0A%20%20%20%20%20%20%20%20%20%20%20%20%7D%29%3B%0A%0A%20%20%20%20%20%20%20%20%20%20%20%20%0A%20%20%20%20%20%20%20%20%20%20%20%20%20%20%20%20var%20html_733409957a8944b89d526ed947c6196c%20%3D%20%24%28%60%3Cdiv%20id%3D%22html_733409957a8944b89d526ed947c6196c%22%20style%3D%22width%3A%20100.0%25%3B%20height%3A%20100.0%25%3B%22%3EHayes%20Valley/Tenderloin/North%20of%20Market%3C/div%3E%60%29%5B0%5D%3B%0A%20%20%20%20%20%20%20%20%20%20%20%20%20%20%20%20popup_78f6f350fd0a40d0aceddaa776635bbb.setContent%28html_733409957a8944b89d526ed947c6196c%29%3B%0A%20%20%20%20%20%20%20%20%20%20%20%20%0A%0A%20%20%20%20%20%20%20%20%20%20%20%20circle_marker_b87aecb18c5f48c4ad81ccbb5af0a95c.bindPopup%28popup_78f6f350fd0a40d0aceddaa776635bbb%29%0A%20%20%20%20%20%20%20%20%20%20%20%20%3B%0A%0A%20%20%20%20%20%20%20%20%20%20%20%20%0A%20%20%20%20%20%20%20%20%0A%20%20%20%20%0A%20%20%20%20%20%20%20%20%20%20%20%20var%20circle_marker_ce9c53b7dbd44ec0a1334f4bf1a05815%20%3D%20L.circleMarker%28%0A%20%20%20%20%20%20%20%20%20%20%20%20%20%20%20%20%5B37.777570000000026%2C%20-122.40434999999997%5D%2C%0A%20%20%20%20%20%20%20%20%20%20%20%20%20%20%20%20%7B%0A%20%20%22bubblingMouseEvents%22%3A%20true%2C%0A%20%20%22color%22%3A%20%22blue%22%2C%0A%20%20%22dashArray%22%3A%20null%2C%0A%20%20%22dashOffset%22%3A%20null%2C%0A%20%20%22fill%22%3A%20true%2C%0A%20%20%22fillColor%22%3A%20%22%233186cc%22%2C%0A%20%20%22fillOpacity%22%3A%200.7%2C%0A%20%20%22fillRule%22%3A%20%22evenodd%22%2C%0A%20%20%22lineCap%22%3A%20%22round%22%2C%0A%20%20%22lineJoin%22%3A%20%22round%22%2C%0A%20%20%22opacity%22%3A%201.0%2C%0A%20%20%22radius%22%3A%205%2C%0A%20%20%22stroke%22%3A%20true%2C%0A%20%20%22weight%22%3A%203%0A%7D%0A%20%20%20%20%20%20%20%20%20%20%20%20%20%20%20%20%29%0A%20%20%20%20%20%20%20%20%20%20%20%20%20%20%20%20.addTo%28map_5451150abfe34573ac2ca13006f28229%29%3B%0A%20%20%20%20%20%20%20%20%20%20%20%20%0A%20%20%20%20%0A%20%20%20%20%20%20%20%20%20%20%20%20var%20popup_31990f097fe94a4d9d4933e319d1900d%20%3D%20L.popup%28%7BmaxWidth%3A%20%27100%25%27%0A%20%20%20%20%20%20%20%20%20%20%20%20%0A%20%20%20%20%20%20%20%20%20%20%20%20%7D%29%3B%0A%0A%20%20%20%20%20%20%20%20%20%20%20%20%0A%20%20%20%20%20%20%20%20%20%20%20%20%20%20%20%20var%20html_02ed7cdf4b634aabb486f0caab3b2819%20%3D%20%24%28%60%3Cdiv%20id%3D%22html_02ed7cdf4b634aabb486f0caab3b2819%22%20style%3D%22width%3A%20100.0%25%3B%20height%3A%20100.0%25%3B%22%3ESouth%20of%20Market%3C/div%3E%60%29%5B0%5D%3B%0A%20%20%20%20%20%20%20%20%20%20%20%20%20%20%20%20popup_31990f097fe94a4d9d4933e319d1900d.setContent%28html_02ed7cdf4b634aabb486f0caab3b2819%29%3B%0A%20%20%20%20%20%20%20%20%20%20%20%20%0A%0A%20%20%20%20%20%20%20%20%20%20%20%20circle_marker_ce9c53b7dbd44ec0a1334f4bf1a05815.bindPopup%28popup_31990f097fe94a4d9d4933e319d1900d%29%0A%20%20%20%20%20%20%20%20%20%20%20%20%3B%0A%0A%20%20%20%20%20%20%20%20%20%20%20%20%0A%20%20%20%20%20%20%20%20%0A%20%20%20%20%0A%20%20%20%20%20%20%20%20%20%20%20%20var%20circle_marker_172a58ac06e640f9a7978f23119d0454%20%3D%20L.circleMarker%28%0A%20%20%20%20%20%20%20%20%20%20%20%20%20%20%20%20%5B37.75660000000005%2C%20-122.39913999999999%5D%2C%0A%20%20%20%20%20%20%20%20%20%20%20%20%20%20%20%20%7B%0A%20%20%22bubblingMouseEvents%22%3A%20true%2C%0A%20%20%22color%22%3A%20%22blue%22%2C%0A%20%20%22dashArray%22%3A%20null%2C%0A%20%20%22dashOffset%22%3A%20null%2C%0A%20%20%22fill%22%3A%20true%2C%0A%20%20%22fillColor%22%3A%20%22%233186cc%22%2C%0A%20%20%22fillOpacity%22%3A%200.7%2C%0A%20%20%22fillRule%22%3A%20%22evenodd%22%2C%0A%20%20%22lineCap%22%3A%20%22round%22%2C%0A%20%20%22lineJoin%22%3A%20%22round%22%2C%0A%20%20%22opacity%22%3A%201.0%2C%0A%20%20%22radius%22%3A%205%2C%0A%20%20%22stroke%22%3A%20true%2C%0A%20%20%22weight%22%3A%203%0A%7D%0A%20%20%20%20%20%20%20%20%20%20%20%20%20%20%20%20%29%0A%20%20%20%20%20%20%20%20%20%20%20%20%20%20%20%20.addTo%28map_5451150abfe34573ac2ca13006f28229%29%3B%0A%20%20%20%20%20%20%20%20%20%20%20%20%0A%20%20%20%20%0A%20%20%20%20%20%20%20%20%20%20%20%20var%20popup_4cecb375f34042849505214a4ff3b9a7%20%3D%20L.popup%28%7BmaxWidth%3A%20%27100%25%27%0A%20%20%20%20%20%20%20%20%20%20%20%20%0A%20%20%20%20%20%20%20%20%20%20%20%20%7D%29%3B%0A%0A%20%20%20%20%20%20%20%20%20%20%20%20%0A%20%20%20%20%20%20%20%20%20%20%20%20%20%20%20%20var%20html_82231d2710d54df1a9375f58bc14f287%20%3D%20%24%28%60%3Cdiv%20id%3D%22html_82231d2710d54df1a9375f58bc14f287%22%20style%3D%22width%3A%20100.0%25%3B%20height%3A%20100.0%25%3B%22%3EPotrero%20Hill%3C/div%3E%60%29%5B0%5D%3B%0A%20%20%20%20%20%20%20%20%20%20%20%20%20%20%20%20popup_4cecb375f34042849505214a4ff3b9a7.setContent%28html_82231d2710d54df1a9375f58bc14f287%29%3B%0A%20%20%20%20%20%20%20%20%20%20%20%20%0A%0A%20%20%20%20%20%20%20%20%20%20%20%20circle_marker_172a58ac06e640f9a7978f23119d0454.bindPopup%28popup_4cecb375f34042849505214a4ff3b9a7%29%0A%20%20%20%20%20%20%20%20%20%20%20%20%3B%0A%0A%20%20%20%20%20%20%20%20%20%20%20%20%0A%20%20%20%20%20%20%20%20%0A%20%20%20%20%0A%20%20%20%20%20%20%20%20%20%20%20%20var%20circle_marker_2a003c499c2d472eb034bc5b21d4f915%20%3D%20L.circleMarker%28%0A%20%20%20%20%20%20%20%20%20%20%20%20%20%20%20%20%5B37.795390000000054%2C%20-122.40811999999994%5D%2C%0A%20%20%20%20%20%20%20%20%20%20%20%20%20%20%20%20%7B%0A%20%20%22bubblingMouseEvents%22%3A%20true%2C%0A%20%20%22color%22%3A%20%22blue%22%2C%0A%20%20%22dashArray%22%3A%20null%2C%0A%20%20%22dashOffset%22%3A%20null%2C%0A%20%20%22fill%22%3A%20true%2C%0A%20%20%22fillColor%22%3A%20%22%233186cc%22%2C%0A%20%20%22fillOpacity%22%3A%200.7%2C%0A%20%20%22fillRule%22%3A%20%22evenodd%22%2C%0A%20%20%22lineCap%22%3A%20%22round%22%2C%0A%20%20%22lineJoin%22%3A%20%22round%22%2C%0A%20%20%22opacity%22%3A%201.0%2C%0A%20%20%22radius%22%3A%205%2C%0A%20%20%22stroke%22%3A%20true%2C%0A%20%20%22weight%22%3A%203%0A%7D%0A%20%20%20%20%20%20%20%20%20%20%20%20%20%20%20%20%29%0A%20%20%20%20%20%20%20%20%20%20%20%20%20%20%20%20.addTo%28map_5451150abfe34573ac2ca13006f28229%29%3B%0A%20%20%20%20%20%20%20%20%20%20%20%20%0A%20%20%20%20%0A%20%20%20%20%20%20%20%20%20%20%20%20var%20popup_199309ce11e34b6b8a986b82297d93a8%20%3D%20L.popup%28%7BmaxWidth%3A%20%27100%25%27%0A%20%20%20%20%20%20%20%20%20%20%20%20%0A%20%20%20%20%20%20%20%20%20%20%20%20%7D%29%3B%0A%0A%20%20%20%20%20%20%20%20%20%20%20%20%0A%20%20%20%20%20%20%20%20%20%20%20%20%20%20%20%20var%20html_31f03d7e074f4700a9b69010e0ba1b82%20%3D%20%24%28%60%3Cdiv%20id%3D%22html_31f03d7e074f4700a9b69010e0ba1b82%22%20style%3D%22width%3A%20100.0%25%3B%20height%3A%20100.0%25%3B%22%3EChinatown%3C/div%3E%60%29%5B0%5D%3B%0A%20%20%20%20%20%20%20%20%20%20%20%20%20%20%20%20popup_199309ce11e34b6b8a986b82297d93a8.setContent%28html_31f03d7e074f4700a9b69010e0ba1b82%29%3B%0A%20%20%20%20%20%20%20%20%20%20%20%20%0A%0A%20%20%20%20%20%20%20%20%20%20%20%20circle_marker_2a003c499c2d472eb034bc5b21d4f915.bindPopup%28popup_199309ce11e34b6b8a986b82297d93a8%29%0A%20%20%20%20%20%20%20%20%20%20%20%20%3B%0A%0A%20%20%20%20%20%20%20%20%20%20%20%20%0A%20%20%20%20%20%20%20%20%0A%20%20%20%20%0A%20%20%20%20%20%20%20%20%20%20%20%20var%20circle_marker_4ede4850daba4e12967afc9581c24330%20%3D%20L.circleMarker%28%0A%20%20%20%20%20%20%20%20%20%20%20%20%20%20%20%20%5B37.80203000000006%2C%20-122.41962999999998%5D%2C%0A%20%20%20%20%20%20%20%20%20%20%20%20%20%20%20%20%7B%0A%20%20%22bubblingMouseEvents%22%3A%20true%2C%0A%20%20%22color%22%3A%20%22blue%22%2C%0A%20%20%22dashArray%22%3A%20null%2C%0A%20%20%22dashOffset%22%3A%20null%2C%0A%20%20%22fill%22%3A%20true%2C%0A%20%20%22fillColor%22%3A%20%22%233186cc%22%2C%0A%20%20%22fillOpacity%22%3A%200.7%2C%0A%20%20%22fillRule%22%3A%20%22evenodd%22%2C%0A%20%20%22lineCap%22%3A%20%22round%22%2C%0A%20%20%22lineJoin%22%3A%20%22round%22%2C%0A%20%20%22opacity%22%3A%201.0%2C%0A%20%20%22radius%22%3A%205%2C%0A%20%20%22stroke%22%3A%20true%2C%0A%20%20%22weight%22%3A%203%0A%7D%0A%20%20%20%20%20%20%20%20%20%20%20%20%20%20%20%20%29%0A%20%20%20%20%20%20%20%20%20%20%20%20%20%20%20%20.addTo%28map_5451150abfe34573ac2ca13006f28229%29%3B%0A%20%20%20%20%20%20%20%20%20%20%20%20%0A%20%20%20%20%0A%20%20%20%20%20%20%20%20%20%20%20%20var%20popup_28a9f09ce0364ff7893261d14563e5ea%20%3D%20L.popup%28%7BmaxWidth%3A%20%27100%25%27%0A%20%20%20%20%20%20%20%20%20%20%20%20%0A%20%20%20%20%20%20%20%20%20%20%20%20%7D%29%3B%0A%0A%20%20%20%20%20%20%20%20%20%20%20%20%0A%20%20%20%20%20%20%20%20%20%20%20%20%20%20%20%20var%20html_8473df4e70c34f6cb58f3c316acafa62%20%3D%20%24%28%60%3Cdiv%20id%3D%22html_8473df4e70c34f6cb58f3c316acafa62%22%20style%3D%22width%3A%20100.0%25%3B%20height%3A%20100.0%25%3B%22%3EPolk/Russian%20Hill%20%28Nob%20Hill%29%3C/div%3E%60%29%5B0%5D%3B%0A%20%20%20%20%20%20%20%20%20%20%20%20%20%20%20%20popup_28a9f09ce0364ff7893261d14563e5ea.setContent%28html_8473df4e70c34f6cb58f3c316acafa62%29%3B%0A%20%20%20%20%20%20%20%20%20%20%20%20%0A%0A%20%20%20%20%20%20%20%20%20%20%20%20circle_marker_4ede4850daba4e12967afc9581c24330.bindPopup%28popup_28a9f09ce0364ff7893261d14563e5ea%29%0A%20%20%20%20%20%20%20%20%20%20%20%20%3B%0A%0A%20%20%20%20%20%20%20%20%20%20%20%20%0A%20%20%20%20%20%20%20%20%0A%20%20%20%20%0A%20%20%20%20%20%20%20%20%20%20%20%20var%20circle_marker_706a54f5975e443ca919076a3090c6a0%20%3D%20L.circleMarker%28%0A%20%20%20%20%20%20%20%20%20%20%20%20%20%20%20%20%5B37.741997438926944%2C%20-122.42222095946559%5D%2C%0A%20%20%20%20%20%20%20%20%20%20%20%20%20%20%20%20%7B%0A%20%20%22bubblingMouseEvents%22%3A%20true%2C%0A%20%20%22color%22%3A%20%22blue%22%2C%0A%20%20%22dashArray%22%3A%20null%2C%0A%20%20%22dashOffset%22%3A%20null%2C%0A%20%20%22fill%22%3A%20true%2C%0A%20%20%22fillColor%22%3A%20%22%233186cc%22%2C%0A%20%20%22fillOpacity%22%3A%200.7%2C%0A%20%20%22fillRule%22%3A%20%22evenodd%22%2C%0A%20%20%22lineCap%22%3A%20%22round%22%2C%0A%20%20%22lineJoin%22%3A%20%22round%22%2C%0A%20%20%22opacity%22%3A%201.0%2C%0A%20%20%22radius%22%3A%205%2C%0A%20%20%22stroke%22%3A%20true%2C%0A%20%20%22weight%22%3A%203%0A%7D%0A%20%20%20%20%20%20%20%20%20%20%20%20%20%20%20%20%29%0A%20%20%20%20%20%20%20%20%20%20%20%20%20%20%20%20.addTo%28map_5451150abfe34573ac2ca13006f28229%29%3B%0A%20%20%20%20%20%20%20%20%20%20%20%20%0A%20%20%20%20%0A%20%20%20%20%20%20%20%20%20%20%20%20var%20popup_7e2bed929d8648858dc7badecf0b0c48%20%3D%20L.popup%28%7BmaxWidth%3A%20%27100%25%27%0A%20%20%20%20%20%20%20%20%20%20%20%20%0A%20%20%20%20%20%20%20%20%20%20%20%20%7D%29%3B%0A%0A%20%20%20%20%20%20%20%20%20%20%20%20%0A%20%20%20%20%20%20%20%20%20%20%20%20%20%20%20%20var%20html_8c8e74606eaa4bc7a5edbd093c8c13de%20%3D%20%24%28%60%3Cdiv%20id%3D%22html_8c8e74606eaa4bc7a5edbd093c8c13de%22%20style%3D%22width%3A%20100.0%25%3B%20height%3A%20100.0%25%3B%22%3EInner%20Mission/Bernal%20Heights%3C/div%3E%60%29%5B0%5D%3B%0A%20%20%20%20%20%20%20%20%20%20%20%20%20%20%20%20popup_7e2bed929d8648858dc7badecf0b0c48.setContent%28html_8c8e74606eaa4bc7a5edbd093c8c13de%29%3B%0A%20%20%20%20%20%20%20%20%20%20%20%20%0A%0A%20%20%20%20%20%20%20%20%20%20%20%20circle_marker_706a54f5975e443ca919076a3090c6a0.bindPopup%28popup_7e2bed929d8648858dc7badecf0b0c48%29%0A%20%20%20%20%20%20%20%20%20%20%20%20%3B%0A%0A%20%20%20%20%20%20%20%20%20%20%20%20%0A%20%20%20%20%20%20%20%20%0A%20%20%20%20%0A%20%20%20%20%20%20%20%20%20%20%20%20var%20circle_marker_a8c1d730aeec4edfa073999f987a60b8%20%3D%20L.circleMarker%28%0A%20%20%20%20%20%20%20%20%20%20%20%20%20%20%20%20%5B37.71088000000003%2C%20-122.43769999999995%5D%2C%0A%20%20%20%20%20%20%20%20%20%20%20%20%20%20%20%20%7B%0A%20%20%22bubblingMouseEvents%22%3A%20true%2C%0A%20%20%22color%22%3A%20%22blue%22%2C%0A%20%20%22dashArray%22%3A%20null%2C%0A%20%20%22dashOffset%22%3A%20null%2C%0A%20%20%22fill%22%3A%20true%2C%0A%20%20%22fillColor%22%3A%20%22%233186cc%22%2C%0A%20%20%22fillOpacity%22%3A%200.7%2C%0A%20%20%22fillRule%22%3A%20%22evenodd%22%2C%0A%20%20%22lineCap%22%3A%20%22round%22%2C%0A%20%20%22lineJoin%22%3A%20%22round%22%2C%0A%20%20%22opacity%22%3A%201.0%2C%0A%20%20%22radius%22%3A%205%2C%0A%20%20%22stroke%22%3A%20true%2C%0A%20%20%22weight%22%3A%203%0A%7D%0A%20%20%20%20%20%20%20%20%20%20%20%20%20%20%20%20%29%0A%20%20%20%20%20%20%20%20%20%20%20%20%20%20%20%20.addTo%28map_5451150abfe34573ac2ca13006f28229%29%3B%0A%20%20%20%20%20%20%20%20%20%20%20%20%0A%20%20%20%20%0A%20%20%20%20%20%20%20%20%20%20%20%20var%20popup_16028f975b48452d9084d83fa1520d88%20%3D%20L.popup%28%7BmaxWidth%3A%20%27100%25%27%0A%20%20%20%20%20%20%20%20%20%20%20%20%0A%20%20%20%20%20%20%20%20%20%20%20%20%7D%29%3B%0A%0A%20%20%20%20%20%20%20%20%20%20%20%20%0A%20%20%20%20%20%20%20%20%20%20%20%20%20%20%20%20var%20html_fabaa5f4a7374243aa0c513e0429bcb9%20%3D%20%24%28%60%3Cdiv%20id%3D%22html_fabaa5f4a7374243aa0c513e0429bcb9%22%20style%3D%22width%3A%20100.0%25%3B%20height%3A%20100.0%25%3B%22%3EIngelside-Excelsior/Crocker-Amazon%3C/div%3E%60%29%5B0%5D%3B%0A%20%20%20%20%20%20%20%20%20%20%20%20%20%20%20%20popup_16028f975b48452d9084d83fa1520d88.setContent%28html_fabaa5f4a7374243aa0c513e0429bcb9%29%3B%0A%20%20%20%20%20%20%20%20%20%20%20%20%0A%0A%20%20%20%20%20%20%20%20%20%20%20%20circle_marker_a8c1d730aeec4edfa073999f987a60b8.bindPopup%28popup_16028f975b48452d9084d83fa1520d88%29%0A%20%20%20%20%20%20%20%20%20%20%20%20%3B%0A%0A%20%20%20%20%20%20%20%20%20%20%20%20%0A%20%20%20%20%20%20%20%20%0A%20%20%20%20%0A%20%20%20%20%20%20%20%20%20%20%20%20var%20circle_marker_95d76283a5bd47d49da127a43f5557e8%20%3D%20L.circleMarker%28%0A%20%20%20%20%20%20%20%20%20%20%20%20%20%20%20%20%5B37.747315835736856%2C%20-122.4336933819572%5D%2C%0A%20%20%20%20%20%20%20%20%20%20%20%20%20%20%20%20%7B%0A%20%20%22bubblingMouseEvents%22%3A%20true%2C%0A%20%20%22color%22%3A%20%22blue%22%2C%0A%20%20%22dashArray%22%3A%20null%2C%0A%20%20%22dashOffset%22%3A%20null%2C%0A%20%20%22fill%22%3A%20true%2C%0A%20%20%22fillColor%22%3A%20%22%233186cc%22%2C%0A%20%20%22fillOpacity%22%3A%200.7%2C%0A%20%20%22fillRule%22%3A%20%22evenodd%22%2C%0A%20%20%22lineCap%22%3A%20%22round%22%2C%0A%20%20%22lineJoin%22%3A%20%22round%22%2C%0A%20%20%22opacity%22%3A%201.0%2C%0A%20%20%22radius%22%3A%205%2C%0A%20%20%22stroke%22%3A%20true%2C%0A%20%20%22weight%22%3A%203%0A%7D%0A%20%20%20%20%20%20%20%20%20%20%20%20%20%20%20%20%29%0A%20%20%20%20%20%20%20%20%20%20%20%20%20%20%20%20.addTo%28map_5451150abfe34573ac2ca13006f28229%29%3B%0A%20%20%20%20%20%20%20%20%20%20%20%20%0A%20%20%20%20%0A%20%20%20%20%20%20%20%20%20%20%20%20var%20popup_af75a1d4dfd84446892dbcd2b1df3c45%20%3D%20L.popup%28%7BmaxWidth%3A%20%27100%25%27%0A%20%20%20%20%20%20%20%20%20%20%20%20%0A%20%20%20%20%20%20%20%20%20%20%20%20%7D%29%3B%0A%0A%20%20%20%20%20%20%20%20%20%20%20%20%0A%20%20%20%20%20%20%20%20%20%20%20%20%20%20%20%20var%20html_a699577f0d4d4022ac971f2f097d3f9f%20%3D%20%24%28%60%3Cdiv%20id%3D%22html_a699577f0d4d4022ac971f2f097d3f9f%22%20style%3D%22width%3A%20100.0%25%3B%20height%3A%20100.0%25%3B%22%3ECastro/Noe%20Valley%3C/div%3E%60%29%5B0%5D%3B%0A%20%20%20%20%20%20%20%20%20%20%20%20%20%20%20%20popup_af75a1d4dfd84446892dbcd2b1df3c45.setContent%28html_a699577f0d4d4022ac971f2f097d3f9f%29%3B%0A%20%20%20%20%20%20%20%20%20%20%20%20%0A%0A%20%20%20%20%20%20%20%20%20%20%20%20circle_marker_95d76283a5bd47d49da127a43f5557e8.bindPopup%28popup_af75a1d4dfd84446892dbcd2b1df3c45%29%0A%20%20%20%20%20%20%20%20%20%20%20%20%3B%0A%0A%20%20%20%20%20%20%20%20%20%20%20%20%0A%20%20%20%20%20%20%20%20%0A%20%20%20%20%0A%20%20%20%20%20%20%20%20%20%20%20%20var%20circle_marker_a665799f8f344e14ad63cbfa336a8d8f%20%3D%20L.circleMarker%28%0A%20%20%20%20%20%20%20%20%20%20%20%20%20%20%20%20%5B37.780950000000075%2C%20-122.43221999999997%5D%2C%0A%20%20%20%20%20%20%20%20%20%20%20%20%20%20%20%20%7B%0A%20%20%22bubblingMouseEvents%22%3A%20true%2C%0A%20%20%22color%22%3A%20%22blue%22%2C%0A%20%20%22dashArray%22%3A%20null%2C%0A%20%20%22dashOffset%22%3A%20null%2C%0A%20%20%22fill%22%3A%20true%2C%0A%20%20%22fillColor%22%3A%20%22%233186cc%22%2C%0A%20%20%22fillOpacity%22%3A%200.7%2C%0A%20%20%22fillRule%22%3A%20%22evenodd%22%2C%0A%20%20%22lineCap%22%3A%20%22round%22%2C%0A%20%20%22lineJoin%22%3A%20%22round%22%2C%0A%20%20%22opacity%22%3A%201.0%2C%0A%20%20%22radius%22%3A%205%2C%0A%20%20%22stroke%22%3A%20true%2C%0A%20%20%22weight%22%3A%203%0A%7D%0A%20%20%20%20%20%20%20%20%20%20%20%20%20%20%20%20%29%0A%20%20%20%20%20%20%20%20%20%20%20%20%20%20%20%20.addTo%28map_5451150abfe34573ac2ca13006f28229%29%3B%0A%20%20%20%20%20%20%20%20%20%20%20%20%0A%20%20%20%20%0A%20%20%20%20%20%20%20%20%20%20%20%20var%20popup_41e3cd0191c044ddad765b94f2ac5f0f%20%3D%20L.popup%28%7BmaxWidth%3A%20%27100%25%27%0A%20%20%20%20%20%20%20%20%20%20%20%20%0A%20%20%20%20%20%20%20%20%20%20%20%20%7D%29%3B%0A%0A%20%20%20%20%20%20%20%20%20%20%20%20%0A%20%20%20%20%20%20%20%20%20%20%20%20%20%20%20%20var%20html_6c29f9fd829e4d4e92dd9d867d977237%20%3D%20%24%28%60%3Cdiv%20id%3D%22html_6c29f9fd829e4d4e92dd9d867d977237%22%20style%3D%22width%3A%20100.0%25%3B%20height%3A%20100.0%25%3B%22%3EWestern%20Addition/Japantown%3C/div%3E%60%29%5B0%5D%3B%0A%20%20%20%20%20%20%20%20%20%20%20%20%20%20%20%20popup_41e3cd0191c044ddad765b94f2ac5f0f.setContent%28html_6c29f9fd829e4d4e92dd9d867d977237%29%3B%0A%20%20%20%20%20%20%20%20%20%20%20%20%0A%0A%20%20%20%20%20%20%20%20%20%20%20%20circle_marker_a665799f8f344e14ad63cbfa336a8d8f.bindPopup%28popup_41e3cd0191c044ddad765b94f2ac5f0f%29%0A%20%20%20%20%20%20%20%20%20%20%20%20%3B%0A%0A%20%20%20%20%20%20%20%20%20%20%20%20%0A%20%20%20%20%20%20%20%20%0A%20%20%20%20%0A%20%20%20%20%20%20%20%20%20%20%20%20var%20circle_marker_3b1f6d70a8d24e1d97d89d37999113d7%20%3D%20L.circleMarker%28%0A%20%20%20%20%20%20%20%20%20%20%20%20%20%20%20%20%5B37.74817000000007%2C%20-122.46410999999995%5D%2C%0A%20%20%20%20%20%20%20%20%20%20%20%20%20%20%20%20%7B%0A%20%20%22bubblingMouseEvents%22%3A%20true%2C%0A%20%20%22color%22%3A%20%22blue%22%2C%0A%20%20%22dashArray%22%3A%20null%2C%0A%20%20%22dashOffset%22%3A%20null%2C%0A%20%20%22fill%22%3A%20true%2C%0A%20%20%22fillColor%22%3A%20%22%233186cc%22%2C%0A%20%20%22fillOpacity%22%3A%200.7%2C%0A%20%20%22fillRule%22%3A%20%22evenodd%22%2C%0A%20%20%22lineCap%22%3A%20%22round%22%2C%0A%20%20%22lineJoin%22%3A%20%22round%22%2C%0A%20%20%22opacity%22%3A%201.0%2C%0A%20%20%22radius%22%3A%205%2C%0A%20%20%22stroke%22%3A%20true%2C%0A%20%20%22weight%22%3A%203%0A%7D%0A%20%20%20%20%20%20%20%20%20%20%20%20%20%20%20%20%29%0A%20%20%20%20%20%20%20%20%20%20%20%20%20%20%20%20.addTo%28map_5451150abfe34573ac2ca13006f28229%29%3B%0A%20%20%20%20%20%20%20%20%20%20%20%20%0A%20%20%20%20%0A%20%20%20%20%20%20%20%20%20%20%20%20var%20popup_59cdc09fd7e64242919b345d4bd3bc7e%20%3D%20L.popup%28%7BmaxWidth%3A%20%27100%25%27%0A%20%20%20%20%20%20%20%20%20%20%20%20%0A%20%20%20%20%20%20%20%20%20%20%20%20%7D%29%3B%0A%0A%20%20%20%20%20%20%20%20%20%20%20%20%0A%20%20%20%20%20%20%20%20%20%20%20%20%20%20%20%20var%20html_84eb610e8a244dbc94f2a53bc6c4ab63%20%3D%20%24%28%60%3Cdiv%20id%3D%22html_84eb610e8a244dbc94f2a53bc6c4ab63%22%20style%3D%22width%3A%20100.0%25%3B%20height%3A%20100.0%25%3B%22%3EParkside/Forest%20Hill%3C/div%3E%60%29%5B0%5D%3B%0A%20%20%20%20%20%20%20%20%20%20%20%20%20%20%20%20popup_59cdc09fd7e64242919b345d4bd3bc7e.setContent%28html_84eb610e8a244dbc94f2a53bc6c4ab63%29%3B%0A%20%20%20%20%20%20%20%20%20%20%20%20%0A%0A%20%20%20%20%20%20%20%20%20%20%20%20circle_marker_3b1f6d70a8d24e1d97d89d37999113d7.bindPopup%28popup_59cdc09fd7e64242919b345d4bd3bc7e%29%0A%20%20%20%20%20%20%20%20%20%20%20%20%3B%0A%0A%20%20%20%20%20%20%20%20%20%20%20%20%0A%20%20%20%20%20%20%20%20%0A%20%20%20%20%0A%20%20%20%20%20%20%20%20%20%20%20%20var%20circle_marker_098ce6bfe6804083a74cf5f1eddbf28e%20%3D%20L.circleMarker%28%0A%20%20%20%20%20%20%20%20%20%20%20%20%20%20%20%20%5B37.769930000000045%2C%20-122.44691999999998%5D%2C%0A%20%20%20%20%20%20%20%20%20%20%20%20%20%20%20%20%7B%0A%20%20%22bubblingMouseEvents%22%3A%20true%2C%0A%20%20%22color%22%3A%20%22blue%22%2C%0A%20%20%22dashArray%22%3A%20null%2C%0A%20%20%22dashOffset%22%3A%20null%2C%0A%20%20%22fill%22%3A%20true%2C%0A%20%20%22fillColor%22%3A%20%22%233186cc%22%2C%0A%20%20%22fillOpacity%22%3A%200.7%2C%0A%20%20%22fillRule%22%3A%20%22evenodd%22%2C%0A%20%20%22lineCap%22%3A%20%22round%22%2C%0A%20%20%22lineJoin%22%3A%20%22round%22%2C%0A%20%20%22opacity%22%3A%201.0%2C%0A%20%20%22radius%22%3A%205%2C%0A%20%20%22stroke%22%3A%20true%2C%0A%20%20%22weight%22%3A%203%0A%7D%0A%20%20%20%20%20%20%20%20%20%20%20%20%20%20%20%20%29%0A%20%20%20%20%20%20%20%20%20%20%20%20%20%20%20%20.addTo%28map_5451150abfe34573ac2ca13006f28229%29%3B%0A%20%20%20%20%20%20%20%20%20%20%20%20%0A%20%20%20%20%0A%20%20%20%20%20%20%20%20%20%20%20%20var%20popup_c11bfb61f2854b7c91717f72d51c9c85%20%3D%20L.popup%28%7BmaxWidth%3A%20%27100%25%27%0A%20%20%20%20%20%20%20%20%20%20%20%20%0A%20%20%20%20%20%20%20%20%20%20%20%20%7D%29%3B%0A%0A%20%20%20%20%20%20%20%20%20%20%20%20%0A%20%20%20%20%20%20%20%20%20%20%20%20%20%20%20%20var%20html_40b9e240727346af8f9eb4ea4bee14c8%20%3D%20%24%28%60%3Cdiv%20id%3D%22html_40b9e240727346af8f9eb4ea4bee14c8%22%20style%3D%22width%3A%20100.0%25%3B%20height%3A%20100.0%25%3B%22%3EHaight-Ashbury%3C/div%3E%60%29%5B0%5D%3B%0A%20%20%20%20%20%20%20%20%20%20%20%20%20%20%20%20popup_c11bfb61f2854b7c91717f72d51c9c85.setContent%28html_40b9e240727346af8f9eb4ea4bee14c8%29%3B%0A%20%20%20%20%20%20%20%20%20%20%20%20%0A%0A%20%20%20%20%20%20%20%20%20%20%20%20circle_marker_098ce6bfe6804083a74cf5f1eddbf28e.bindPopup%28popup_c11bfb61f2854b7c91717f72d51c9c85%29%0A%20%20%20%20%20%20%20%20%20%20%20%20%3B%0A%0A%20%20%20%20%20%20%20%20%20%20%20%20%0A%20%20%20%20%20%20%20%20%0A%20%20%20%20%0A%20%20%20%20%20%20%20%20%20%20%20%20var%20circle_marker_78ca7b04c06b4aefbb634a1961a5460b%20%3D%20L.circleMarker%28%0A%20%20%20%20%20%20%20%20%20%20%20%20%20%20%20%20%5B37.78090000000003%2C%20-122.46555999999998%5D%2C%0A%20%20%20%20%20%20%20%20%20%20%20%20%20%20%20%20%7B%0A%20%20%22bubblingMouseEvents%22%3A%20true%2C%0A%20%20%22color%22%3A%20%22blue%22%2C%0A%20%20%22dashArray%22%3A%20null%2C%0A%20%20%22dashOffset%22%3A%20null%2C%0A%20%20%22fill%22%3A%20true%2C%0A%20%20%22fillColor%22%3A%20%22%233186cc%22%2C%0A%20%20%22fillOpacity%22%3A%200.7%2C%0A%20%20%22fillRule%22%3A%20%22evenodd%22%2C%0A%20%20%22lineCap%22%3A%20%22round%22%2C%0A%20%20%22lineJoin%22%3A%20%22round%22%2C%0A%20%20%22opacity%22%3A%201.0%2C%0A%20%20%22radius%22%3A%205%2C%0A%20%20%22stroke%22%3A%20true%2C%0A%20%20%22weight%22%3A%203%0A%7D%0A%20%20%20%20%20%20%20%20%20%20%20%20%20%20%20%20%29%0A%20%20%20%20%20%20%20%20%20%20%20%20%20%20%20%20.addTo%28map_5451150abfe34573ac2ca13006f28229%29%3B%0A%20%20%20%20%20%20%20%20%20%20%20%20%0A%20%20%20%20%0A%20%20%20%20%20%20%20%20%20%20%20%20var%20popup_d430e4a5c7144f5d8c6494398c526f46%20%3D%20L.popup%28%7BmaxWidth%3A%20%27100%25%27%0A%20%20%20%20%20%20%20%20%20%20%20%20%0A%20%20%20%20%20%20%20%20%20%20%20%20%7D%29%3B%0A%0A%20%20%20%20%20%20%20%20%20%20%20%20%0A%20%20%20%20%20%20%20%20%20%20%20%20%20%20%20%20var%20html_3594650ddb3d4f25b929793ed0fa5a15%20%3D%20%24%28%60%3Cdiv%20id%3D%22html_3594650ddb3d4f25b929793ed0fa5a15%22%20style%3D%22width%3A%20100.0%25%3B%20height%3A%20100.0%25%3B%22%3EInner%20Richmond%3C/div%3E%60%29%5B0%5D%3B%0A%20%20%20%20%20%20%20%20%20%20%20%20%20%20%20%20popup_d430e4a5c7144f5d8c6494398c526f46.setContent%28html_3594650ddb3d4f25b929793ed0fa5a15%29%3B%0A%20%20%20%20%20%20%20%20%20%20%20%20%0A%0A%20%20%20%20%20%20%20%20%20%20%20%20circle_marker_78ca7b04c06b4aefbb634a1961a5460b.bindPopup%28popup_d430e4a5c7144f5d8c6494398c526f46%29%0A%20%20%20%20%20%20%20%20%20%20%20%20%3B%0A%0A%20%20%20%20%20%20%20%20%20%20%20%20%0A%20%20%20%20%20%20%20%20%0A%20%20%20%20%0A%20%20%20%20%20%20%20%20%20%20%20%20var%20circle_marker_0f2bd6a0edc147b7b7de1e28f308abd6%20%3D%20L.circleMarker%28%0A%20%20%20%20%20%20%20%20%20%20%20%20%20%20%20%20%5B37.77958000000007%2C%20-122.50240999999994%5D%2C%0A%20%20%20%20%20%20%20%20%20%20%20%20%20%20%20%20%7B%0A%20%20%22bubblingMouseEvents%22%3A%20true%2C%0A%20%20%22color%22%3A%20%22blue%22%2C%0A%20%20%22dashArray%22%3A%20null%2C%0A%20%20%22dashOffset%22%3A%20null%2C%0A%20%20%22fill%22%3A%20true%2C%0A%20%20%22fillColor%22%3A%20%22%233186cc%22%2C%0A%20%20%22fillOpacity%22%3A%200.7%2C%0A%20%20%22fillRule%22%3A%20%22evenodd%22%2C%0A%20%20%22lineCap%22%3A%20%22round%22%2C%0A%20%20%22lineJoin%22%3A%20%22round%22%2C%0A%20%20%22opacity%22%3A%201.0%2C%0A%20%20%22radius%22%3A%205%2C%0A%20%20%22stroke%22%3A%20true%2C%0A%20%20%22weight%22%3A%203%0A%7D%0A%20%20%20%20%20%20%20%20%20%20%20%20%20%20%20%20%29%0A%20%20%20%20%20%20%20%20%20%20%20%20%20%20%20%20.addTo%28map_5451150abfe34573ac2ca13006f28229%29%3B%0A%20%20%20%20%20%20%20%20%20%20%20%20%0A%20%20%20%20%0A%20%20%20%20%20%20%20%20%20%20%20%20var%20popup_c8e976cdcc874ad88a77a4aaccede734%20%3D%20L.popup%28%7BmaxWidth%3A%20%27100%25%27%0A%20%20%20%20%20%20%20%20%20%20%20%20%0A%20%20%20%20%20%20%20%20%20%20%20%20%7D%29%3B%0A%0A%20%20%20%20%20%20%20%20%20%20%20%20%0A%20%20%20%20%20%20%20%20%20%20%20%20%20%20%20%20var%20html_722ef809e4c6483f84f31dcdc4392728%20%3D%20%24%28%60%3Cdiv%20id%3D%22html_722ef809e4c6483f84f31dcdc4392728%22%20style%3D%22width%3A%20100.0%25%3B%20height%3A%20100.0%25%3B%22%3EOuter%20Richmond%3C/div%3E%60%29%5B0%5D%3B%0A%20%20%20%20%20%20%20%20%20%20%20%20%20%20%20%20popup_c8e976cdcc874ad88a77a4aaccede734.setContent%28html_722ef809e4c6483f84f31dcdc4392728%29%3B%0A%20%20%20%20%20%20%20%20%20%20%20%20%0A%0A%20%20%20%20%20%20%20%20%20%20%20%20circle_marker_0f2bd6a0edc147b7b7de1e28f308abd6.bindPopup%28popup_c8e976cdcc874ad88a77a4aaccede734%29%0A%20%20%20%20%20%20%20%20%20%20%20%20%3B%0A%0A%20%20%20%20%20%20%20%20%20%20%20%20%0A%20%20%20%20%20%20%20%20%0A%20%20%20%20%0A%20%20%20%20%20%20%20%20%20%20%20%20var%20circle_marker_e59a8503a60f48aa9e2115e926fb560b%20%3D%20L.circleMarker%28%0A%20%20%20%20%20%20%20%20%20%20%20%20%20%20%20%20%5B37.72962643128911%2C%20-122.49340523759045%5D%2C%0A%20%20%20%20%20%20%20%20%20%20%20%20%20%20%20%20%7B%0A%20%20%22bubblingMouseEvents%22%3A%20true%2C%0A%20%20%22color%22%3A%20%22blue%22%2C%0A%20%20%22dashArray%22%3A%20null%2C%0A%20%20%22dashOffset%22%3A%20null%2C%0A%20%20%22fill%22%3A%20true%2C%0A%20%20%22fillColor%22%3A%20%22%233186cc%22%2C%0A%20%20%22fillOpacity%22%3A%200.7%2C%0A%20%20%22fillRule%22%3A%20%22evenodd%22%2C%0A%20%20%22lineCap%22%3A%20%22round%22%2C%0A%20%20%22lineJoin%22%3A%20%22round%22%2C%0A%20%20%22opacity%22%3A%201.0%2C%0A%20%20%22radius%22%3A%205%2C%0A%20%20%22stroke%22%3A%20true%2C%0A%20%20%22weight%22%3A%203%0A%7D%0A%20%20%20%20%20%20%20%20%20%20%20%20%20%20%20%20%29%0A%20%20%20%20%20%20%20%20%20%20%20%20%20%20%20%20.addTo%28map_5451150abfe34573ac2ca13006f28229%29%3B%0A%20%20%20%20%20%20%20%20%20%20%20%20%0A%20%20%20%20%0A%20%20%20%20%20%20%20%20%20%20%20%20var%20popup_ecbd77e448824ff39ed3ccfec24b18d4%20%3D%20L.popup%28%7BmaxWidth%3A%20%27100%25%27%0A%20%20%20%20%20%20%20%20%20%20%20%20%0A%20%20%20%20%20%20%20%20%20%20%20%20%7D%29%3B%0A%0A%20%20%20%20%20%20%20%20%20%20%20%20%0A%20%20%20%20%20%20%20%20%20%20%20%20%20%20%20%20var%20html_67becbeb242d4c7799370066a98a9595%20%3D%20%24%28%60%3Cdiv%20id%3D%22html_67becbeb242d4c7799370066a98a9595%22%20style%3D%22width%3A%20100.0%25%3B%20height%3A%20100.0%25%3B%22%3ESunset%3C/div%3E%60%29%5B0%5D%3B%0A%20%20%20%20%20%20%20%20%20%20%20%20%20%20%20%20popup_ecbd77e448824ff39ed3ccfec24b18d4.setContent%28html_67becbeb242d4c7799370066a98a9595%29%3B%0A%20%20%20%20%20%20%20%20%20%20%20%20%0A%0A%20%20%20%20%20%20%20%20%20%20%20%20circle_marker_e59a8503a60f48aa9e2115e926fb560b.bindPopup%28popup_ecbd77e448824ff39ed3ccfec24b18d4%29%0A%20%20%20%20%20%20%20%20%20%20%20%20%3B%0A%0A%20%20%20%20%20%20%20%20%20%20%20%20%0A%20%20%20%20%20%20%20%20%0A%20%20%20%20%0A%20%20%20%20%20%20%20%20%20%20%20%20var%20circle_marker_12402328b79541e6bea279eb6e85fdaf%20%3D%20L.circleMarker%28%0A%20%20%20%20%20%20%20%20%20%20%20%20%20%20%20%20%5B37.80337000000003%2C%20-122.43692999999996%5D%2C%0A%20%20%20%20%20%20%20%20%20%20%20%20%20%20%20%20%7B%0A%20%20%22bubblingMouseEvents%22%3A%20true%2C%0A%20%20%22color%22%3A%20%22blue%22%2C%0A%20%20%22dashArray%22%3A%20null%2C%0A%20%20%22dashOffset%22%3A%20null%2C%0A%20%20%22fill%22%3A%20true%2C%0A%20%20%22fillColor%22%3A%20%22%233186cc%22%2C%0A%20%20%22fillOpacity%22%3A%200.7%2C%0A%20%20%22fillRule%22%3A%20%22evenodd%22%2C%0A%20%20%22lineCap%22%3A%20%22round%22%2C%0A%20%20%22lineJoin%22%3A%20%22round%22%2C%0A%20%20%22opacity%22%3A%201.0%2C%0A%20%20%22radius%22%3A%205%2C%0A%20%20%22stroke%22%3A%20true%2C%0A%20%20%22weight%22%3A%203%0A%7D%0A%20%20%20%20%20%20%20%20%20%20%20%20%20%20%20%20%29%0A%20%20%20%20%20%20%20%20%20%20%20%20%20%20%20%20.addTo%28map_5451150abfe34573ac2ca13006f28229%29%3B%0A%20%20%20%20%20%20%20%20%20%20%20%20%0A%20%20%20%20%0A%20%20%20%20%20%20%20%20%20%20%20%20var%20popup_a2cfe3d1e68a40d7989bd850897d8871%20%3D%20L.popup%28%7BmaxWidth%3A%20%27100%25%27%0A%20%20%20%20%20%20%20%20%20%20%20%20%0A%20%20%20%20%20%20%20%20%20%20%20%20%7D%29%3B%0A%0A%20%20%20%20%20%20%20%20%20%20%20%20%0A%20%20%20%20%20%20%20%20%20%20%20%20%20%20%20%20var%20html_6ca8ce974ed442c48765c45fec81572e%20%3D%20%24%28%60%3Cdiv%20id%3D%22html_6ca8ce974ed442c48765c45fec81572e%22%20style%3D%22width%3A%20100.0%25%3B%20height%3A%20100.0%25%3B%22%3EMarina%3C/div%3E%60%29%5B0%5D%3B%0A%20%20%20%20%20%20%20%20%20%20%20%20%20%20%20%20popup_a2cfe3d1e68a40d7989bd850897d8871.setContent%28html_6ca8ce974ed442c48765c45fec81572e%29%3B%0A%20%20%20%20%20%20%20%20%20%20%20%20%0A%0A%20%20%20%20%20%20%20%20%20%20%20%20circle_marker_12402328b79541e6bea279eb6e85fdaf.bindPopup%28popup_a2cfe3d1e68a40d7989bd850897d8871%29%0A%20%20%20%20%20%20%20%20%20%20%20%20%3B%0A%0A%20%20%20%20%20%20%20%20%20%20%20%20%0A%20%20%20%20%20%20%20%20%0A%20%20%20%20%0A%20%20%20%20%20%20%20%20%20%20%20%20var%20circle_marker_902536ee743e411195210df9b6839ee0%20%3D%20L.circleMarker%28%0A%20%20%20%20%20%20%20%20%20%20%20%20%20%20%20%20%5B37.72823400000004%2C%20-122.39380999999997%5D%2C%0A%20%20%20%20%20%20%20%20%20%20%20%20%20%20%20%20%7B%0A%20%20%22bubblingMouseEvents%22%3A%20true%2C%0A%20%20%22color%22%3A%20%22blue%22%2C%0A%20%20%22dashArray%22%3A%20null%2C%0A%20%20%22dashOffset%22%3A%20null%2C%0A%20%20%22fill%22%3A%20true%2C%0A%20%20%22fillColor%22%3A%20%22%233186cc%22%2C%0A%20%20%22fillOpacity%22%3A%200.7%2C%0A%20%20%22fillRule%22%3A%20%22evenodd%22%2C%0A%20%20%22lineCap%22%3A%20%22round%22%2C%0A%20%20%22lineJoin%22%3A%20%22round%22%2C%0A%20%20%22opacity%22%3A%201.0%2C%0A%20%20%22radius%22%3A%205%2C%0A%20%20%22stroke%22%3A%20true%2C%0A%20%20%22weight%22%3A%203%0A%7D%0A%20%20%20%20%20%20%20%20%20%20%20%20%20%20%20%20%29%0A%20%20%20%20%20%20%20%20%20%20%20%20%20%20%20%20.addTo%28map_5451150abfe34573ac2ca13006f28229%29%3B%0A%20%20%20%20%20%20%20%20%20%20%20%20%0A%20%20%20%20%0A%20%20%20%20%20%20%20%20%20%20%20%20var%20popup_9545bd24a95f41abaacb41abf36a0a59%20%3D%20L.popup%28%7BmaxWidth%3A%20%27100%25%27%0A%20%20%20%20%20%20%20%20%20%20%20%20%0A%20%20%20%20%20%20%20%20%20%20%20%20%7D%29%3B%0A%0A%20%20%20%20%20%20%20%20%20%20%20%20%0A%20%20%20%20%20%20%20%20%20%20%20%20%20%20%20%20var%20html_15cf1412d6f3468c8bdf4e74ad6ca134%20%3D%20%24%28%60%3Cdiv%20id%3D%22html_15cf1412d6f3468c8bdf4e74ad6ca134%22%20style%3D%22width%3A%20100.0%25%3B%20height%3A%20100.0%25%3B%22%3EBayview-Hunters%20Point%3C/div%3E%60%29%5B0%5D%3B%0A%20%20%20%20%20%20%20%20%20%20%20%20%20%20%20%20popup_9545bd24a95f41abaacb41abf36a0a59.setContent%28html_15cf1412d6f3468c8bdf4e74ad6ca134%29%3B%0A%20%20%20%20%20%20%20%20%20%20%20%20%0A%0A%20%20%20%20%20%20%20%20%20%20%20%20circle_marker_902536ee743e411195210df9b6839ee0.bindPopup%28popup_9545bd24a95f41abaacb41abf36a0a59%29%0A%20%20%20%20%20%20%20%20%20%20%20%20%3B%0A%0A%20%20%20%20%20%20%20%20%20%20%20%20%0A%20%20%20%20%20%20%20%20%0A%20%20%20%20%0A%20%20%20%20%20%20%20%20%20%20%20%20var%20circle_marker_80c489ca9d03438393f1bbcc75b1d072%20%3D%20L.circleMarker%28%0A%20%20%20%20%20%20%20%20%20%20%20%20%20%20%20%20%5B37.734650000000045%2C%20-122.46802999999994%5D%2C%0A%20%20%20%20%20%20%20%20%20%20%20%20%20%20%20%20%7B%0A%20%20%22bubblingMouseEvents%22%3A%20true%2C%0A%20%20%22color%22%3A%20%22blue%22%2C%0A%20%20%22dashArray%22%3A%20null%2C%0A%20%20%22dashOffset%22%3A%20null%2C%0A%20%20%22fill%22%3A%20true%2C%0A%20%20%22fillColor%22%3A%20%22%233186cc%22%2C%0A%20%20%22fillOpacity%22%3A%200.7%2C%0A%20%20%22fillRule%22%3A%20%22evenodd%22%2C%0A%20%20%22lineCap%22%3A%20%22round%22%2C%0A%20%20%22lineJoin%22%3A%20%22round%22%2C%0A%20%20%22opacity%22%3A%201.0%2C%0A%20%20%22radius%22%3A%205%2C%0A%20%20%22stroke%22%3A%20true%2C%0A%20%20%22weight%22%3A%203%0A%7D%0A%20%20%20%20%20%20%20%20%20%20%20%20%20%20%20%20%29%0A%20%20%20%20%20%20%20%20%20%20%20%20%20%20%20%20.addTo%28map_5451150abfe34573ac2ca13006f28229%29%3B%0A%20%20%20%20%20%20%20%20%20%20%20%20%0A%20%20%20%20%0A%20%20%20%20%20%20%20%20%20%20%20%20var%20popup_4121a66749d3467aab012b1e17ed6e94%20%3D%20L.popup%28%7BmaxWidth%3A%20%27100%25%27%0A%20%20%20%20%20%20%20%20%20%20%20%20%0A%20%20%20%20%20%20%20%20%20%20%20%20%7D%29%3B%0A%0A%20%20%20%20%20%20%20%20%20%20%20%20%0A%20%20%20%20%20%20%20%20%20%20%20%20%20%20%20%20var%20html_3b7c0f5a51744bc59cfdb9600f28de99%20%3D%20%24%28%60%3Cdiv%20id%3D%22html_3b7c0f5a51744bc59cfdb9600f28de99%22%20style%3D%22width%3A%20100.0%25%3B%20height%3A%20100.0%25%3B%22%3ESt.%20Francis%20Wood/Miraloma/West%20Portal%3C/div%3E%60%29%5B0%5D%3B%0A%20%20%20%20%20%20%20%20%20%20%20%20%20%20%20%20popup_4121a66749d3467aab012b1e17ed6e94.setContent%28html_3b7c0f5a51744bc59cfdb9600f28de99%29%3B%0A%20%20%20%20%20%20%20%20%20%20%20%20%0A%0A%20%20%20%20%20%20%20%20%20%20%20%20circle_marker_80c489ca9d03438393f1bbcc75b1d072.bindPopup%28popup_4121a66749d3467aab012b1e17ed6e94%29%0A%20%20%20%20%20%20%20%20%20%20%20%20%3B%0A%0A%20%20%20%20%20%20%20%20%20%20%20%20%0A%20%20%20%20%20%20%20%20%0A%20%20%20%20%0A%20%20%20%20%20%20%20%20%20%20%20%20var%20circle_marker_0ca540da85424779bbd683ac21aafecd%20%3D%20L.circleMarker%28%0A%20%20%20%20%20%20%20%20%20%20%20%20%20%20%20%20%5B37.75425000000007%2C%20-122.44676999999996%5D%2C%0A%20%20%20%20%20%20%20%20%20%20%20%20%20%20%20%20%7B%0A%20%20%22bubblingMouseEvents%22%3A%20true%2C%0A%20%20%22color%22%3A%20%22blue%22%2C%0A%20%20%22dashArray%22%3A%20null%2C%0A%20%20%22dashOffset%22%3A%20null%2C%0A%20%20%22fill%22%3A%20true%2C%0A%20%20%22fillColor%22%3A%20%22%233186cc%22%2C%0A%20%20%22fillOpacity%22%3A%200.7%2C%0A%20%20%22fillRule%22%3A%20%22evenodd%22%2C%0A%20%20%22lineCap%22%3A%20%22round%22%2C%0A%20%20%22lineJoin%22%3A%20%22round%22%2C%0A%20%20%22opacity%22%3A%201.0%2C%0A%20%20%22radius%22%3A%205%2C%0A%20%20%22stroke%22%3A%20true%2C%0A%20%20%22weight%22%3A%203%0A%7D%0A%20%20%20%20%20%20%20%20%20%20%20%20%20%20%20%20%29%0A%20%20%20%20%20%20%20%20%20%20%20%20%20%20%20%20.addTo%28map_5451150abfe34573ac2ca13006f28229%29%3B%0A%20%20%20%20%20%20%20%20%20%20%20%20%0A%20%20%20%20%0A%20%20%20%20%20%20%20%20%20%20%20%20var%20popup_40488639618f42be9c51e2cb93eb7e81%20%3D%20L.popup%28%7BmaxWidth%3A%20%27100%25%27%0A%20%20%20%20%20%20%20%20%20%20%20%20%0A%20%20%20%20%20%20%20%20%20%20%20%20%7D%29%3B%0A%0A%20%20%20%20%20%20%20%20%20%20%20%20%0A%20%20%20%20%20%20%20%20%20%20%20%20%20%20%20%20var%20html_ba260f318b2f434688b2a510016bac03%20%3D%20%24%28%60%3Cdiv%20id%3D%22html_ba260f318b2f434688b2a510016bac03%22%20style%3D%22width%3A%20100.0%25%3B%20height%3A%20100.0%25%3B%22%3ETwin%20Peaks-Glen%20Park%3C/div%3E%60%29%5B0%5D%3B%0A%20%20%20%20%20%20%20%20%20%20%20%20%20%20%20%20popup_40488639618f42be9c51e2cb93eb7e81.setContent%28html_ba260f318b2f434688b2a510016bac03%29%3B%0A%20%20%20%20%20%20%20%20%20%20%20%20%0A%0A%20%20%20%20%20%20%20%20%20%20%20%20circle_marker_0ca540da85424779bbd683ac21aafecd.bindPopup%28popup_40488639618f42be9c51e2cb93eb7e81%29%0A%20%20%20%20%20%20%20%20%20%20%20%20%3B%0A%0A%20%20%20%20%20%20%20%20%20%20%20%20%0A%20%20%20%20%20%20%20%20%0A%20%20%20%20%0A%20%20%20%20%20%20%20%20%20%20%20%20var%20circle_marker_00f2a03922ab4ed49e782dff202a822f%20%3D%20L.circleMarker%28%0A%20%20%20%20%20%20%20%20%20%20%20%20%20%20%20%20%5B37.71125886142111%2C%20-122.48486284101327%5D%2C%0A%20%20%20%20%20%20%20%20%20%20%20%20%20%20%20%20%7B%0A%20%20%22bubblingMouseEvents%22%3A%20true%2C%0A%20%20%22color%22%3A%20%22blue%22%2C%0A%20%20%22dashArray%22%3A%20null%2C%0A%20%20%22dashOffset%22%3A%20null%2C%0A%20%20%22fill%22%3A%20true%2C%0A%20%20%22fillColor%22%3A%20%22%233186cc%22%2C%0A%20%20%22fillOpacity%22%3A%200.7%2C%0A%20%20%22fillRule%22%3A%20%22evenodd%22%2C%0A%20%20%22lineCap%22%3A%20%22round%22%2C%0A%20%20%22lineJoin%22%3A%20%22round%22%2C%0A%20%20%22opacity%22%3A%201.0%2C%0A%20%20%22radius%22%3A%205%2C%0A%20%20%22stroke%22%3A%20true%2C%0A%20%20%22weight%22%3A%203%0A%7D%0A%20%20%20%20%20%20%20%20%20%20%20%20%20%20%20%20%29%0A%20%20%20%20%20%20%20%20%20%20%20%20%20%20%20%20.addTo%28map_5451150abfe34573ac2ca13006f28229%29%3B%0A%20%20%20%20%20%20%20%20%20%20%20%20%0A%20%20%20%20%0A%20%20%20%20%20%20%20%20%20%20%20%20var%20popup_0b657826ba004cd5859a3c150da2a16e%20%3D%20L.popup%28%7BmaxWidth%3A%20%27100%25%27%0A%20%20%20%20%20%20%20%20%20%20%20%20%0A%20%20%20%20%20%20%20%20%20%20%20%20%7D%29%3B%0A%0A%20%20%20%20%20%20%20%20%20%20%20%20%0A%20%20%20%20%20%20%20%20%20%20%20%20%20%20%20%20var%20html_eecfa003686e45ffa3963c31baf3d831%20%3D%20%24%28%60%3Cdiv%20id%3D%22html_eecfa003686e45ffa3963c31baf3d831%22%20style%3D%22width%3A%20100.0%25%3B%20height%3A%20100.0%25%3B%22%3ELake%20Merced%3C/div%3E%60%29%5B0%5D%3B%0A%20%20%20%20%20%20%20%20%20%20%20%20%20%20%20%20popup_0b657826ba004cd5859a3c150da2a16e.setContent%28html_eecfa003686e45ffa3963c31baf3d831%29%3B%0A%20%20%20%20%20%20%20%20%20%20%20%20%0A%0A%20%20%20%20%20%20%20%20%20%20%20%20circle_marker_00f2a03922ab4ed49e782dff202a822f.bindPopup%28popup_0b657826ba004cd5859a3c150da2a16e%29%0A%20%20%20%20%20%20%20%20%20%20%20%20%3B%0A%0A%20%20%20%20%20%20%20%20%20%20%20%20%0A%20%20%20%20%20%20%20%20%0A%20%20%20%20%0A%20%20%20%20%20%20%20%20%20%20%20%20var%20circle_marker_bf5a8f6d16c84403bf19e5addbab331f%20%3D%20L.circleMarker%28%0A%20%20%20%20%20%20%20%20%20%20%20%20%20%20%20%20%5B37.80324800000005%2C%20-122.41506599999997%5D%2C%0A%20%20%20%20%20%20%20%20%20%20%20%20%20%20%20%20%7B%0A%20%20%22bubblingMouseEvents%22%3A%20true%2C%0A%20%20%22color%22%3A%20%22blue%22%2C%0A%20%20%22dashArray%22%3A%20null%2C%0A%20%20%22dashOffset%22%3A%20null%2C%0A%20%20%22fill%22%3A%20true%2C%0A%20%20%22fillColor%22%3A%20%22%233186cc%22%2C%0A%20%20%22fillOpacity%22%3A%200.7%2C%0A%20%20%22fillRule%22%3A%20%22evenodd%22%2C%0A%20%20%22lineCap%22%3A%20%22round%22%2C%0A%20%20%22lineJoin%22%3A%20%22round%22%2C%0A%20%20%22opacity%22%3A%201.0%2C%0A%20%20%22radius%22%3A%205%2C%0A%20%20%22stroke%22%3A%20true%2C%0A%20%20%22weight%22%3A%203%0A%7D%0A%20%20%20%20%20%20%20%20%20%20%20%20%20%20%20%20%29%0A%20%20%20%20%20%20%20%20%20%20%20%20%20%20%20%20.addTo%28map_5451150abfe34573ac2ca13006f28229%29%3B%0A%20%20%20%20%20%20%20%20%20%20%20%20%0A%20%20%20%20%0A%20%20%20%20%20%20%20%20%20%20%20%20var%20popup_3d56925edf5346e0a0406e568d32dc8e%20%3D%20L.popup%28%7BmaxWidth%3A%20%27100%25%27%0A%20%20%20%20%20%20%20%20%20%20%20%20%0A%20%20%20%20%20%20%20%20%20%20%20%20%7D%29%3B%0A%0A%20%20%20%20%20%20%20%20%20%20%20%20%0A%20%20%20%20%20%20%20%20%20%20%20%20%20%20%20%20var%20html_460d1778eada430f84a00db5d3e86397%20%3D%20%24%28%60%3Cdiv%20id%3D%22html_460d1778eada430f84a00db5d3e86397%22%20style%3D%22width%3A%20100.0%25%3B%20height%3A%20100.0%25%3B%22%3ENorth%20Beach/Chinatown%3C/div%3E%60%29%5B0%5D%3B%0A%20%20%20%20%20%20%20%20%20%20%20%20%20%20%20%20popup_3d56925edf5346e0a0406e568d32dc8e.setContent%28html_460d1778eada430f84a00db5d3e86397%29%3B%0A%20%20%20%20%20%20%20%20%20%20%20%20%0A%0A%20%20%20%20%20%20%20%20%20%20%20%20circle_marker_bf5a8f6d16c84403bf19e5addbab331f.bindPopup%28popup_3d56925edf5346e0a0406e568d32dc8e%29%0A%20%20%20%20%20%20%20%20%20%20%20%20%3B%0A%0A%20%20%20%20%20%20%20%20%20%20%20%20%0A%20%20%20%20%20%20%20%20%0A%20%20%20%20%0A%20%20%20%20%20%20%20%20%20%20%20%20var%20circle_marker_f941a55413a6406cb2a29de2d48758ee%20%3D%20L.circleMarker%28%0A%20%20%20%20%20%20%20%20%20%20%20%20%20%20%20%20%5B37.71307000000007%2C%20-122.40930999999995%5D%2C%0A%20%20%20%20%20%20%20%20%20%20%20%20%20%20%20%20%7B%0A%20%20%22bubblingMouseEvents%22%3A%20true%2C%0A%20%20%22color%22%3A%20%22blue%22%2C%0A%20%20%22dashArray%22%3A%20null%2C%0A%20%20%22dashOffset%22%3A%20null%2C%0A%20%20%22fill%22%3A%20true%2C%0A%20%20%22fillColor%22%3A%20%22%233186cc%22%2C%0A%20%20%22fillOpacity%22%3A%200.7%2C%0A%20%20%22fillRule%22%3A%20%22evenodd%22%2C%0A%20%20%22lineCap%22%3A%20%22round%22%2C%0A%20%20%22lineJoin%22%3A%20%22round%22%2C%0A%20%20%22opacity%22%3A%201.0%2C%0A%20%20%22radius%22%3A%205%2C%0A%20%20%22stroke%22%3A%20true%2C%0A%20%20%22weight%22%3A%203%0A%7D%0A%20%20%20%20%20%20%20%20%20%20%20%20%20%20%20%20%29%0A%20%20%20%20%20%20%20%20%20%20%20%20%20%20%20%20.addTo%28map_5451150abfe34573ac2ca13006f28229%29%3B%0A%20%20%20%20%20%20%20%20%20%20%20%20%0A%20%20%20%20%0A%20%20%20%20%20%20%20%20%20%20%20%20var%20popup_681a232597bd4d01b84ce12e6c21e66f%20%3D%20L.popup%28%7BmaxWidth%3A%20%27100%25%27%0A%20%20%20%20%20%20%20%20%20%20%20%20%0A%20%20%20%20%20%20%20%20%20%20%20%20%7D%29%3B%0A%0A%20%20%20%20%20%20%20%20%20%20%20%20%0A%20%20%20%20%20%20%20%20%20%20%20%20%20%20%20%20var%20html_7dc4dbb0aaca4d1b9c39611270e2b435%20%3D%20%24%28%60%3Cdiv%20id%3D%22html_7dc4dbb0aaca4d1b9c39611270e2b435%22%20style%3D%22width%3A%20100.0%25%3B%20height%3A%20100.0%25%3B%22%3EVisitacion%20Valley/Sunnydale%3C/div%3E%60%29%5B0%5D%3B%0A%20%20%20%20%20%20%20%20%20%20%20%20%20%20%20%20popup_681a232597bd4d01b84ce12e6c21e66f.setContent%28html_7dc4dbb0aaca4d1b9c39611270e2b435%29%3B%0A%20%20%20%20%20%20%20%20%20%20%20%20%0A%0A%20%20%20%20%20%20%20%20%20%20%20%20circle_marker_f941a55413a6406cb2a29de2d48758ee.bindPopup%28popup_681a232597bd4d01b84ce12e6c21e66f%29%0A%20%20%20%20%20%20%20%20%20%20%20%20%3B%0A%0A%20%20%20%20%20%20%20%20%20%20%20%20%0A%20%20%20%20%20%20%20%20%0A%3C/script%3E onload=\"this.contentDocument.open();this.contentDocument.write(    decodeURIComponent(this.getAttribute('data-html')));this.contentDocument.close();\" allowfullscreen webkitallowfullscreen mozallowfullscreen></iframe></div></div>"
            ],
            "text/plain": [
              "<folium.folium.Map at 0x7fdbae3fd450>"
            ]
          },
          "metadata": {
            "tags": []
          },
          "execution_count": 470
        }
      ]
    },
    {
      "cell_type": "markdown",
      "metadata": {
        "id": "zcvBHfTbGx9H"
      },
      "source": [
        "## Explore Neighborhoods in San francisco"
      ]
    },
    {
      "cell_type": "markdown",
      "metadata": {
        "id": "YXmE94knGkbP"
      },
      "source": [
        "### Define Foursquare Credentials and Version"
      ]
    },
    {
      "cell_type": "code",
      "metadata": {
        "id": "YXuwAydryDOj"
      },
      "source": [
        "CLIENT_ID = 'WMEIY0IYN2JKNSUAN4DAIK4ILBKQY2PEEFYSJCFG0GXNOZYI' \n",
        "CLIENT_SECRET = 'X3HO4BQIRAV0YUYGVCNL0B3KLNBUU3CKQ2HZSV3OXZ00CEKR' \n",
        "VERSION = '20180605' \n",
        "LIMIT = 500"
      ],
      "execution_count": 471,
      "outputs": []
    },
    {
      "cell_type": "code",
      "metadata": {
        "id": "XC5rQbMWGxfw"
      },
      "source": [
        "def getNearbyVenues(names, latitudes, longitudes, radius=850):\n",
        "    \n",
        "    venues_list=[]\n",
        "    for name, lat, lng in zip(names, latitudes, longitudes):\n",
        "            \n",
        "        # create the API request URL\n",
        "        url = 'https://api.foursquare.com/v2/venues/explore?&client_id={}&client_secret={}&v={}&ll={},{}&radius={}&limit={}'.format(\n",
        "            CLIENT_ID, \n",
        "            CLIENT_SECRET, \n",
        "            VERSION, \n",
        "            lat, \n",
        "            lng, \n",
        "            radius, \n",
        "            LIMIT)\n",
        "            \n",
        "        # make the GET request\n",
        "        results = requests.get(url).json()[\"response\"]['groups'][0]['items']\n",
        "        \n",
        "        # return only relevant information for each nearby venue\n",
        "        venues_list.append([(\n",
        "            name, \n",
        "            lat, \n",
        "            lng, \n",
        "            v['venue']['name'], \n",
        "            v['venue']['location']['lat'], \n",
        "            v['venue']['location']['lng'],  \n",
        "            v['venue']['categories'][0]['name']) for v in results])\n",
        "\n",
        "    nearby_venues = pd.DataFrame([item for venue_list in venues_list for item in venue_list])\n",
        "    nearby_venues.columns = ['Neighborhood', \n",
        "                  'NeighborhoodLatitude', \n",
        "                  'NeighborhoodLongitude', \n",
        "                  'Venue', \n",
        "                  'VenueLatitude', \n",
        "                  'VenueLongitude', \n",
        "                  'VenueCategory']\n",
        "    \n",
        "    return(nearby_venues)"
      ],
      "execution_count": 472,
      "outputs": []
    },
    {
      "cell_type": "markdown",
      "metadata": {
        "id": "yJ4fbMii_Wec"
      },
      "source": [
        ""
      ]
    },
    {
      "cell_type": "code",
      "metadata": {
        "colab": {
          "base_uri": "https://localhost:8080/",
          "height": 221
        },
        "id": "_6Vti41zG4p-",
        "outputId": "c83e8adf-f8ea-4f3a-a676-1411a0f2d56d"
      },
      "source": [
        "#Get nearby venues for each neighborhood\n",
        "venues_df = getNearbyVenues(names=neighborhood_df['Neighborhood'], latitudes=neighborhood_df['NeighborhoodLatitude'], longitudes=neighborhood_df['NeighborhoodLongitude']\n",
        "                                  )\n",
        "print(venues_df.shape)\n",
        "venues_df.head()"
      ],
      "execution_count": 473,
      "outputs": [
        {
          "output_type": "stream",
          "text": [
            "(1558, 7)\n"
          ],
          "name": "stdout"
        },
        {
          "output_type": "execute_result",
          "data": {
            "text/html": [
              "<div>\n",
              "<style scoped>\n",
              "    .dataframe tbody tr th:only-of-type {\n",
              "        vertical-align: middle;\n",
              "    }\n",
              "\n",
              "    .dataframe tbody tr th {\n",
              "        vertical-align: top;\n",
              "    }\n",
              "\n",
              "    .dataframe thead th {\n",
              "        text-align: right;\n",
              "    }\n",
              "</style>\n",
              "<table border=\"1\" class=\"dataframe\">\n",
              "  <thead>\n",
              "    <tr style=\"text-align: right;\">\n",
              "      <th></th>\n",
              "      <th>Neighborhood</th>\n",
              "      <th>NeighborhoodLatitude</th>\n",
              "      <th>NeighborhoodLongitude</th>\n",
              "      <th>Venue</th>\n",
              "      <th>VenueLatitude</th>\n",
              "      <th>VenueLongitude</th>\n",
              "      <th>VenueCategory</th>\n",
              "    </tr>\n",
              "  </thead>\n",
              "  <tbody>\n",
              "    <tr>\n",
              "      <th>0</th>\n",
              "      <td>Hayes Valley/Tenderloin/North of Market</td>\n",
              "      <td>37.77428</td>\n",
              "      <td>-122.42833</td>\n",
              "      <td>The Center SF</td>\n",
              "      <td>37.774545</td>\n",
              "      <td>-122.430730</td>\n",
              "      <td>Spiritual Center</td>\n",
              "    </tr>\n",
              "    <tr>\n",
              "      <th>1</th>\n",
              "      <td>Hayes Valley/Tenderloin/North of Market</td>\n",
              "      <td>37.77428</td>\n",
              "      <td>-122.42833</td>\n",
              "      <td>Church of 8 Wheels</td>\n",
              "      <td>37.774733</td>\n",
              "      <td>-122.430862</td>\n",
              "      <td>Roller Rink</td>\n",
              "    </tr>\n",
              "    <tr>\n",
              "      <th>2</th>\n",
              "      <td>Hayes Valley/Tenderloin/North of Market</td>\n",
              "      <td>37.77428</td>\n",
              "      <td>-122.42833</td>\n",
              "      <td>Domo Sushi</td>\n",
              "      <td>37.775951</td>\n",
              "      <td>-122.426151</td>\n",
              "      <td>Sushi Restaurant</td>\n",
              "    </tr>\n",
              "    <tr>\n",
              "      <th>3</th>\n",
              "      <td>Hayes Valley/Tenderloin/North of Market</td>\n",
              "      <td>37.77428</td>\n",
              "      <td>-122.42833</td>\n",
              "      <td>Salt &amp; Straw</td>\n",
              "      <td>37.776532</td>\n",
              "      <td>-122.426051</td>\n",
              "      <td>Ice Cream Shop</td>\n",
              "    </tr>\n",
              "    <tr>\n",
              "      <th>4</th>\n",
              "      <td>Hayes Valley/Tenderloin/North of Market</td>\n",
              "      <td>37.77428</td>\n",
              "      <td>-122.42833</td>\n",
              "      <td>Suppenküche</td>\n",
              "      <td>37.776324</td>\n",
              "      <td>-122.426382</td>\n",
              "      <td>German Restaurant</td>\n",
              "    </tr>\n",
              "  </tbody>\n",
              "</table>\n",
              "</div>"
            ],
            "text/plain": [
              "                              Neighborhood  ...      VenueCategory\n",
              "0  Hayes Valley/Tenderloin/North of Market  ...   Spiritual Center\n",
              "1  Hayes Valley/Tenderloin/North of Market  ...        Roller Rink\n",
              "2  Hayes Valley/Tenderloin/North of Market  ...   Sushi Restaurant\n",
              "3  Hayes Valley/Tenderloin/North of Market  ...     Ice Cream Shop\n",
              "4  Hayes Valley/Tenderloin/North of Market  ...  German Restaurant\n",
              "\n",
              "[5 rows x 7 columns]"
            ]
          },
          "metadata": {
            "tags": []
          },
          "execution_count": 473
        }
      ]
    },
    {
      "cell_type": "code",
      "metadata": {
        "id": "sLdBx9w_HX0N",
        "colab": {
          "base_uri": "https://localhost:8080/"
        },
        "outputId": "6f7afbfa-db7b-40bf-a611-5c7610c4048c"
      },
      "source": [
        "# Check how many unique categories can be curated from all the returned venues\n",
        "print('There are {} uniques categories.'.format(len(venues_df['VenueCategory'].unique())))"
      ],
      "execution_count": 474,
      "outputs": [
        {
          "output_type": "stream",
          "text": [
            "There are 266 uniques categories.\n"
          ],
          "name": "stdout"
        }
      ]
    },
    {
      "cell_type": "code",
      "metadata": {
        "id": "6MDMSDZAHqvs",
        "colab": {
          "base_uri": "https://localhost:8080/"
        },
        "outputId": "ed096058-f939-4572-a41b-58da785b04cc"
      },
      "source": [
        "#Check what categories we have in san francisco\n",
        "venues_df['VenueCategory'].unique()"
      ],
      "execution_count": 475,
      "outputs": [
        {
          "output_type": "execute_result",
          "data": {
            "text/plain": [
              "array(['Spiritual Center', 'Roller Rink', 'Sushi Restaurant',\n",
              "       'Ice Cream Shop', 'German Restaurant', 'Spa', 'French Restaurant',\n",
              "       'Pizza Place', 'Liquor Store', 'Sandwich Place', 'Bubble Tea Shop',\n",
              "       'Dive Bar', 'Souvlaki Shop', 'Yoga Studio', 'Boutique',\n",
              "       'Record Shop', 'Coffee Shop', 'Optical Shop', 'Kids Store',\n",
              "       'Beer Garden', 'Cocktail Bar', 'Park', 'Dessert Shop', 'Bakery',\n",
              "       'Event Space', 'Accessories Store', 'Butcher', 'Bagel Shop',\n",
              "       'Clothing Store', 'New American Restaurant', 'Bike Shop',\n",
              "       'Italian Restaurant', 'Korean Restaurant', 'Wine Bar',\n",
              "       'Historic Site', 'Gym / Fitness Center', 'Comic Shop',\n",
              "       'Pedestrian Plaza', 'Food & Drink Shop', 'Juice Bar',\n",
              "       'Scandinavian Restaurant', 'Dumpling Restaurant', 'Wings Joint',\n",
              "       'Bar', 'Bike Rental / Bike Share', 'Camera Store',\n",
              "       'Japanese Restaurant', 'Vietnamese Restaurant', 'Café',\n",
              "       'Ramen Restaurant', 'Pet Store', 'BBQ Joint', 'Playground',\n",
              "       'Mexican Restaurant', 'Nail Salon', 'Furniture / Home Store',\n",
              "       'Community Center', 'Wine Shop', 'Jazz Club', 'Chocolate Shop',\n",
              "       'Middle Eastern Restaurant', 'Tattoo Parlor', 'Bookstore',\n",
              "       'Jewelry Store', \"Men's Store\", 'Grocery Store', 'Gym',\n",
              "       'Flower Shop', 'Arts & Crafts Store', 'Art Gallery',\n",
              "       'American Restaurant', 'Marijuana Dispensary', 'Restaurant',\n",
              "       'Brewery', 'Dance Studio', 'Sporting Goods Shop', 'Tennis Court',\n",
              "       'Hotel', 'Electronics Store', 'Motorcycle Shop',\n",
              "       'Spanish Restaurant', 'Nightclub', 'Coworking Space',\n",
              "       'Adult Boutique', 'Thai Restaurant', 'Theater', 'Beer Bar',\n",
              "       'Plaza', 'Martial Arts School', 'Speakeasy', 'Dive Shop',\n",
              "       'Breakfast Spot', 'Toy / Game Store', 'Mediterranean Restaurant',\n",
              "       'Tea Room', 'Museum', 'English Restaurant', 'Garden',\n",
              "       'Karaoke Bar', 'Burmese Restaurant', 'Deli / Bodega',\n",
              "       'Miscellaneous Shop', 'Fountain', 'Burger Joint', 'Music Venue',\n",
              "       'Burrito Place', 'Hill', 'Cosmetics Shop', 'Peruvian Restaurant',\n",
              "       'Office', 'Indie Theater', 'Fabric Shop', 'Donut Shop',\n",
              "       'Design Studio', 'Mac & Cheese Joint', 'Gift Shop',\n",
              "       'South American Restaurant', 'Convenience Store',\n",
              "       'Chinese Restaurant', 'Trail', 'Food Truck', 'Cafeteria',\n",
              "       'Bus Station', 'Creperie', 'Bus Stop', 'Farmers Market',\n",
              "       'Intersection', 'Construction & Landscaping',\n",
              "       'Szechuan Restaurant', 'History Museum', 'Dim Sum Restaurant',\n",
              "       'Church', 'Hostel', 'Seafood Restaurant', 'Public Art',\n",
              "       'Cantonese Restaurant', 'Diner', 'Shoe Store', 'Neighborhood',\n",
              "       'Jiangsu Restaurant', 'Latin American Restaurant',\n",
              "       'Sculpture Garden', 'Russian Restaurant', 'Whisky Bar',\n",
              "       'Gourmet Shop', 'Salon / Barbershop', 'Monument / Landmark',\n",
              "       'Trade School', 'Brazilian Restaurant', 'Austrian Restaurant',\n",
              "       'Art Museum', 'Winery', 'Salad Place', 'Steakhouse',\n",
              "       'Indian Restaurant', 'Rock Club', 'National Park', 'Beach',\n",
              "       'Newsstand', 'Tour Provider', 'Tourist Information Center',\n",
              "       'Scenic Lookout', 'Trattoria/Osteria', 'Candy Store', 'Pharmacy',\n",
              "       'African Restaurant', 'Cheese Shop', 'Sports Club',\n",
              "       'Smoothie Shop', 'Athletics & Sports',\n",
              "       'Southern / Soul Food Restaurant', 'Turkish Restaurant',\n",
              "       'Cambodian Restaurant', 'Japanese Curry Restaurant',\n",
              "       'Hunan Restaurant', 'Hawaiian Restaurant', 'Portuguese Restaurant',\n",
              "       'Gay Bar', 'Caribbean Restaurant', 'Asian Restaurant', 'Market',\n",
              "       'Dog Run', 'Elementary School', 'Light Rail Station', 'Gastropub',\n",
              "       'Pool Hall', 'Soccer Field', 'Hot Dog Joint',\n",
              "       'Fried Chicken Joint', 'Smoke Shop', 'Basketball Court',\n",
              "       'Bowling Green', 'Baseball Field', 'Motel', 'Library', 'Pub',\n",
              "       'Frozen Yogurt Shop', 'Health & Beauty Service', 'Hobby Shop',\n",
              "       'Video Store', 'Greek Restaurant', 'Antique Shop', \"Women's Store\",\n",
              "       'Bank', 'North Indian Restaurant', 'Shipping Store',\n",
              "       'Shopping Mall', 'Kebab Restaurant', 'Lounge', 'Poke Place',\n",
              "       'Paper / Office Supplies Store', 'Discount Store',\n",
              "       'Udon Restaurant', 'Music Store', 'Hotpot Restaurant',\n",
              "       'Supermarket', 'Board Shop', 'Taco Place',\n",
              "       'Vegetarian / Vegan Restaurant', 'Thrift / Vintage Store',\n",
              "       'Lingerie Store', 'Massage Studio', 'Tapas Restaurant', 'Arcade',\n",
              "       'Hardware Store', 'Organic Grocery', 'Health Food Store',\n",
              "       'Sports Bar', 'Eastern European Restaurant', 'Skate Park',\n",
              "       'Salvadoran Restaurant', 'Shabu-Shabu Restaurant', 'Food Court',\n",
              "       'Field', 'Indie Movie Theater', 'Golf Course',\n",
              "       'Egyptian Restaurant', 'Dry Cleaner', 'Outdoor Sculpture',\n",
              "       'Noodle House', 'Zoo Exhibit', 'Picnic Area', 'Recreation Center',\n",
              "       'Train Station', 'Supplement Shop', 'Travel Agency', 'Lake',\n",
              "       'Cupcake Shop', 'Street Food Gathering', 'Alternative Healer',\n",
              "       'Track', 'Garden Center', 'Cycle Studio', 'Kitchen Supply Store',\n",
              "       'Piercing Parlor', 'Pool', 'Fish Market', 'Food', 'Movie Theater',\n",
              "       'Road', 'Reservoir', 'Tailor Shop', 'Sake Bar',\n",
              "       'Fast Food Restaurant', 'Automotive Shop', 'ATM'], dtype=object)"
            ]
          },
          "metadata": {
            "tags": []
          },
          "execution_count": 475
        }
      ]
    },
    {
      "cell_type": "markdown",
      "metadata": {
        "id": "7-CGW2YZSub1"
      },
      "source": [
        "## Data processing"
      ]
    },
    {
      "cell_type": "code",
      "metadata": {
        "id": "Qep4N2vAIK1e"
      },
      "source": [
        "#Create a list of venues which are important for children\n",
        "venues_food = ['Ice Cream Shop', 'Pizza Place', 'Sandwich Place', 'Dessert Shop', 'Chocolate Shop', 'Candy Store', 'Cafeteria']\n",
        "venues_park = ['Garden', 'Park', 'National Park', 'Beach', 'Picnic Area']\n",
        "venues_life = ['Kids Store', 'Toy / Game Store', 'Playground', 'Bike Rental / Bike Share', 'Pharmacy', 'Bus Station', 'Shopping Mall', 'Zoo Exhibit', 'Zoo']\n",
        "venues_sport = ['Gym / Fitness Center', 'Gym', 'Gym Pool', 'Baseball Field', 'Pool', 'Sports Club']\n",
        "venues_filtered = venues_food + venues_park + venues_life + venues_sport\n"
      ],
      "execution_count": 476,
      "outputs": []
    },
    {
      "cell_type": "code",
      "metadata": {
        "id": "USCUZvosWyMt",
        "colab": {
          "base_uri": "https://localhost:8080/",
          "height": 221
        },
        "outputId": "ea2a6fa7-7a28-45a7-8b31-c3adaecf73d9"
      },
      "source": [
        "#Keep only rows with VenueCategory in our filtered venues list\n",
        "indexNames = venues_df[~venues_df.VenueCategory.isin(venues_filtered)].index\n",
        "venues_df.drop(indexNames , inplace=True)\n",
        "print(venues_df.shape)\n",
        "venues_df.head()"
      ],
      "execution_count": 477,
      "outputs": [
        {
          "output_type": "stream",
          "text": [
            "(313, 7)\n"
          ],
          "name": "stdout"
        },
        {
          "output_type": "execute_result",
          "data": {
            "text/html": [
              "<div>\n",
              "<style scoped>\n",
              "    .dataframe tbody tr th:only-of-type {\n",
              "        vertical-align: middle;\n",
              "    }\n",
              "\n",
              "    .dataframe tbody tr th {\n",
              "        vertical-align: top;\n",
              "    }\n",
              "\n",
              "    .dataframe thead th {\n",
              "        text-align: right;\n",
              "    }\n",
              "</style>\n",
              "<table border=\"1\" class=\"dataframe\">\n",
              "  <thead>\n",
              "    <tr style=\"text-align: right;\">\n",
              "      <th></th>\n",
              "      <th>Neighborhood</th>\n",
              "      <th>NeighborhoodLatitude</th>\n",
              "      <th>NeighborhoodLongitude</th>\n",
              "      <th>Venue</th>\n",
              "      <th>VenueLatitude</th>\n",
              "      <th>VenueLongitude</th>\n",
              "      <th>VenueCategory</th>\n",
              "    </tr>\n",
              "  </thead>\n",
              "  <tbody>\n",
              "    <tr>\n",
              "      <th>3</th>\n",
              "      <td>Hayes Valley/Tenderloin/North of Market</td>\n",
              "      <td>37.77428</td>\n",
              "      <td>-122.42833</td>\n",
              "      <td>Salt &amp; Straw</td>\n",
              "      <td>37.776532</td>\n",
              "      <td>-122.426051</td>\n",
              "      <td>Ice Cream Shop</td>\n",
              "    </tr>\n",
              "    <tr>\n",
              "      <th>7</th>\n",
              "      <td>Hayes Valley/Tenderloin/North of Market</td>\n",
              "      <td>37.77428</td>\n",
              "      <td>-122.42833</td>\n",
              "      <td>Gioia Pizzeria</td>\n",
              "      <td>37.776328</td>\n",
              "      <td>-122.425859</td>\n",
              "      <td>Pizza Place</td>\n",
              "    </tr>\n",
              "    <tr>\n",
              "      <th>9</th>\n",
              "      <td>Hayes Valley/Tenderloin/North of Market</td>\n",
              "      <td>37.77428</td>\n",
              "      <td>-122.42833</td>\n",
              "      <td>The Lunchpad</td>\n",
              "      <td>37.776490</td>\n",
              "      <td>-122.425896</td>\n",
              "      <td>Sandwich Place</td>\n",
              "    </tr>\n",
              "    <tr>\n",
              "      <th>17</th>\n",
              "      <td>Hayes Valley/Tenderloin/North of Market</td>\n",
              "      <td>37.77428</td>\n",
              "      <td>-122.42833</td>\n",
              "      <td>Smitten Ice Cream</td>\n",
              "      <td>37.776273</td>\n",
              "      <td>-122.424235</td>\n",
              "      <td>Ice Cream Shop</td>\n",
              "    </tr>\n",
              "    <tr>\n",
              "      <th>20</th>\n",
              "      <td>Hayes Valley/Tenderloin/North of Market</td>\n",
              "      <td>37.77428</td>\n",
              "      <td>-122.42833</td>\n",
              "      <td>Fiddlesticks</td>\n",
              "      <td>37.776644</td>\n",
              "      <td>-122.425341</td>\n",
              "      <td>Kids Store</td>\n",
              "    </tr>\n",
              "  </tbody>\n",
              "</table>\n",
              "</div>"
            ],
            "text/plain": [
              "                               Neighborhood  ...   VenueCategory\n",
              "3   Hayes Valley/Tenderloin/North of Market  ...  Ice Cream Shop\n",
              "7   Hayes Valley/Tenderloin/North of Market  ...     Pizza Place\n",
              "9   Hayes Valley/Tenderloin/North of Market  ...  Sandwich Place\n",
              "17  Hayes Valley/Tenderloin/North of Market  ...  Ice Cream Shop\n",
              "20  Hayes Valley/Tenderloin/North of Market  ...      Kids Store\n",
              "\n",
              "[5 rows x 7 columns]"
            ]
          },
          "metadata": {
            "tags": []
          },
          "execution_count": 477
        }
      ]
    },
    {
      "cell_type": "code",
      "metadata": {
        "id": "r4dQ2uiIZLQz",
        "colab": {
          "base_uri": "https://localhost:8080/"
        },
        "outputId": "fa2a213f-d219-474d-9a6a-d9aea8251428"
      },
      "source": [
        "#Check that we have only filtered categories\n",
        "venues_df['VenueCategory'].unique()"
      ],
      "execution_count": 478,
      "outputs": [
        {
          "output_type": "execute_result",
          "data": {
            "text/plain": [
              "array(['Ice Cream Shop', 'Pizza Place', 'Sandwich Place', 'Kids Store',\n",
              "       'Park', 'Dessert Shop', 'Gym / Fitness Center',\n",
              "       'Bike Rental / Bike Share', 'Playground', 'Chocolate Shop', 'Gym',\n",
              "       'Toy / Game Store', 'Garden', 'Cafeteria', 'Bus Station',\n",
              "       'National Park', 'Beach', 'Candy Store', 'Pharmacy', 'Sports Club',\n",
              "       'Baseball Field', 'Shopping Mall', 'Zoo Exhibit', 'Picnic Area',\n",
              "       'Pool'], dtype=object)"
            ]
          },
          "metadata": {
            "tags": []
          },
          "execution_count": 478
        }
      ]
    },
    {
      "cell_type": "markdown",
      "metadata": {
        "id": "3HIN9HAqX2Bt"
      },
      "source": [
        "Additionally we'll search for schools, because previous search returned only 2 types of schools"
      ]
    },
    {
      "cell_type": "code",
      "metadata": {
        "id": "A244rWHBTrcW"
      },
      "source": [
        "def searchVenuesByCategory(names, latitudes, longitudes, search_query, radius=500):\n",
        "    \n",
        "    venues_list=[]\n",
        "    for name, lat, lng in zip(names, latitudes, longitudes):\n",
        "            \n",
        "        # create the API request URL\n",
        "        url = 'https://api.foursquare.com/v2/venues/explore?&client_id={}&client_secret={}&v={}&ll={},{}&query={}&radius={}&limit={}'.format(\n",
        "            CLIENT_ID, \n",
        "            CLIENT_SECRET, \n",
        "            VERSION, \n",
        "            lat, \n",
        "            lng,\n",
        "            search_query,\n",
        "            radius, \n",
        "            LIMIT)\n",
        "            \n",
        "        # make the GET request\n",
        "        results = requests.get(url).json()[\"response\"]['groups'][0]['items']\n",
        "        \n",
        "        # return only relevant information for each nearby venue\n",
        "        venues_list.append([(\n",
        "            name, \n",
        "            lat, \n",
        "            lng, \n",
        "            v['venue']['name'], \n",
        "            v['venue']['location']['lat'], \n",
        "            v['venue']['location']['lng'],  \n",
        "            v['venue']['categories'][0]['name']) for v in results])\n",
        "\n",
        "    nearby_venues = pd.DataFrame([item for venues_list in venues_list for item in venues_list])\n",
        "    nearby_venues.columns = ['Neighborhood', \n",
        "                  'NeighborhoodLatitude', \n",
        "                  'NeighborhoodLongitude', \n",
        "                  'Venue', \n",
        "                  'VenueLatitude', \n",
        "                  'VenueLongitude', \n",
        "                  'VenueCategory']\n",
        "    \n",
        "    return(nearby_venues)"
      ],
      "execution_count": 479,
      "outputs": []
    },
    {
      "cell_type": "code",
      "metadata": {
        "id": "r8x0rTxDUBd3",
        "colab": {
          "base_uri": "https://localhost:8080/",
          "height": 306
        },
        "outputId": "3a2a2bb9-be0a-486a-c497-3880f461dc1e"
      },
      "source": [
        "schools_df = searchVenuesByCategory(names=neighborhood_df['Neighborhood'],\n",
        "                                   latitudes=neighborhood_df['NeighborhoodLatitude'],\n",
        "                                   longitudes=neighborhood_df['NeighborhoodLongitude'],\n",
        "                                   search_query='School'\n",
        "                                  )\n",
        "print(schools_df['VenueCategory'].unique())\n",
        "print(schools_df.shape)\n",
        "schools_df.head()"
      ],
      "execution_count": 480,
      "outputs": [
        {
          "output_type": "stream",
          "text": [
            "['School' 'Elementary School' 'Adult Education Center' 'Music School'\n",
            " 'Middle School' 'Preschool' 'Recording Studio' 'Office' 'Language School'\n",
            " 'Trade School' 'High School' 'College Academic Building' 'Hockey Field'\n",
            " 'Daycare' 'College Classroom' 'Music Store'\n",
            " 'General College & University' 'Trail' 'Church']\n",
            "(90, 7)\n"
          ],
          "name": "stdout"
        },
        {
          "output_type": "execute_result",
          "data": {
            "text/html": [
              "<div>\n",
              "<style scoped>\n",
              "    .dataframe tbody tr th:only-of-type {\n",
              "        vertical-align: middle;\n",
              "    }\n",
              "\n",
              "    .dataframe tbody tr th {\n",
              "        vertical-align: top;\n",
              "    }\n",
              "\n",
              "    .dataframe thead th {\n",
              "        text-align: right;\n",
              "    }\n",
              "</style>\n",
              "<table border=\"1\" class=\"dataframe\">\n",
              "  <thead>\n",
              "    <tr style=\"text-align: right;\">\n",
              "      <th></th>\n",
              "      <th>Neighborhood</th>\n",
              "      <th>NeighborhoodLatitude</th>\n",
              "      <th>NeighborhoodLongitude</th>\n",
              "      <th>Venue</th>\n",
              "      <th>VenueLatitude</th>\n",
              "      <th>VenueLongitude</th>\n",
              "      <th>VenueCategory</th>\n",
              "    </tr>\n",
              "  </thead>\n",
              "  <tbody>\n",
              "    <tr>\n",
              "      <th>0</th>\n",
              "      <td>Hayes Valley/Tenderloin/North of Market</td>\n",
              "      <td>37.77428</td>\n",
              "      <td>-122.42833</td>\n",
              "      <td>Craft Haven</td>\n",
              "      <td>37.774812</td>\n",
              "      <td>-122.429767</td>\n",
              "      <td>School</td>\n",
              "    </tr>\n",
              "    <tr>\n",
              "      <th>1</th>\n",
              "      <td>Hayes Valley/Tenderloin/North of Market</td>\n",
              "      <td>37.77428</td>\n",
              "      <td>-122.42833</td>\n",
              "      <td>AltSchool Alamo Square</td>\n",
              "      <td>37.774845</td>\n",
              "      <td>-122.430143</td>\n",
              "      <td>School</td>\n",
              "    </tr>\n",
              "    <tr>\n",
              "      <th>2</th>\n",
              "      <td>Hayes Valley/Tenderloin/North of Market</td>\n",
              "      <td>37.77428</td>\n",
              "      <td>-122.42833</td>\n",
              "      <td>CAIS Waller St. Campus</td>\n",
              "      <td>37.772071</td>\n",
              "      <td>-122.424444</td>\n",
              "      <td>School</td>\n",
              "    </tr>\n",
              "    <tr>\n",
              "      <th>3</th>\n",
              "      <td>Hayes Valley/Tenderloin/North of Market</td>\n",
              "      <td>37.77428</td>\n",
              "      <td>-122.42833</td>\n",
              "      <td>SAT Marketplace</td>\n",
              "      <td>37.771707</td>\n",
              "      <td>-122.424741</td>\n",
              "      <td>School</td>\n",
              "    </tr>\n",
              "    <tr>\n",
              "      <th>4</th>\n",
              "      <td>Hayes Valley/Tenderloin/North of Market</td>\n",
              "      <td>37.77428</td>\n",
              "      <td>-122.42833</td>\n",
              "      <td>John Muir Elementary School</td>\n",
              "      <td>37.773624</td>\n",
              "      <td>-122.428363</td>\n",
              "      <td>Elementary School</td>\n",
              "    </tr>\n",
              "  </tbody>\n",
              "</table>\n",
              "</div>"
            ],
            "text/plain": [
              "                              Neighborhood  ...      VenueCategory\n",
              "0  Hayes Valley/Tenderloin/North of Market  ...             School\n",
              "1  Hayes Valley/Tenderloin/North of Market  ...             School\n",
              "2  Hayes Valley/Tenderloin/North of Market  ...             School\n",
              "3  Hayes Valley/Tenderloin/North of Market  ...             School\n",
              "4  Hayes Valley/Tenderloin/North of Market  ...  Elementary School\n",
              "\n",
              "[5 rows x 7 columns]"
            ]
          },
          "metadata": {
            "tags": []
          },
          "execution_count": 480
        }
      ]
    },
    {
      "cell_type": "markdown",
      "metadata": {
        "id": "Ol4LaYfpYDYV"
      },
      "source": [
        "Filter returned categories, let's keep schools only"
      ]
    },
    {
      "cell_type": "code",
      "metadata": {
        "id": "7TUxEHmhU0x6"
      },
      "source": [
        "venues_school = ['School', 'Elementary School', 'Music School', 'Middle School', 'Preschool', 'Language School', 'High School']"
      ],
      "execution_count": 481,
      "outputs": []
    },
    {
      "cell_type": "code",
      "metadata": {
        "id": "SITWZ8XzY3t6",
        "colab": {
          "base_uri": "https://localhost:8080/",
          "height": 255
        },
        "outputId": "801c1e33-b3d6-4b93-cc4c-8cd3f65421e4"
      },
      "source": [
        "#Keep only rows with VenueCategory in our filtered venues list\n",
        "indexNames = schools_df[~schools_df.VenueCategory.isin(venues_school)].index\n",
        "schools_df.drop(indexNames , inplace=True)\n",
        "print(schools_df['VenueCategory'].unique())\n",
        "print(schools_df.shape)\n",
        "schools_df.head()"
      ],
      "execution_count": 482,
      "outputs": [
        {
          "output_type": "stream",
          "text": [
            "['School' 'Elementary School' 'Music School' 'Middle School' 'Preschool'\n",
            " 'Language School' 'High School']\n",
            "(74, 7)\n"
          ],
          "name": "stdout"
        },
        {
          "output_type": "execute_result",
          "data": {
            "text/html": [
              "<div>\n",
              "<style scoped>\n",
              "    .dataframe tbody tr th:only-of-type {\n",
              "        vertical-align: middle;\n",
              "    }\n",
              "\n",
              "    .dataframe tbody tr th {\n",
              "        vertical-align: top;\n",
              "    }\n",
              "\n",
              "    .dataframe thead th {\n",
              "        text-align: right;\n",
              "    }\n",
              "</style>\n",
              "<table border=\"1\" class=\"dataframe\">\n",
              "  <thead>\n",
              "    <tr style=\"text-align: right;\">\n",
              "      <th></th>\n",
              "      <th>Neighborhood</th>\n",
              "      <th>NeighborhoodLatitude</th>\n",
              "      <th>NeighborhoodLongitude</th>\n",
              "      <th>Venue</th>\n",
              "      <th>VenueLatitude</th>\n",
              "      <th>VenueLongitude</th>\n",
              "      <th>VenueCategory</th>\n",
              "    </tr>\n",
              "  </thead>\n",
              "  <tbody>\n",
              "    <tr>\n",
              "      <th>0</th>\n",
              "      <td>Hayes Valley/Tenderloin/North of Market</td>\n",
              "      <td>37.77428</td>\n",
              "      <td>-122.42833</td>\n",
              "      <td>Craft Haven</td>\n",
              "      <td>37.774812</td>\n",
              "      <td>-122.429767</td>\n",
              "      <td>School</td>\n",
              "    </tr>\n",
              "    <tr>\n",
              "      <th>1</th>\n",
              "      <td>Hayes Valley/Tenderloin/North of Market</td>\n",
              "      <td>37.77428</td>\n",
              "      <td>-122.42833</td>\n",
              "      <td>AltSchool Alamo Square</td>\n",
              "      <td>37.774845</td>\n",
              "      <td>-122.430143</td>\n",
              "      <td>School</td>\n",
              "    </tr>\n",
              "    <tr>\n",
              "      <th>2</th>\n",
              "      <td>Hayes Valley/Tenderloin/North of Market</td>\n",
              "      <td>37.77428</td>\n",
              "      <td>-122.42833</td>\n",
              "      <td>CAIS Waller St. Campus</td>\n",
              "      <td>37.772071</td>\n",
              "      <td>-122.424444</td>\n",
              "      <td>School</td>\n",
              "    </tr>\n",
              "    <tr>\n",
              "      <th>3</th>\n",
              "      <td>Hayes Valley/Tenderloin/North of Market</td>\n",
              "      <td>37.77428</td>\n",
              "      <td>-122.42833</td>\n",
              "      <td>SAT Marketplace</td>\n",
              "      <td>37.771707</td>\n",
              "      <td>-122.424741</td>\n",
              "      <td>School</td>\n",
              "    </tr>\n",
              "    <tr>\n",
              "      <th>4</th>\n",
              "      <td>Hayes Valley/Tenderloin/North of Market</td>\n",
              "      <td>37.77428</td>\n",
              "      <td>-122.42833</td>\n",
              "      <td>John Muir Elementary School</td>\n",
              "      <td>37.773624</td>\n",
              "      <td>-122.428363</td>\n",
              "      <td>Elementary School</td>\n",
              "    </tr>\n",
              "  </tbody>\n",
              "</table>\n",
              "</div>"
            ],
            "text/plain": [
              "                              Neighborhood  ...      VenueCategory\n",
              "0  Hayes Valley/Tenderloin/North of Market  ...             School\n",
              "1  Hayes Valley/Tenderloin/North of Market  ...             School\n",
              "2  Hayes Valley/Tenderloin/North of Market  ...             School\n",
              "3  Hayes Valley/Tenderloin/North of Market  ...             School\n",
              "4  Hayes Valley/Tenderloin/North of Market  ...  Elementary School\n",
              "\n",
              "[5 rows x 7 columns]"
            ]
          },
          "metadata": {
            "tags": []
          },
          "execution_count": 482
        }
      ]
    },
    {
      "cell_type": "markdown",
      "metadata": {
        "id": "2Nt3r1uYuPFL"
      },
      "source": [
        "Append schools to the main dataframe"
      ]
    },
    {
      "cell_type": "code",
      "metadata": {
        "id": "RoJIOj4_uSzg",
        "colab": {
          "base_uri": "https://localhost:8080/",
          "height": 255
        },
        "outputId": "ff7ecc8f-f23e-4ca4-b234-0ed00c677d9c"
      },
      "source": [
        "print('Venues df shape:', venues_df.shape)\n",
        "print('Schools df shape:', schools_df.shape)\n",
        "\n",
        "venues_df = venues_df.append(schools_df, ignore_index=True)\n",
        "print('New Venues df shape:', venues_df.shape)\n",
        "venues_df.head()"
      ],
      "execution_count": 483,
      "outputs": [
        {
          "output_type": "stream",
          "text": [
            "Venues df shape: (313, 7)\n",
            "Schools df shape: (74, 7)\n",
            "New Venues df shape: (387, 7)\n"
          ],
          "name": "stdout"
        },
        {
          "output_type": "execute_result",
          "data": {
            "text/html": [
              "<div>\n",
              "<style scoped>\n",
              "    .dataframe tbody tr th:only-of-type {\n",
              "        vertical-align: middle;\n",
              "    }\n",
              "\n",
              "    .dataframe tbody tr th {\n",
              "        vertical-align: top;\n",
              "    }\n",
              "\n",
              "    .dataframe thead th {\n",
              "        text-align: right;\n",
              "    }\n",
              "</style>\n",
              "<table border=\"1\" class=\"dataframe\">\n",
              "  <thead>\n",
              "    <tr style=\"text-align: right;\">\n",
              "      <th></th>\n",
              "      <th>Neighborhood</th>\n",
              "      <th>NeighborhoodLatitude</th>\n",
              "      <th>NeighborhoodLongitude</th>\n",
              "      <th>Venue</th>\n",
              "      <th>VenueLatitude</th>\n",
              "      <th>VenueLongitude</th>\n",
              "      <th>VenueCategory</th>\n",
              "    </tr>\n",
              "  </thead>\n",
              "  <tbody>\n",
              "    <tr>\n",
              "      <th>0</th>\n",
              "      <td>Hayes Valley/Tenderloin/North of Market</td>\n",
              "      <td>37.77428</td>\n",
              "      <td>-122.42833</td>\n",
              "      <td>Salt &amp; Straw</td>\n",
              "      <td>37.776532</td>\n",
              "      <td>-122.426051</td>\n",
              "      <td>Ice Cream Shop</td>\n",
              "    </tr>\n",
              "    <tr>\n",
              "      <th>1</th>\n",
              "      <td>Hayes Valley/Tenderloin/North of Market</td>\n",
              "      <td>37.77428</td>\n",
              "      <td>-122.42833</td>\n",
              "      <td>Gioia Pizzeria</td>\n",
              "      <td>37.776328</td>\n",
              "      <td>-122.425859</td>\n",
              "      <td>Pizza Place</td>\n",
              "    </tr>\n",
              "    <tr>\n",
              "      <th>2</th>\n",
              "      <td>Hayes Valley/Tenderloin/North of Market</td>\n",
              "      <td>37.77428</td>\n",
              "      <td>-122.42833</td>\n",
              "      <td>The Lunchpad</td>\n",
              "      <td>37.776490</td>\n",
              "      <td>-122.425896</td>\n",
              "      <td>Sandwich Place</td>\n",
              "    </tr>\n",
              "    <tr>\n",
              "      <th>3</th>\n",
              "      <td>Hayes Valley/Tenderloin/North of Market</td>\n",
              "      <td>37.77428</td>\n",
              "      <td>-122.42833</td>\n",
              "      <td>Smitten Ice Cream</td>\n",
              "      <td>37.776273</td>\n",
              "      <td>-122.424235</td>\n",
              "      <td>Ice Cream Shop</td>\n",
              "    </tr>\n",
              "    <tr>\n",
              "      <th>4</th>\n",
              "      <td>Hayes Valley/Tenderloin/North of Market</td>\n",
              "      <td>37.77428</td>\n",
              "      <td>-122.42833</td>\n",
              "      <td>Fiddlesticks</td>\n",
              "      <td>37.776644</td>\n",
              "      <td>-122.425341</td>\n",
              "      <td>Kids Store</td>\n",
              "    </tr>\n",
              "  </tbody>\n",
              "</table>\n",
              "</div>"
            ],
            "text/plain": [
              "                              Neighborhood  ...   VenueCategory\n",
              "0  Hayes Valley/Tenderloin/North of Market  ...  Ice Cream Shop\n",
              "1  Hayes Valley/Tenderloin/North of Market  ...     Pizza Place\n",
              "2  Hayes Valley/Tenderloin/North of Market  ...  Sandwich Place\n",
              "3  Hayes Valley/Tenderloin/North of Market  ...  Ice Cream Shop\n",
              "4  Hayes Valley/Tenderloin/North of Market  ...      Kids Store\n",
              "\n",
              "[5 rows x 7 columns]"
            ]
          },
          "metadata": {
            "tags": []
          },
          "execution_count": 483
        }
      ]
    },
    {
      "cell_type": "markdown",
      "metadata": {
        "id": "lNBBR3wbw1sX"
      },
      "source": [
        "### Check if any neighbourhood doesn't have any of required venues"
      ]
    },
    {
      "cell_type": "code",
      "metadata": {
        "id": "0-0MQjoBv0S_",
        "colab": {
          "base_uri": "https://localhost:8080/"
        },
        "outputId": "5e52d973-89d8-40ec-ebed-88f65913fef7"
      },
      "source": [
        "print(len(neighborhood_df.Neighborhood.unique()))\n",
        "print(len(venues_df.Neighborhood.unique()))\n",
        "set(neighborhood_df.Neighborhood.unique()) - set(venues_df.Neighborhood.unique())"
      ],
      "execution_count": 484,
      "outputs": [
        {
          "output_type": "stream",
          "text": [
            "21\n",
            "21\n"
          ],
          "name": "stdout"
        },
        {
          "output_type": "execute_result",
          "data": {
            "text/plain": [
              "set()"
            ]
          },
          "metadata": {
            "tags": []
          },
          "execution_count": 484
        }
      ]
    },
    {
      "cell_type": "markdown",
      "metadata": {
        "id": "ygSZK3xOxgoF"
      },
      "source": [
        "### One-hot encoding"
      ]
    },
    {
      "cell_type": "code",
      "metadata": {
        "id": "DHwoYXMiUtn1",
        "colab": {
          "base_uri": "https://localhost:8080/",
          "height": 462
        },
        "outputId": "d1927b3b-e95b-4ce3-e4b8-d104be811ffa"
      },
      "source": [
        "#One hot encoding\n",
        "sf_onehot = pd.get_dummies(venues_df[['VenueCategory']], prefix=\"\", prefix_sep=\"\")\n",
        "\n",
        "# add neighborhood column back to dataframe\n",
        "sf_onehot['Neighborhood'] = venues_df['Neighborhood'] \n",
        "\n",
        "# move neighborhood column to the first column\n",
        "fixed_columns = [sf_onehot.columns[-1]] + list(sf_onehot.columns[:-1])\n",
        "sf_onehot = sf_onehot[fixed_columns]\n",
        "\n",
        "print(sf_onehot.shape)\n",
        "sf_onehot.head()"
      ],
      "execution_count": 485,
      "outputs": [
        {
          "output_type": "stream",
          "text": [
            "(387, 33)\n"
          ],
          "name": "stdout"
        },
        {
          "output_type": "execute_result",
          "data": {
            "text/html": [
              "<div>\n",
              "<style scoped>\n",
              "    .dataframe tbody tr th:only-of-type {\n",
              "        vertical-align: middle;\n",
              "    }\n",
              "\n",
              "    .dataframe tbody tr th {\n",
              "        vertical-align: top;\n",
              "    }\n",
              "\n",
              "    .dataframe thead th {\n",
              "        text-align: right;\n",
              "    }\n",
              "</style>\n",
              "<table border=\"1\" class=\"dataframe\">\n",
              "  <thead>\n",
              "    <tr style=\"text-align: right;\">\n",
              "      <th></th>\n",
              "      <th>Neighborhood</th>\n",
              "      <th>Baseball Field</th>\n",
              "      <th>Beach</th>\n",
              "      <th>Bike Rental / Bike Share</th>\n",
              "      <th>Bus Station</th>\n",
              "      <th>Cafeteria</th>\n",
              "      <th>Candy Store</th>\n",
              "      <th>Chocolate Shop</th>\n",
              "      <th>Dessert Shop</th>\n",
              "      <th>Elementary School</th>\n",
              "      <th>Garden</th>\n",
              "      <th>Gym</th>\n",
              "      <th>Gym / Fitness Center</th>\n",
              "      <th>High School</th>\n",
              "      <th>Ice Cream Shop</th>\n",
              "      <th>Kids Store</th>\n",
              "      <th>Language School</th>\n",
              "      <th>Middle School</th>\n",
              "      <th>Music School</th>\n",
              "      <th>National Park</th>\n",
              "      <th>Park</th>\n",
              "      <th>Pharmacy</th>\n",
              "      <th>Picnic Area</th>\n",
              "      <th>Pizza Place</th>\n",
              "      <th>Playground</th>\n",
              "      <th>Pool</th>\n",
              "      <th>Preschool</th>\n",
              "      <th>Sandwich Place</th>\n",
              "      <th>School</th>\n",
              "      <th>Shopping Mall</th>\n",
              "      <th>Sports Club</th>\n",
              "      <th>Toy / Game Store</th>\n",
              "      <th>Zoo Exhibit</th>\n",
              "    </tr>\n",
              "  </thead>\n",
              "  <tbody>\n",
              "    <tr>\n",
              "      <th>0</th>\n",
              "      <td>Hayes Valley/Tenderloin/North of Market</td>\n",
              "      <td>0</td>\n",
              "      <td>0</td>\n",
              "      <td>0</td>\n",
              "      <td>0</td>\n",
              "      <td>0</td>\n",
              "      <td>0</td>\n",
              "      <td>0</td>\n",
              "      <td>0</td>\n",
              "      <td>0</td>\n",
              "      <td>0</td>\n",
              "      <td>0</td>\n",
              "      <td>0</td>\n",
              "      <td>0</td>\n",
              "      <td>1</td>\n",
              "      <td>0</td>\n",
              "      <td>0</td>\n",
              "      <td>0</td>\n",
              "      <td>0</td>\n",
              "      <td>0</td>\n",
              "      <td>0</td>\n",
              "      <td>0</td>\n",
              "      <td>0</td>\n",
              "      <td>0</td>\n",
              "      <td>0</td>\n",
              "      <td>0</td>\n",
              "      <td>0</td>\n",
              "      <td>0</td>\n",
              "      <td>0</td>\n",
              "      <td>0</td>\n",
              "      <td>0</td>\n",
              "      <td>0</td>\n",
              "      <td>0</td>\n",
              "    </tr>\n",
              "    <tr>\n",
              "      <th>1</th>\n",
              "      <td>Hayes Valley/Tenderloin/North of Market</td>\n",
              "      <td>0</td>\n",
              "      <td>0</td>\n",
              "      <td>0</td>\n",
              "      <td>0</td>\n",
              "      <td>0</td>\n",
              "      <td>0</td>\n",
              "      <td>0</td>\n",
              "      <td>0</td>\n",
              "      <td>0</td>\n",
              "      <td>0</td>\n",
              "      <td>0</td>\n",
              "      <td>0</td>\n",
              "      <td>0</td>\n",
              "      <td>0</td>\n",
              "      <td>0</td>\n",
              "      <td>0</td>\n",
              "      <td>0</td>\n",
              "      <td>0</td>\n",
              "      <td>0</td>\n",
              "      <td>0</td>\n",
              "      <td>0</td>\n",
              "      <td>0</td>\n",
              "      <td>1</td>\n",
              "      <td>0</td>\n",
              "      <td>0</td>\n",
              "      <td>0</td>\n",
              "      <td>0</td>\n",
              "      <td>0</td>\n",
              "      <td>0</td>\n",
              "      <td>0</td>\n",
              "      <td>0</td>\n",
              "      <td>0</td>\n",
              "    </tr>\n",
              "    <tr>\n",
              "      <th>2</th>\n",
              "      <td>Hayes Valley/Tenderloin/North of Market</td>\n",
              "      <td>0</td>\n",
              "      <td>0</td>\n",
              "      <td>0</td>\n",
              "      <td>0</td>\n",
              "      <td>0</td>\n",
              "      <td>0</td>\n",
              "      <td>0</td>\n",
              "      <td>0</td>\n",
              "      <td>0</td>\n",
              "      <td>0</td>\n",
              "      <td>0</td>\n",
              "      <td>0</td>\n",
              "      <td>0</td>\n",
              "      <td>0</td>\n",
              "      <td>0</td>\n",
              "      <td>0</td>\n",
              "      <td>0</td>\n",
              "      <td>0</td>\n",
              "      <td>0</td>\n",
              "      <td>0</td>\n",
              "      <td>0</td>\n",
              "      <td>0</td>\n",
              "      <td>0</td>\n",
              "      <td>0</td>\n",
              "      <td>0</td>\n",
              "      <td>0</td>\n",
              "      <td>1</td>\n",
              "      <td>0</td>\n",
              "      <td>0</td>\n",
              "      <td>0</td>\n",
              "      <td>0</td>\n",
              "      <td>0</td>\n",
              "    </tr>\n",
              "    <tr>\n",
              "      <th>3</th>\n",
              "      <td>Hayes Valley/Tenderloin/North of Market</td>\n",
              "      <td>0</td>\n",
              "      <td>0</td>\n",
              "      <td>0</td>\n",
              "      <td>0</td>\n",
              "      <td>0</td>\n",
              "      <td>0</td>\n",
              "      <td>0</td>\n",
              "      <td>0</td>\n",
              "      <td>0</td>\n",
              "      <td>0</td>\n",
              "      <td>0</td>\n",
              "      <td>0</td>\n",
              "      <td>0</td>\n",
              "      <td>1</td>\n",
              "      <td>0</td>\n",
              "      <td>0</td>\n",
              "      <td>0</td>\n",
              "      <td>0</td>\n",
              "      <td>0</td>\n",
              "      <td>0</td>\n",
              "      <td>0</td>\n",
              "      <td>0</td>\n",
              "      <td>0</td>\n",
              "      <td>0</td>\n",
              "      <td>0</td>\n",
              "      <td>0</td>\n",
              "      <td>0</td>\n",
              "      <td>0</td>\n",
              "      <td>0</td>\n",
              "      <td>0</td>\n",
              "      <td>0</td>\n",
              "      <td>0</td>\n",
              "    </tr>\n",
              "    <tr>\n",
              "      <th>4</th>\n",
              "      <td>Hayes Valley/Tenderloin/North of Market</td>\n",
              "      <td>0</td>\n",
              "      <td>0</td>\n",
              "      <td>0</td>\n",
              "      <td>0</td>\n",
              "      <td>0</td>\n",
              "      <td>0</td>\n",
              "      <td>0</td>\n",
              "      <td>0</td>\n",
              "      <td>0</td>\n",
              "      <td>0</td>\n",
              "      <td>0</td>\n",
              "      <td>0</td>\n",
              "      <td>0</td>\n",
              "      <td>0</td>\n",
              "      <td>1</td>\n",
              "      <td>0</td>\n",
              "      <td>0</td>\n",
              "      <td>0</td>\n",
              "      <td>0</td>\n",
              "      <td>0</td>\n",
              "      <td>0</td>\n",
              "      <td>0</td>\n",
              "      <td>0</td>\n",
              "      <td>0</td>\n",
              "      <td>0</td>\n",
              "      <td>0</td>\n",
              "      <td>0</td>\n",
              "      <td>0</td>\n",
              "      <td>0</td>\n",
              "      <td>0</td>\n",
              "      <td>0</td>\n",
              "      <td>0</td>\n",
              "    </tr>\n",
              "  </tbody>\n",
              "</table>\n",
              "</div>"
            ],
            "text/plain": [
              "                              Neighborhood  ...  Zoo Exhibit\n",
              "0  Hayes Valley/Tenderloin/North of Market  ...            0\n",
              "1  Hayes Valley/Tenderloin/North of Market  ...            0\n",
              "2  Hayes Valley/Tenderloin/North of Market  ...            0\n",
              "3  Hayes Valley/Tenderloin/North of Market  ...            0\n",
              "4  Hayes Valley/Tenderloin/North of Market  ...            0\n",
              "\n",
              "[5 rows x 33 columns]"
            ]
          },
          "metadata": {
            "tags": []
          },
          "execution_count": 485
        }
      ]
    },
    {
      "cell_type": "markdown",
      "metadata": {
        "id": "dhZ04sOHxPOm"
      },
      "source": [
        "### Let's group rows by neighborhood and by taking the count of occurrence of each category"
      ]
    },
    {
      "cell_type": "code",
      "metadata": {
        "id": "xY8eST19v7_d",
        "colab": {
          "base_uri": "https://localhost:8080/",
          "height": 326
        },
        "outputId": "484c3050-205f-4ff3-b227-5948a8290581"
      },
      "source": [
        "sf_grouped = sf_onehot.groupby('Neighborhood').mean().reset_index()\n",
        "print(sf_grouped.shape)\n",
        "sf_grouped.head()"
      ],
      "execution_count": 486,
      "outputs": [
        {
          "output_type": "stream",
          "text": [
            "(21, 33)\n"
          ],
          "name": "stdout"
        },
        {
          "output_type": "execute_result",
          "data": {
            "text/html": [
              "<div>\n",
              "<style scoped>\n",
              "    .dataframe tbody tr th:only-of-type {\n",
              "        vertical-align: middle;\n",
              "    }\n",
              "\n",
              "    .dataframe tbody tr th {\n",
              "        vertical-align: top;\n",
              "    }\n",
              "\n",
              "    .dataframe thead th {\n",
              "        text-align: right;\n",
              "    }\n",
              "</style>\n",
              "<table border=\"1\" class=\"dataframe\">\n",
              "  <thead>\n",
              "    <tr style=\"text-align: right;\">\n",
              "      <th></th>\n",
              "      <th>Neighborhood</th>\n",
              "      <th>Baseball Field</th>\n",
              "      <th>Beach</th>\n",
              "      <th>Bike Rental / Bike Share</th>\n",
              "      <th>Bus Station</th>\n",
              "      <th>Cafeteria</th>\n",
              "      <th>Candy Store</th>\n",
              "      <th>Chocolate Shop</th>\n",
              "      <th>Dessert Shop</th>\n",
              "      <th>Elementary School</th>\n",
              "      <th>Garden</th>\n",
              "      <th>Gym</th>\n",
              "      <th>Gym / Fitness Center</th>\n",
              "      <th>High School</th>\n",
              "      <th>Ice Cream Shop</th>\n",
              "      <th>Kids Store</th>\n",
              "      <th>Language School</th>\n",
              "      <th>Middle School</th>\n",
              "      <th>Music School</th>\n",
              "      <th>National Park</th>\n",
              "      <th>Park</th>\n",
              "      <th>Pharmacy</th>\n",
              "      <th>Picnic Area</th>\n",
              "      <th>Pizza Place</th>\n",
              "      <th>Playground</th>\n",
              "      <th>Pool</th>\n",
              "      <th>Preschool</th>\n",
              "      <th>Sandwich Place</th>\n",
              "      <th>School</th>\n",
              "      <th>Shopping Mall</th>\n",
              "      <th>Sports Club</th>\n",
              "      <th>Toy / Game Store</th>\n",
              "      <th>Zoo Exhibit</th>\n",
              "    </tr>\n",
              "  </thead>\n",
              "  <tbody>\n",
              "    <tr>\n",
              "      <th>0</th>\n",
              "      <td>Bayview-Hunters Point</td>\n",
              "      <td>0.0</td>\n",
              "      <td>0.0</td>\n",
              "      <td>0.000000</td>\n",
              "      <td>0.200000</td>\n",
              "      <td>0.0</td>\n",
              "      <td>0.0</td>\n",
              "      <td>0.000000</td>\n",
              "      <td>0.100000</td>\n",
              "      <td>0.000000</td>\n",
              "      <td>0.1</td>\n",
              "      <td>0.100000</td>\n",
              "      <td>0.000000</td>\n",
              "      <td>0.000000</td>\n",
              "      <td>0.000000</td>\n",
              "      <td>0.000000</td>\n",
              "      <td>0.000000</td>\n",
              "      <td>0.000000</td>\n",
              "      <td>0.000000</td>\n",
              "      <td>0.0</td>\n",
              "      <td>0.100000</td>\n",
              "      <td>0.100000</td>\n",
              "      <td>0.0</td>\n",
              "      <td>0.000000</td>\n",
              "      <td>0.000000</td>\n",
              "      <td>0.1</td>\n",
              "      <td>0.000000</td>\n",
              "      <td>0.000000</td>\n",
              "      <td>0.200000</td>\n",
              "      <td>0.000000</td>\n",
              "      <td>0.000000</td>\n",
              "      <td>0.000000</td>\n",
              "      <td>0.0</td>\n",
              "    </tr>\n",
              "    <tr>\n",
              "      <th>1</th>\n",
              "      <td>Castro/Noe Valley</td>\n",
              "      <td>0.0</td>\n",
              "      <td>0.0</td>\n",
              "      <td>0.000000</td>\n",
              "      <td>0.000000</td>\n",
              "      <td>0.0</td>\n",
              "      <td>0.0</td>\n",
              "      <td>0.052632</td>\n",
              "      <td>0.000000</td>\n",
              "      <td>0.000000</td>\n",
              "      <td>0.0</td>\n",
              "      <td>0.157895</td>\n",
              "      <td>0.000000</td>\n",
              "      <td>0.000000</td>\n",
              "      <td>0.000000</td>\n",
              "      <td>0.000000</td>\n",
              "      <td>0.000000</td>\n",
              "      <td>0.052632</td>\n",
              "      <td>0.000000</td>\n",
              "      <td>0.0</td>\n",
              "      <td>0.210526</td>\n",
              "      <td>0.052632</td>\n",
              "      <td>0.0</td>\n",
              "      <td>0.105263</td>\n",
              "      <td>0.157895</td>\n",
              "      <td>0.0</td>\n",
              "      <td>0.000000</td>\n",
              "      <td>0.052632</td>\n",
              "      <td>0.052632</td>\n",
              "      <td>0.052632</td>\n",
              "      <td>0.000000</td>\n",
              "      <td>0.052632</td>\n",
              "      <td>0.0</td>\n",
              "    </tr>\n",
              "    <tr>\n",
              "      <th>2</th>\n",
              "      <td>Chinatown</td>\n",
              "      <td>0.0</td>\n",
              "      <td>0.0</td>\n",
              "      <td>0.000000</td>\n",
              "      <td>0.000000</td>\n",
              "      <td>0.0</td>\n",
              "      <td>0.0</td>\n",
              "      <td>0.000000</td>\n",
              "      <td>0.000000</td>\n",
              "      <td>0.230769</td>\n",
              "      <td>0.0</td>\n",
              "      <td>0.038462</td>\n",
              "      <td>0.038462</td>\n",
              "      <td>0.000000</td>\n",
              "      <td>0.038462</td>\n",
              "      <td>0.000000</td>\n",
              "      <td>0.038462</td>\n",
              "      <td>0.000000</td>\n",
              "      <td>0.000000</td>\n",
              "      <td>0.0</td>\n",
              "      <td>0.153846</td>\n",
              "      <td>0.000000</td>\n",
              "      <td>0.0</td>\n",
              "      <td>0.192308</td>\n",
              "      <td>0.000000</td>\n",
              "      <td>0.0</td>\n",
              "      <td>0.076923</td>\n",
              "      <td>0.038462</td>\n",
              "      <td>0.153846</td>\n",
              "      <td>0.000000</td>\n",
              "      <td>0.000000</td>\n",
              "      <td>0.000000</td>\n",
              "      <td>0.0</td>\n",
              "    </tr>\n",
              "    <tr>\n",
              "      <th>3</th>\n",
              "      <td>Haight-Ashbury</td>\n",
              "      <td>0.0</td>\n",
              "      <td>0.0</td>\n",
              "      <td>0.000000</td>\n",
              "      <td>0.058824</td>\n",
              "      <td>0.0</td>\n",
              "      <td>0.0</td>\n",
              "      <td>0.000000</td>\n",
              "      <td>0.000000</td>\n",
              "      <td>0.000000</td>\n",
              "      <td>0.0</td>\n",
              "      <td>0.000000</td>\n",
              "      <td>0.000000</td>\n",
              "      <td>0.117647</td>\n",
              "      <td>0.117647</td>\n",
              "      <td>0.000000</td>\n",
              "      <td>0.000000</td>\n",
              "      <td>0.000000</td>\n",
              "      <td>0.058824</td>\n",
              "      <td>0.0</td>\n",
              "      <td>0.235294</td>\n",
              "      <td>0.000000</td>\n",
              "      <td>0.0</td>\n",
              "      <td>0.176471</td>\n",
              "      <td>0.058824</td>\n",
              "      <td>0.0</td>\n",
              "      <td>0.000000</td>\n",
              "      <td>0.000000</td>\n",
              "      <td>0.058824</td>\n",
              "      <td>0.000000</td>\n",
              "      <td>0.058824</td>\n",
              "      <td>0.058824</td>\n",
              "      <td>0.0</td>\n",
              "    </tr>\n",
              "    <tr>\n",
              "      <th>4</th>\n",
              "      <td>Hayes Valley/Tenderloin/North of Market</td>\n",
              "      <td>0.0</td>\n",
              "      <td>0.0</td>\n",
              "      <td>0.038462</td>\n",
              "      <td>0.000000</td>\n",
              "      <td>0.0</td>\n",
              "      <td>0.0</td>\n",
              "      <td>0.038462</td>\n",
              "      <td>0.076923</td>\n",
              "      <td>0.038462</td>\n",
              "      <td>0.0</td>\n",
              "      <td>0.038462</td>\n",
              "      <td>0.076923</td>\n",
              "      <td>0.000000</td>\n",
              "      <td>0.076923</td>\n",
              "      <td>0.038462</td>\n",
              "      <td>0.000000</td>\n",
              "      <td>0.000000</td>\n",
              "      <td>0.076923</td>\n",
              "      <td>0.0</td>\n",
              "      <td>0.153846</td>\n",
              "      <td>0.000000</td>\n",
              "      <td>0.0</td>\n",
              "      <td>0.115385</td>\n",
              "      <td>0.038462</td>\n",
              "      <td>0.0</td>\n",
              "      <td>0.000000</td>\n",
              "      <td>0.038462</td>\n",
              "      <td>0.153846</td>\n",
              "      <td>0.000000</td>\n",
              "      <td>0.000000</td>\n",
              "      <td>0.000000</td>\n",
              "      <td>0.0</td>\n",
              "    </tr>\n",
              "  </tbody>\n",
              "</table>\n",
              "</div>"
            ],
            "text/plain": [
              "                              Neighborhood  ...  Zoo Exhibit\n",
              "0                    Bayview-Hunters Point  ...          0.0\n",
              "1                        Castro/Noe Valley  ...          0.0\n",
              "2                                Chinatown  ...          0.0\n",
              "3                           Haight-Ashbury  ...          0.0\n",
              "4  Hayes Valley/Tenderloin/North of Market  ...          0.0\n",
              "\n",
              "[5 rows x 33 columns]"
            ]
          },
          "metadata": {
            "tags": []
          },
          "execution_count": 486
        }
      ]
    },
    {
      "cell_type": "markdown",
      "metadata": {
        "id": "5BtMN5dUyRd2"
      },
      "source": [
        "### Find the most common 10 venues for each neighborhood"
      ]
    },
    {
      "cell_type": "code",
      "metadata": {
        "id": "RjIE6_74_u0J",
        "colab": {
          "base_uri": "https://localhost:8080/"
        },
        "outputId": "fdae99f0-bd13-44c5-ac67-cc3683e62f99"
      },
      "source": [
        "num_top_venues = 10\n",
        "\n",
        "for hood in sf_grouped['Neighborhood']:\n",
        "    print(\"----\"+hood+\"----\")\n",
        "    temp = sf_grouped[sf_grouped['Neighborhood'] == hood].T.reset_index()\n",
        "    temp.columns = ['venue','freq']\n",
        "    temp = temp.iloc[1:]\n",
        "    temp['freq'] = temp['freq'].astype(float)\n",
        "    temp = temp.round({'freq': 2})\n",
        "    print(temp.sort_values('freq', ascending=False).reset_index(drop=True).head(num_top_venues))\n",
        "    print('\\n')"
      ],
      "execution_count": 487,
      "outputs": [
        {
          "output_type": "stream",
          "text": [
            "----Bayview-Hunters Point----\n",
            "            venue  freq\n",
            "0     Bus Station   0.2\n",
            "1          School   0.2\n",
            "2          Garden   0.1\n",
            "3    Dessert Shop   0.1\n",
            "4        Pharmacy   0.1\n",
            "5            Pool   0.1\n",
            "6             Gym   0.1\n",
            "7            Park   0.1\n",
            "8  Sandwich Place   0.0\n",
            "9   National Park   0.0\n",
            "\n",
            "\n",
            "----Castro/Noe Valley----\n",
            "              venue  freq\n",
            "0              Park  0.21\n",
            "1               Gym  0.16\n",
            "2        Playground  0.16\n",
            "3       Pizza Place  0.11\n",
            "4     Middle School  0.05\n",
            "5  Toy / Game Store  0.05\n",
            "6     Shopping Mall  0.05\n",
            "7            School  0.05\n",
            "8    Chocolate Shop  0.05\n",
            "9    Sandwich Place  0.05\n",
            "\n",
            "\n",
            "----Chinatown----\n",
            "                  venue  freq\n",
            "0     Elementary School  0.23\n",
            "1           Pizza Place  0.19\n",
            "2                School  0.15\n",
            "3                  Park  0.15\n",
            "4             Preschool  0.08\n",
            "5        Ice Cream Shop  0.04\n",
            "6       Language School  0.04\n",
            "7        Sandwich Place  0.04\n",
            "8                   Gym  0.04\n",
            "9  Gym / Fitness Center  0.04\n",
            "\n",
            "\n",
            "----Haight-Ashbury----\n",
            "              venue  freq\n",
            "0              Park  0.24\n",
            "1       Pizza Place  0.18\n",
            "2       High School  0.12\n",
            "3    Ice Cream Shop  0.12\n",
            "4      Music School  0.06\n",
            "5  Toy / Game Store  0.06\n",
            "6       Bus Station  0.06\n",
            "7       Sports Club  0.06\n",
            "8            School  0.06\n",
            "9        Playground  0.06\n",
            "\n",
            "\n",
            "----Hayes Valley/Tenderloin/North of Market----\n",
            "                  venue  freq\n",
            "0                  Park  0.15\n",
            "1                School  0.15\n",
            "2           Pizza Place  0.12\n",
            "3  Gym / Fitness Center  0.08\n",
            "4          Music School  0.08\n",
            "5        Ice Cream Shop  0.08\n",
            "6          Dessert Shop  0.08\n",
            "7            Playground  0.04\n",
            "8            Kids Store  0.04\n",
            "9        Sandwich Place  0.04\n",
            "\n",
            "\n",
            "----Ingelside-Excelsior/Crocker-Amazon----\n",
            "              venue  freq\n",
            "0    Baseball Field  0.31\n",
            "1        Playground  0.23\n",
            "2       Pizza Place  0.23\n",
            "3       Bus Station  0.15\n",
            "4          Pharmacy  0.08\n",
            "5      Music School  0.00\n",
            "6  Toy / Game Store  0.00\n",
            "7       Sports Club  0.00\n",
            "8     Shopping Mall  0.00\n",
            "9            School  0.00\n",
            "\n",
            "\n",
            "----Inner Mission/Bernal Heights----\n",
            "                  venue  freq\n",
            "0           Pizza Place  0.27\n",
            "1            Playground  0.27\n",
            "2                  Park  0.13\n",
            "3                   Gym  0.13\n",
            "4        Ice Cream Shop  0.07\n",
            "5  Gym / Fitness Center  0.07\n",
            "6     Elementary School  0.07\n",
            "7              Pharmacy  0.00\n",
            "8           Picnic Area  0.00\n",
            "9        Baseball Field  0.00\n",
            "\n",
            "\n",
            "----Inner Richmond----\n",
            "               venue  freq\n",
            "0  Elementary School  0.25\n",
            "1       Dessert Shop  0.08\n",
            "2     Ice Cream Shop  0.08\n",
            "3        Pizza Place  0.08\n",
            "4         Playground  0.08\n",
            "5          Preschool  0.08\n",
            "6     Baseball Field  0.08\n",
            "7             School  0.08\n",
            "8   Toy / Game Store  0.08\n",
            "9               Park  0.08\n",
            "\n",
            "\n",
            "----Lake Merced----\n",
            "              venue  freq\n",
            "0              Park   0.4\n",
            "1         Preschool   0.2\n",
            "2        Playground   0.2\n",
            "3               Gym   0.2\n",
            "4    Baseball Field   0.0\n",
            "5      Music School   0.0\n",
            "6  Toy / Game Store   0.0\n",
            "7       Sports Club   0.0\n",
            "8     Shopping Mall   0.0\n",
            "9            School   0.0\n",
            "\n",
            "\n",
            "----Marina----\n",
            "                  venue  freq\n",
            "0  Gym / Fitness Center  0.23\n",
            "1        Sandwich Place  0.14\n",
            "2                  Park  0.14\n",
            "3                   Gym  0.09\n",
            "4                School  0.09\n",
            "5           Pizza Place  0.09\n",
            "6        Ice Cream Shop  0.09\n",
            "7        Baseball Field  0.05\n",
            "8            Playground  0.05\n",
            "9         Middle School  0.05\n",
            "\n",
            "\n",
            "----North Beach/Chinatown----\n",
            "                      venue  freq\n",
            "0                      Park  0.26\n",
            "1               Pizza Place  0.17\n",
            "2            Ice Cream Shop  0.14\n",
            "3  Bike Rental / Bike Share  0.06\n",
            "4            Chocolate Shop  0.06\n",
            "5                Playground  0.06\n",
            "6                 Preschool  0.06\n",
            "7                  Pharmacy  0.03\n",
            "8             National Park  0.03\n",
            "9                     Beach  0.03\n",
            "\n",
            "\n",
            "----Outer Richmond----\n",
            "            venue  freq\n",
            "0            Park  0.17\n",
            "1        Pharmacy  0.17\n",
            "2     Bus Station  0.17\n",
            "3      Playground  0.17\n",
            "4       Cafeteria  0.08\n",
            "5     Pizza Place  0.08\n",
            "6    Dessert Shop  0.08\n",
            "7  Sandwich Place  0.08\n",
            "8            Pool  0.00\n",
            "9     Picnic Area  0.00\n",
            "\n",
            "\n",
            "----Parkside/Forest Hill----\n",
            "              venue  freq\n",
            "0        Playground  0.50\n",
            "1              Park  0.33\n",
            "2    Sandwich Place  0.17\n",
            "3    Baseball Field  0.00\n",
            "4             Beach  0.00\n",
            "5  Toy / Game Store  0.00\n",
            "6       Sports Club  0.00\n",
            "7     Shopping Mall  0.00\n",
            "8            School  0.00\n",
            "9         Preschool  0.00\n",
            "\n",
            "\n",
            "----Polk/Russian Hill (Nob Hill)----\n",
            "                      venue  freq\n",
            "0                      Park  0.17\n",
            "1            Ice Cream Shop  0.11\n",
            "2            Chocolate Shop  0.11\n",
            "3               Pizza Place  0.08\n",
            "4                Playground  0.06\n",
            "5  Bike Rental / Bike Share  0.06\n",
            "6             National Park  0.06\n",
            "7      Gym / Fitness Center  0.06\n",
            "8            Sandwich Place  0.03\n",
            "9                  Pharmacy  0.03\n",
            "\n",
            "\n",
            "----Potrero Hill----\n",
            "                  venue  freq\n",
            "0                  Park  0.29\n",
            "1           Pizza Place  0.12\n",
            "2        Sandwich Place  0.12\n",
            "3           Bus Station  0.08\n",
            "4            Playground  0.08\n",
            "5                Garden  0.08\n",
            "6     Elementary School  0.04\n",
            "7  Gym / Fitness Center  0.04\n",
            "8                   Gym  0.04\n",
            "9          Dessert Shop  0.04\n",
            "\n",
            "\n",
            "----South of Market----\n",
            "                  venue  freq\n",
            "0           Pizza Place  0.17\n",
            "1                School  0.17\n",
            "2  Gym / Fitness Center  0.13\n",
            "3                   Gym  0.13\n",
            "4        Sandwich Place  0.09\n",
            "5         Middle School  0.04\n",
            "6     Elementary School  0.04\n",
            "7            Playground  0.04\n",
            "8                Garden  0.04\n",
            "9             Preschool  0.04\n",
            "\n",
            "\n",
            "----St. Francis Wood/Miraloma/West Portal----\n",
            "                  venue  freq\n",
            "0                School  0.23\n",
            "1                  Park  0.15\n",
            "2           Pizza Place  0.12\n",
            "3            Playground  0.08\n",
            "4  Gym / Fitness Center  0.08\n",
            "5         Middle School  0.04\n",
            "6                  Pool  0.04\n",
            "7           High School  0.04\n",
            "8                   Gym  0.04\n",
            "9              Pharmacy  0.04\n",
            "\n",
            "\n",
            "----Sunset----\n",
            "            venue  freq\n",
            "0     Zoo Exhibit  0.56\n",
            "1             Gym  0.06\n",
            "2            Park  0.06\n",
            "3     Bus Station  0.06\n",
            "4   Shopping Mall  0.06\n",
            "5     Picnic Area  0.06\n",
            "6  Sandwich Place  0.06\n",
            "7     Pizza Place  0.06\n",
            "8        Pharmacy  0.00\n",
            "9      Playground  0.00\n",
            "\n",
            "\n",
            "----Twin Peaks-Glen Park----\n",
            "            venue  freq\n",
            "0            Park   0.4\n",
            "1      Playground   0.3\n",
            "2          Garden   0.1\n",
            "3     Bus Station   0.1\n",
            "4     Pizza Place   0.1\n",
            "5  Baseball Field   0.0\n",
            "6        Pharmacy   0.0\n",
            "7     Picnic Area   0.0\n",
            "8            Pool   0.0\n",
            "9       Preschool   0.0\n",
            "\n",
            "\n",
            "----Visitacion Valley/Sunnydale----\n",
            "               venue  freq\n",
            "0  Elementary School   0.2\n",
            "1               Park   0.2\n",
            "2             Garden   0.1\n",
            "3        Pizza Place   0.1\n",
            "4         Playground   0.1\n",
            "5               Pool   0.1\n",
            "6      Middle School   0.1\n",
            "7     Sandwich Place   0.1\n",
            "8          Preschool   0.0\n",
            "9       Music School   0.0\n",
            "\n",
            "\n",
            "----Western Addition/Japantown----\n",
            "               venue  freq\n",
            "0             School  0.12\n",
            "1     Ice Cream Shop  0.12\n",
            "2      Shopping Mall  0.08\n",
            "3     Sandwich Place  0.08\n",
            "4  Elementary School  0.08\n",
            "5               Park  0.08\n",
            "6        Pizza Place  0.08\n",
            "7        High School  0.08\n",
            "8      Middle School  0.04\n",
            "9    Language School  0.04\n",
            "\n",
            "\n"
          ],
          "name": "stdout"
        }
      ]
    },
    {
      "cell_type": "code",
      "metadata": {
        "id": "eaaPx5KiwuM_"
      },
      "source": [
        "def return_most_common_venues(row, num_top_venues):\n",
        "    row_categories = row.iloc[1:]\n",
        "    row_categories_sorted = row_categories.sort_values(ascending=False)\n",
        "    \n",
        "    return row_categories_sorted.index.values[0:num_top_venues]"
      ],
      "execution_count": 488,
      "outputs": []
    },
    {
      "cell_type": "code",
      "metadata": {
        "id": "rgjIbpu69iVI",
        "colab": {
          "base_uri": "https://localhost:8080/",
          "height": 802
        },
        "outputId": "9140920f-fd3c-4574-ad69-91770f8fea4b"
      },
      "source": [
        "indicators = ['st', 'nd', 'rd']\n",
        "\n",
        "# create columns according to number of top venues\n",
        "columns = ['Neighborhood']\n",
        "for ind in np.arange(num_top_venues):\n",
        "    try:\n",
        "        columns.append('{}{} Most Common Venue'.format(ind+1, indicators[ind]))\n",
        "    except:\n",
        "        columns.append('{}th Most Common Venue'.format(ind+1))\n",
        "\n",
        "# create a new dataframe\n",
        "neighborhoods_venues_sorted = pd.DataFrame(columns=columns)\n",
        "neighborhoods_venues_sorted['Neighborhood'] = sf_grouped['Neighborhood']\n",
        "\n",
        "for ind in np.arange(sf_grouped.shape[0]):\n",
        "    neighborhoods_venues_sorted.iloc[ind, 1:] = return_most_common_venues(sf_grouped.iloc[ind, :], num_top_venues)\n",
        "\n",
        "neighborhoods_venues_sorted"
      ],
      "execution_count": 489,
      "outputs": [
        {
          "output_type": "execute_result",
          "data": {
            "text/html": [
              "<div>\n",
              "<style scoped>\n",
              "    .dataframe tbody tr th:only-of-type {\n",
              "        vertical-align: middle;\n",
              "    }\n",
              "\n",
              "    .dataframe tbody tr th {\n",
              "        vertical-align: top;\n",
              "    }\n",
              "\n",
              "    .dataframe thead th {\n",
              "        text-align: right;\n",
              "    }\n",
              "</style>\n",
              "<table border=\"1\" class=\"dataframe\">\n",
              "  <thead>\n",
              "    <tr style=\"text-align: right;\">\n",
              "      <th></th>\n",
              "      <th>Neighborhood</th>\n",
              "      <th>1st Most Common Venue</th>\n",
              "      <th>2nd Most Common Venue</th>\n",
              "      <th>3rd Most Common Venue</th>\n",
              "      <th>4th Most Common Venue</th>\n",
              "      <th>5th Most Common Venue</th>\n",
              "      <th>6th Most Common Venue</th>\n",
              "      <th>7th Most Common Venue</th>\n",
              "      <th>8th Most Common Venue</th>\n",
              "      <th>9th Most Common Venue</th>\n",
              "      <th>10th Most Common Venue</th>\n",
              "    </tr>\n",
              "  </thead>\n",
              "  <tbody>\n",
              "    <tr>\n",
              "      <th>0</th>\n",
              "      <td>Bayview-Hunters Point</td>\n",
              "      <td>School</td>\n",
              "      <td>Bus Station</td>\n",
              "      <td>Pharmacy</td>\n",
              "      <td>Gym</td>\n",
              "      <td>Garden</td>\n",
              "      <td>Pool</td>\n",
              "      <td>Park</td>\n",
              "      <td>Dessert Shop</td>\n",
              "      <td>Zoo Exhibit</td>\n",
              "      <td>Gym / Fitness Center</td>\n",
              "    </tr>\n",
              "    <tr>\n",
              "      <th>1</th>\n",
              "      <td>Castro/Noe Valley</td>\n",
              "      <td>Park</td>\n",
              "      <td>Playground</td>\n",
              "      <td>Gym</td>\n",
              "      <td>Pizza Place</td>\n",
              "      <td>Chocolate Shop</td>\n",
              "      <td>Shopping Mall</td>\n",
              "      <td>School</td>\n",
              "      <td>Sandwich Place</td>\n",
              "      <td>Toy / Game Store</td>\n",
              "      <td>Pharmacy</td>\n",
              "    </tr>\n",
              "    <tr>\n",
              "      <th>2</th>\n",
              "      <td>Chinatown</td>\n",
              "      <td>Elementary School</td>\n",
              "      <td>Pizza Place</td>\n",
              "      <td>Park</td>\n",
              "      <td>School</td>\n",
              "      <td>Preschool</td>\n",
              "      <td>Gym / Fitness Center</td>\n",
              "      <td>Gym</td>\n",
              "      <td>Language School</td>\n",
              "      <td>Sandwich Place</td>\n",
              "      <td>Ice Cream Shop</td>\n",
              "    </tr>\n",
              "    <tr>\n",
              "      <th>3</th>\n",
              "      <td>Haight-Ashbury</td>\n",
              "      <td>Park</td>\n",
              "      <td>Pizza Place</td>\n",
              "      <td>High School</td>\n",
              "      <td>Ice Cream Shop</td>\n",
              "      <td>Sports Club</td>\n",
              "      <td>School</td>\n",
              "      <td>Bus Station</td>\n",
              "      <td>Toy / Game Store</td>\n",
              "      <td>Playground</td>\n",
              "      <td>Music School</td>\n",
              "    </tr>\n",
              "    <tr>\n",
              "      <th>4</th>\n",
              "      <td>Hayes Valley/Tenderloin/North of Market</td>\n",
              "      <td>School</td>\n",
              "      <td>Park</td>\n",
              "      <td>Pizza Place</td>\n",
              "      <td>Ice Cream Shop</td>\n",
              "      <td>Gym / Fitness Center</td>\n",
              "      <td>Dessert Shop</td>\n",
              "      <td>Music School</td>\n",
              "      <td>Gym</td>\n",
              "      <td>Elementary School</td>\n",
              "      <td>Bike Rental / Bike Share</td>\n",
              "    </tr>\n",
              "    <tr>\n",
              "      <th>5</th>\n",
              "      <td>Ingelside-Excelsior/Crocker-Amazon</td>\n",
              "      <td>Baseball Field</td>\n",
              "      <td>Pizza Place</td>\n",
              "      <td>Playground</td>\n",
              "      <td>Bus Station</td>\n",
              "      <td>Pharmacy</td>\n",
              "      <td>Bike Rental / Bike Share</td>\n",
              "      <td>Cafeteria</td>\n",
              "      <td>Candy Store</td>\n",
              "      <td>Chocolate Shop</td>\n",
              "      <td>Ice Cream Shop</td>\n",
              "    </tr>\n",
              "    <tr>\n",
              "      <th>6</th>\n",
              "      <td>Inner Mission/Bernal Heights</td>\n",
              "      <td>Playground</td>\n",
              "      <td>Pizza Place</td>\n",
              "      <td>Gym</td>\n",
              "      <td>Park</td>\n",
              "      <td>Gym / Fitness Center</td>\n",
              "      <td>Elementary School</td>\n",
              "      <td>Ice Cream Shop</td>\n",
              "      <td>Garden</td>\n",
              "      <td>Dessert Shop</td>\n",
              "      <td>Zoo Exhibit</td>\n",
              "    </tr>\n",
              "    <tr>\n",
              "      <th>7</th>\n",
              "      <td>Inner Richmond</td>\n",
              "      <td>Elementary School</td>\n",
              "      <td>Baseball Field</td>\n",
              "      <td>Playground</td>\n",
              "      <td>Toy / Game Store</td>\n",
              "      <td>Dessert Shop</td>\n",
              "      <td>Park</td>\n",
              "      <td>Pizza Place</td>\n",
              "      <td>Preschool</td>\n",
              "      <td>School</td>\n",
              "      <td>Ice Cream Shop</td>\n",
              "    </tr>\n",
              "    <tr>\n",
              "      <th>8</th>\n",
              "      <td>Lake Merced</td>\n",
              "      <td>Park</td>\n",
              "      <td>Playground</td>\n",
              "      <td>Gym</td>\n",
              "      <td>Preschool</td>\n",
              "      <td>Chocolate Shop</td>\n",
              "      <td>Gym / Fitness Center</td>\n",
              "      <td>Garden</td>\n",
              "      <td>Elementary School</td>\n",
              "      <td>Dessert Shop</td>\n",
              "      <td>Zoo Exhibit</td>\n",
              "    </tr>\n",
              "    <tr>\n",
              "      <th>9</th>\n",
              "      <td>Marina</td>\n",
              "      <td>Gym / Fitness Center</td>\n",
              "      <td>Sandwich Place</td>\n",
              "      <td>Park</td>\n",
              "      <td>Pizza Place</td>\n",
              "      <td>Gym</td>\n",
              "      <td>Ice Cream Shop</td>\n",
              "      <td>School</td>\n",
              "      <td>Playground</td>\n",
              "      <td>Middle School</td>\n",
              "      <td>Baseball Field</td>\n",
              "    </tr>\n",
              "    <tr>\n",
              "      <th>10</th>\n",
              "      <td>North Beach/Chinatown</td>\n",
              "      <td>Park</td>\n",
              "      <td>Pizza Place</td>\n",
              "      <td>Ice Cream Shop</td>\n",
              "      <td>Bike Rental / Bike Share</td>\n",
              "      <td>Preschool</td>\n",
              "      <td>Playground</td>\n",
              "      <td>Chocolate Shop</td>\n",
              "      <td>Garden</td>\n",
              "      <td>Middle School</td>\n",
              "      <td>Beach</td>\n",
              "    </tr>\n",
              "    <tr>\n",
              "      <th>11</th>\n",
              "      <td>Outer Richmond</td>\n",
              "      <td>Pharmacy</td>\n",
              "      <td>Bus Station</td>\n",
              "      <td>Playground</td>\n",
              "      <td>Park</td>\n",
              "      <td>Pizza Place</td>\n",
              "      <td>Sandwich Place</td>\n",
              "      <td>Cafeteria</td>\n",
              "      <td>Dessert Shop</td>\n",
              "      <td>Gym</td>\n",
              "      <td>Garden</td>\n",
              "    </tr>\n",
              "    <tr>\n",
              "      <th>12</th>\n",
              "      <td>Parkside/Forest Hill</td>\n",
              "      <td>Playground</td>\n",
              "      <td>Park</td>\n",
              "      <td>Sandwich Place</td>\n",
              "      <td>Chocolate Shop</td>\n",
              "      <td>Gym / Fitness Center</td>\n",
              "      <td>Gym</td>\n",
              "      <td>Garden</td>\n",
              "      <td>Elementary School</td>\n",
              "      <td>Dessert Shop</td>\n",
              "      <td>Zoo Exhibit</td>\n",
              "    </tr>\n",
              "    <tr>\n",
              "      <th>13</th>\n",
              "      <td>Polk/Russian Hill (Nob Hill)</td>\n",
              "      <td>Park</td>\n",
              "      <td>Ice Cream Shop</td>\n",
              "      <td>Chocolate Shop</td>\n",
              "      <td>Pizza Place</td>\n",
              "      <td>Gym / Fitness Center</td>\n",
              "      <td>Bike Rental / Bike Share</td>\n",
              "      <td>Playground</td>\n",
              "      <td>National Park</td>\n",
              "      <td>High School</td>\n",
              "      <td>Garden</td>\n",
              "    </tr>\n",
              "    <tr>\n",
              "      <th>14</th>\n",
              "      <td>Potrero Hill</td>\n",
              "      <td>Park</td>\n",
              "      <td>Pizza Place</td>\n",
              "      <td>Sandwich Place</td>\n",
              "      <td>Bus Station</td>\n",
              "      <td>Garden</td>\n",
              "      <td>Playground</td>\n",
              "      <td>Dessert Shop</td>\n",
              "      <td>Gym / Fitness Center</td>\n",
              "      <td>Gym</td>\n",
              "      <td>Cafeteria</td>\n",
              "    </tr>\n",
              "    <tr>\n",
              "      <th>15</th>\n",
              "      <td>South of Market</td>\n",
              "      <td>School</td>\n",
              "      <td>Pizza Place</td>\n",
              "      <td>Gym</td>\n",
              "      <td>Gym / Fitness Center</td>\n",
              "      <td>Sandwich Place</td>\n",
              "      <td>Garden</td>\n",
              "      <td>Elementary School</td>\n",
              "      <td>Preschool</td>\n",
              "      <td>Toy / Game Store</td>\n",
              "      <td>Playground</td>\n",
              "    </tr>\n",
              "    <tr>\n",
              "      <th>16</th>\n",
              "      <td>St. Francis Wood/Miraloma/West Portal</td>\n",
              "      <td>School</td>\n",
              "      <td>Park</td>\n",
              "      <td>Pizza Place</td>\n",
              "      <td>Gym / Fitness Center</td>\n",
              "      <td>Playground</td>\n",
              "      <td>Pharmacy</td>\n",
              "      <td>High School</td>\n",
              "      <td>Elementary School</td>\n",
              "      <td>Toy / Game Store</td>\n",
              "      <td>Middle School</td>\n",
              "    </tr>\n",
              "    <tr>\n",
              "      <th>17</th>\n",
              "      <td>Sunset</td>\n",
              "      <td>Zoo Exhibit</td>\n",
              "      <td>Bus Station</td>\n",
              "      <td>Gym</td>\n",
              "      <td>Park</td>\n",
              "      <td>Picnic Area</td>\n",
              "      <td>Pizza Place</td>\n",
              "      <td>Sandwich Place</td>\n",
              "      <td>Shopping Mall</td>\n",
              "      <td>Cafeteria</td>\n",
              "      <td>Candy Store</td>\n",
              "    </tr>\n",
              "    <tr>\n",
              "      <th>18</th>\n",
              "      <td>Twin Peaks-Glen Park</td>\n",
              "      <td>Park</td>\n",
              "      <td>Playground</td>\n",
              "      <td>Pizza Place</td>\n",
              "      <td>Bus Station</td>\n",
              "      <td>Garden</td>\n",
              "      <td>Gym / Fitness Center</td>\n",
              "      <td>Gym</td>\n",
              "      <td>Elementary School</td>\n",
              "      <td>Dessert Shop</td>\n",
              "      <td>Zoo Exhibit</td>\n",
              "    </tr>\n",
              "    <tr>\n",
              "      <th>19</th>\n",
              "      <td>Visitacion Valley/Sunnydale</td>\n",
              "      <td>Elementary School</td>\n",
              "      <td>Park</td>\n",
              "      <td>Pizza Place</td>\n",
              "      <td>Garden</td>\n",
              "      <td>Middle School</td>\n",
              "      <td>Sandwich Place</td>\n",
              "      <td>Pool</td>\n",
              "      <td>Playground</td>\n",
              "      <td>Chocolate Shop</td>\n",
              "      <td>Gym</td>\n",
              "    </tr>\n",
              "    <tr>\n",
              "      <th>20</th>\n",
              "      <td>Western Addition/Japantown</td>\n",
              "      <td>School</td>\n",
              "      <td>Ice Cream Shop</td>\n",
              "      <td>Park</td>\n",
              "      <td>High School</td>\n",
              "      <td>Shopping Mall</td>\n",
              "      <td>Sandwich Place</td>\n",
              "      <td>Elementary School</td>\n",
              "      <td>Pizza Place</td>\n",
              "      <td>Language School</td>\n",
              "      <td>Toy / Game Store</td>\n",
              "    </tr>\n",
              "  </tbody>\n",
              "</table>\n",
              "</div>"
            ],
            "text/plain": [
              "                               Neighborhood  ...    10th Most Common Venue\n",
              "0                     Bayview-Hunters Point  ...      Gym / Fitness Center\n",
              "1                         Castro/Noe Valley  ...                  Pharmacy\n",
              "2                                 Chinatown  ...            Ice Cream Shop\n",
              "3                            Haight-Ashbury  ...              Music School\n",
              "4   Hayes Valley/Tenderloin/North of Market  ...  Bike Rental / Bike Share\n",
              "5        Ingelside-Excelsior/Crocker-Amazon  ...            Ice Cream Shop\n",
              "6              Inner Mission/Bernal Heights  ...               Zoo Exhibit\n",
              "7                            Inner Richmond  ...            Ice Cream Shop\n",
              "8                               Lake Merced  ...               Zoo Exhibit\n",
              "9                                    Marina  ...            Baseball Field\n",
              "10                    North Beach/Chinatown  ...                     Beach\n",
              "11                           Outer Richmond  ...                    Garden\n",
              "12                     Parkside/Forest Hill  ...               Zoo Exhibit\n",
              "13             Polk/Russian Hill (Nob Hill)  ...                    Garden\n",
              "14                             Potrero Hill  ...                 Cafeteria\n",
              "15                          South of Market  ...                Playground\n",
              "16    St. Francis Wood/Miraloma/West Portal  ...             Middle School\n",
              "17                                   Sunset  ...               Candy Store\n",
              "18                     Twin Peaks-Glen Park  ...               Zoo Exhibit\n",
              "19              Visitacion Valley/Sunnydale  ...                       Gym\n",
              "20               Western Addition/Japantown  ...          Toy / Game Store\n",
              "\n",
              "[21 rows x 11 columns]"
            ]
          },
          "metadata": {
            "tags": []
          },
          "execution_count": 489
        }
      ]
    },
    {
      "cell_type": "markdown",
      "metadata": {
        "id": "ZUDkVByq6FAb"
      },
      "source": [
        "## Clustering"
      ]
    },
    {
      "cell_type": "code",
      "metadata": {
        "id": "HYD5rjUR6Z1S"
      },
      "source": [
        "sf_grouped_clustering = sf_grouped.drop('Neighborhood', 1)"
      ],
      "execution_count": 490,
      "outputs": []
    },
    {
      "cell_type": "markdown",
      "metadata": {
        "id": "4l__HKm44JDF"
      },
      "source": [
        "### Find the best k - elbow method"
      ]
    },
    {
      "cell_type": "code",
      "metadata": {
        "id": "WHbhBz93ydPy"
      },
      "source": [
        "nK = 15\n",
        "kRange = range(1, nK + 1)\n",
        "distortions = []\n",
        "\n",
        "for k in kRange:\n",
        "    model = KMeans(n_clusters=k)\n",
        "    model.fit(sf_grouped_clustering)\n",
        "    distortions.append(model.inertia_)"
      ],
      "execution_count": 491,
      "outputs": []
    },
    {
      "cell_type": "code",
      "metadata": {
        "id": "4Qa4AoYr47T9",
        "colab": {
          "base_uri": "https://localhost:8080/",
          "height": 513
        },
        "outputId": "2edd51af-fe95-4a93-d3e1-122ec7beedf1"
      },
      "source": [
        "plt.figure(figsize=(16,8))\n",
        "plt.plot(kRange, distortions, 'bx-')\n",
        "plt.xlabel('k')\n",
        "plt.ylabel('Distortion')\n",
        "plt.title('The Elbow Method showing the optimal k')\n",
        "plt.show()"
      ],
      "execution_count": 492,
      "outputs": [
        {
          "output_type": "display_data",
          "data": {
            "image/png": "[encoded data removed]",
            "text/plain": [
              "<Figure size 1152x576 with 1 Axes>"
            ]
          },
          "metadata": {
            "tags": [],
            "needs_background": "light"
          }
        }
      ]
    },
    {
      "cell_type": "markdown",
      "metadata": {
        "id": "7BiZnQiS6HsS"
      },
      "source": [
        "Distortion is low, anyway we can the number 3 which is optimal for this case. Now we can run a K-Means using as n_clusters the number 3."
      ]
    },
    {
      "cell_type": "markdown",
      "metadata": {
        "id": "xU15smFx6Kia"
      },
      "source": [
        "### Run K-Means using 3 clusters"
      ]
    },
    {
      "cell_type": "code",
      "metadata": {
        "id": "QPiD9sKU5IT1",
        "colab": {
          "base_uri": "https://localhost:8080/"
        },
        "outputId": "4d4cd2ce-f5f6-4320-ad78-aa8479a1a214"
      },
      "source": [
        "kclusters = 3\n",
        "\n",
        "kmeans = KMeans(n_clusters=kclusters, random_state=0).fit(sf_grouped_clustering)\n",
        "kmeans.labels_"
      ],
      "execution_count": 493,
      "outputs": [
        {
          "output_type": "execute_result",
          "data": {
            "text/plain": [
              "array([1, 1, 1, 1, 1, 1, 1, 1, 0, 1, 1, 1, 0, 1, 1, 1, 1, 2, 0, 1, 1],\n",
              "      dtype=int32)"
            ]
          },
          "metadata": {
            "tags": []
          },
          "execution_count": 493
        }
      ]
    },
    {
      "cell_type": "markdown",
      "metadata": {
        "id": "AY8e6eXi6vai"
      },
      "source": [
        "### Add cluster labels to dataframe"
      ]
    },
    {
      "cell_type": "code",
      "metadata": {
        "id": "vcDJ5dj06pEu",
        "colab": {
          "base_uri": "https://localhost:8080/",
          "height": 323
        },
        "outputId": "76d2eb43-0441-4543-b866-e6426c01d3b6"
      },
      "source": [
        "neighborhoods_venues_sorted.insert(0, 'ClusterLabels', kmeans.labels_)\n",
        "\n",
        "sf_merged = neighborhood_df\n",
        "\n",
        "# merge to add latitude/longitude for each neighbourhood\n",
        "sf_merged = sf_merged.join(neighborhoods_venues_sorted.set_index('Neighborhood'), on='Neighborhood')\n",
        "\n",
        "sf_merged.head()"
      ],
      "execution_count": 494,
      "outputs": [
        {
          "output_type": "execute_result",
          "data": {
            "text/html": [
              "<div>\n",
              "<style scoped>\n",
              "    .dataframe tbody tr th:only-of-type {\n",
              "        vertical-align: middle;\n",
              "    }\n",
              "\n",
              "    .dataframe tbody tr th {\n",
              "        vertical-align: top;\n",
              "    }\n",
              "\n",
              "    .dataframe thead th {\n",
              "        text-align: right;\n",
              "    }\n",
              "</style>\n",
              "<table border=\"1\" class=\"dataframe\">\n",
              "  <thead>\n",
              "    <tr style=\"text-align: right;\">\n",
              "      <th></th>\n",
              "      <th>Neighborhood</th>\n",
              "      <th>NeighborhoodLatitude</th>\n",
              "      <th>NeighborhoodLongitude</th>\n",
              "      <th>ClusterLabels</th>\n",
              "      <th>1st Most Common Venue</th>\n",
              "      <th>2nd Most Common Venue</th>\n",
              "      <th>3rd Most Common Venue</th>\n",
              "      <th>4th Most Common Venue</th>\n",
              "      <th>5th Most Common Venue</th>\n",
              "      <th>6th Most Common Venue</th>\n",
              "      <th>7th Most Common Venue</th>\n",
              "      <th>8th Most Common Venue</th>\n",
              "      <th>9th Most Common Venue</th>\n",
              "      <th>10th Most Common Venue</th>\n",
              "    </tr>\n",
              "  </thead>\n",
              "  <tbody>\n",
              "    <tr>\n",
              "      <th>0</th>\n",
              "      <td>Hayes Valley/Tenderloin/North of Market</td>\n",
              "      <td>37.77428</td>\n",
              "      <td>-122.42833</td>\n",
              "      <td>1</td>\n",
              "      <td>School</td>\n",
              "      <td>Park</td>\n",
              "      <td>Pizza Place</td>\n",
              "      <td>Ice Cream Shop</td>\n",
              "      <td>Gym / Fitness Center</td>\n",
              "      <td>Dessert Shop</td>\n",
              "      <td>Music School</td>\n",
              "      <td>Gym</td>\n",
              "      <td>Elementary School</td>\n",
              "      <td>Bike Rental / Bike Share</td>\n",
              "    </tr>\n",
              "    <tr>\n",
              "      <th>1</th>\n",
              "      <td>South of Market</td>\n",
              "      <td>37.77757</td>\n",
              "      <td>-122.40435</td>\n",
              "      <td>1</td>\n",
              "      <td>School</td>\n",
              "      <td>Pizza Place</td>\n",
              "      <td>Gym</td>\n",
              "      <td>Gym / Fitness Center</td>\n",
              "      <td>Sandwich Place</td>\n",
              "      <td>Garden</td>\n",
              "      <td>Elementary School</td>\n",
              "      <td>Preschool</td>\n",
              "      <td>Toy / Game Store</td>\n",
              "      <td>Playground</td>\n",
              "    </tr>\n",
              "    <tr>\n",
              "      <th>2</th>\n",
              "      <td>Potrero Hill</td>\n",
              "      <td>37.75660</td>\n",
              "      <td>-122.39914</td>\n",
              "      <td>1</td>\n",
              "      <td>Park</td>\n",
              "      <td>Pizza Place</td>\n",
              "      <td>Sandwich Place</td>\n",
              "      <td>Bus Station</td>\n",
              "      <td>Garden</td>\n",
              "      <td>Playground</td>\n",
              "      <td>Dessert Shop</td>\n",
              "      <td>Gym / Fitness Center</td>\n",
              "      <td>Gym</td>\n",
              "      <td>Cafeteria</td>\n",
              "    </tr>\n",
              "    <tr>\n",
              "      <th>3</th>\n",
              "      <td>Chinatown</td>\n",
              "      <td>37.79539</td>\n",
              "      <td>-122.40812</td>\n",
              "      <td>1</td>\n",
              "      <td>Elementary School</td>\n",
              "      <td>Pizza Place</td>\n",
              "      <td>Park</td>\n",
              "      <td>School</td>\n",
              "      <td>Preschool</td>\n",
              "      <td>Gym / Fitness Center</td>\n",
              "      <td>Gym</td>\n",
              "      <td>Language School</td>\n",
              "      <td>Sandwich Place</td>\n",
              "      <td>Ice Cream Shop</td>\n",
              "    </tr>\n",
              "    <tr>\n",
              "      <th>4</th>\n",
              "      <td>Polk/Russian Hill (Nob Hill)</td>\n",
              "      <td>37.80203</td>\n",
              "      <td>-122.41963</td>\n",
              "      <td>1</td>\n",
              "      <td>Park</td>\n",
              "      <td>Ice Cream Shop</td>\n",
              "      <td>Chocolate Shop</td>\n",
              "      <td>Pizza Place</td>\n",
              "      <td>Gym / Fitness Center</td>\n",
              "      <td>Bike Rental / Bike Share</td>\n",
              "      <td>Playground</td>\n",
              "      <td>National Park</td>\n",
              "      <td>High School</td>\n",
              "      <td>Garden</td>\n",
              "    </tr>\n",
              "  </tbody>\n",
              "</table>\n",
              "</div>"
            ],
            "text/plain": [
              "                              Neighborhood  ...    10th Most Common Venue\n",
              "0  Hayes Valley/Tenderloin/North of Market  ...  Bike Rental / Bike Share\n",
              "1                          South of Market  ...                Playground\n",
              "2                             Potrero Hill  ...                 Cafeteria\n",
              "3                                Chinatown  ...            Ice Cream Shop\n",
              "4             Polk/Russian Hill (Nob Hill)  ...                    Garden\n",
              "\n",
              "[5 rows x 14 columns]"
            ]
          },
          "metadata": {
            "tags": []
          },
          "execution_count": 494
        }
      ]
    },
    {
      "cell_type": "markdown",
      "metadata": {
        "id": "tj7MjNcVA9MS"
      },
      "source": [
        "## Visualize clusters on map"
      ]
    },
    {
      "cell_type": "code",
      "metadata": {
        "id": "7NIflOed7j_Y",
        "colab": {
          "base_uri": "https://localhost:8080/",
          "height": 1000
        },
        "outputId": "8d5ce831-0798-4681-9750-c26cede49dfb"
      },
      "source": [
        "# create map\n",
        "map_clusters = folium.Map(location=[latitude, longitude], zoom_start=11)\n",
        "\n",
        "# set color scheme for the clusters\n",
        "x = np.arange(kclusters)\n",
        "ys = [i + x + (i*x)**2 for i in range(kclusters)]\n",
        "colors_array = cm.rainbow(np.linspace(0, 1, len(ys)))\n",
        "rainbow = [colors.rgb2hex(i) for i in colors_array]\n",
        "\n",
        "# add markers to the map\n",
        "markers_colors = []\n",
        "for lat, lon, poi, cluster in zip(sf_merged['NeighborhoodLatitude'], sf_merged['NeighborhoodLongitude'], sf_merged['Neighborhood'], sf_merged['ClusterLabels']):\n",
        "    label = folium.Popup(str(poi) + ' Cluster ' + str(cluster), parse_html=True)\n",
        "    folium.CircleMarker(\n",
        "        [lat, lon],\n",
        "        radius=5,\n",
        "        popup=label,\n",
        "        color=rainbow[cluster-1],\n",
        "        fill=True,\n",
        "        fill_color=rainbow[cluster-1],\n",
        "        fill_opacity=0.7).add_to(map_clusters)\n",
        "       \n",
        "map_clusters"
      ],
      "execution_count": 495,
      "outputs": [
        {
          "output_type": "execute_result",
          "data": {
            "text/html": [
              "<div style=\"width:100%;\"><div style=\"position:relative;width:100%;height:0;padding-bottom:60%;\"><span style=\"color:#565656\">Make this Notebook Trusted to load map: File -> Trust Notebook</span><iframe src=\"about:blank\" style=\"position:absolute;width:100%;height:100%;left:0;top:0;border:none !important;\" data-html=%3C%21DOCTYPE%20html%3E%0A%3Chead%3E%20%20%20%20%0A%20%20%20%20%3Cmeta%20http-equiv%3D%22content-type%22%20content%3D%22text/html%3B%20charset%3DUTF-8%22%20/%3E%0A%20%20%20%20%3Cscript%3EL_PREFER_CANVAS%3Dfalse%3B%20L_NO_TOUCH%3Dfalse%3B%20L_DISABLE_3D%3Dfalse%3B%3C/script%3E%0A%20%20%20%20%3Cscript%20src%3D%22https%3A//cdn.jsdelivr.net/npm/leaflet%401.4.0/dist/leaflet.js%22%3E%3C/script%3E%0A%20%20%20%20%3Cscript%20src%3D%22https%3A//code.jquery.com/jquery-1.12.4.min.js%22%3E%3C/script%3E%0A%20%20%20%20%3Cscript%20src%3D%22https%3A//maxcdn.bootstrapcdn.com/bootstrap/3.2.0/js/bootstrap.min.js%22%3E%3C/script%3E%0A%20%20%20%20%3Cscript%20src%3D%22https%3A//cdnjs.cloudflare.com/ajax/libs/Leaflet.awesome-markers/2.0.2/leaflet.awesome-markers.js%22%3E%3C/script%3E%0A%20%20%20%20%3Clink%20rel%3D%22stylesheet%22%20href%3D%22https%3A//cdn.jsdelivr.net/npm/leaflet%401.4.0/dist/leaflet.css%22/%3E%0A%20%20%20%20%3Clink%20rel%3D%22stylesheet%22%20href%3D%22https%3A//maxcdn.bootstrapcdn.com/bootstrap/3.2.0/css/bootstrap.min.css%22/%3E%0A%20%20%20%20%3Clink%20rel%3D%22stylesheet%22%20href%3D%22https%3A//maxcdn.bootstrapcdn.com/bootstrap/3.2.0/css/bootstrap-theme.min.css%22/%3E%0A%20%20%20%20%3Clink%20rel%3D%22stylesheet%22%20href%3D%22https%3A//maxcdn.bootstrapcdn.com/font-awesome/4.6.3/css/font-awesome.min.css%22/%3E%0A%20%20%20%20%3Clink%20rel%3D%22stylesheet%22%20href%3D%22https%3A//cdnjs.cloudflare.com/ajax/libs/Leaflet.awesome-markers/2.0.2/leaflet.awesome-markers.css%22/%3E%0A%20%20%20%20%3Clink%20rel%3D%22stylesheet%22%20href%3D%22https%3A//rawcdn.githack.com/python-visualization/folium/master/folium/templates/leaflet.awesome.rotate.css%22/%3E%0A%20%20%20%20%3Cstyle%3Ehtml%2C%20body%20%7Bwidth%3A%20100%25%3Bheight%3A%20100%25%3Bmargin%3A%200%3Bpadding%3A%200%3B%7D%3C/style%3E%0A%20%20%20%20%3Cstyle%3E%23map%20%7Bposition%3Aabsolute%3Btop%3A0%3Bbottom%3A0%3Bright%3A0%3Bleft%3A0%3B%7D%3C/style%3E%0A%20%20%20%20%0A%20%20%20%20%3Cmeta%20name%3D%22viewport%22%20content%3D%22width%3Ddevice-width%2C%0A%20%20%20%20%20%20%20%20initial-scale%3D1.0%2C%20maximum-scale%3D1.0%2C%20user-scalable%3Dno%22%20/%3E%0A%20%20%20%20%3Cstyle%3E%23map_fa7e0642a5634a72a4245997c3d11426%20%7B%0A%20%20%20%20%20%20%20%20position%3A%20relative%3B%0A%20%20%20%20%20%20%20%20width%3A%20100.0%25%3B%0A%20%20%20%20%20%20%20%20height%3A%20100.0%25%3B%0A%20%20%20%20%20%20%20%20left%3A%200.0%25%3B%0A%20%20%20%20%20%20%20%20top%3A%200.0%25%3B%0A%20%20%20%20%20%20%20%20%7D%0A%20%20%20%20%3C/style%3E%0A%3C/head%3E%0A%3Cbody%3E%20%20%20%20%0A%20%20%20%20%0A%20%20%20%20%3Cdiv%20class%3D%22folium-map%22%20id%3D%22map_fa7e0642a5634a72a4245997c3d11426%22%20%3E%3C/div%3E%0A%3C/body%3E%0A%3Cscript%3E%20%20%20%20%0A%20%20%20%20%0A%20%20%20%20%0A%20%20%20%20%20%20%20%20var%20bounds%20%3D%20null%3B%0A%20%20%20%20%0A%0A%20%20%20%20var%20map_fa7e0642a5634a72a4245997c3d11426%20%3D%20L.map%28%0A%20%20%20%20%20%20%20%20%27map_fa7e0642a5634a72a4245997c3d11426%27%2C%20%7B%0A%20%20%20%20%20%20%20%20center%3A%20%5B37.7790262%2C%20-122.419906%5D%2C%0A%20%20%20%20%20%20%20%20zoom%3A%2011%2C%0A%20%20%20%20%20%20%20%20maxBounds%3A%20bounds%2C%0A%20%20%20%20%20%20%20%20layers%3A%20%5B%5D%2C%0A%20%20%20%20%20%20%20%20worldCopyJump%3A%20false%2C%0A%20%20%20%20%20%20%20%20crs%3A%20L.CRS.EPSG3857%2C%0A%20%20%20%20%20%20%20%20zoomControl%3A%20true%2C%0A%20%20%20%20%20%20%20%20%7D%29%3B%0A%0A%0A%20%20%20%20%0A%20%20%20%20var%20tile_layer_e166aa53704541019dedaf6515ca23eb%20%3D%20L.tileLayer%28%0A%20%20%20%20%20%20%20%20%27https%3A//%7Bs%7D.tile.openstreetmap.org/%7Bz%7D/%7Bx%7D/%7By%7D.png%27%2C%0A%20%20%20%20%20%20%20%20%7B%0A%20%20%20%20%20%20%20%20%22attribution%22%3A%20null%2C%0A%20%20%20%20%20%20%20%20%22detectRetina%22%3A%20false%2C%0A%20%20%20%20%20%20%20%20%22maxNativeZoom%22%3A%2018%2C%0A%20%20%20%20%20%20%20%20%22maxZoom%22%3A%2018%2C%0A%20%20%20%20%20%20%20%20%22minZoom%22%3A%200%2C%0A%20%20%20%20%20%20%20%20%22noWrap%22%3A%20false%2C%0A%20%20%20%20%20%20%20%20%22opacity%22%3A%201%2C%0A%20%20%20%20%20%20%20%20%22subdomains%22%3A%20%22abc%22%2C%0A%20%20%20%20%20%20%20%20%22tms%22%3A%20false%0A%7D%29.addTo%28map_fa7e0642a5634a72a4245997c3d11426%29%3B%0A%20%20%20%20%0A%20%20%20%20%20%20%20%20%20%20%20%20var%20circle_marker_6c2b168f581842758547cd461f18c45e%20%3D%20L.circleMarker%28%0A%20%20%20%20%20%20%20%20%20%20%20%20%20%20%20%20%5B37.77428000000003%2C%20-122.42832999999996%5D%2C%0A%20%20%20%20%20%20%20%20%20%20%20%20%20%20%20%20%7B%0A%20%20%22bubblingMouseEvents%22%3A%20true%2C%0A%20%20%22color%22%3A%20%22%238000ff%22%2C%0A%20%20%22dashArray%22%3A%20null%2C%0A%20%20%22dashOffset%22%3A%20null%2C%0A%20%20%22fill%22%3A%20true%2C%0A%20%20%22fillColor%22%3A%20%22%238000ff%22%2C%0A%20%20%22fillOpacity%22%3A%200.7%2C%0A%20%20%22fillRule%22%3A%20%22evenodd%22%2C%0A%20%20%22lineCap%22%3A%20%22round%22%2C%0A%20%20%22lineJoin%22%3A%20%22round%22%2C%0A%20%20%22opacity%22%3A%201.0%2C%0A%20%20%22radius%22%3A%205%2C%0A%20%20%22stroke%22%3A%20true%2C%0A%20%20%22weight%22%3A%203%0A%7D%0A%20%20%20%20%20%20%20%20%20%20%20%20%20%20%20%20%29%0A%20%20%20%20%20%20%20%20%20%20%20%20%20%20%20%20.addTo%28map_fa7e0642a5634a72a4245997c3d11426%29%3B%0A%20%20%20%20%20%20%20%20%20%20%20%20%0A%20%20%20%20%0A%20%20%20%20%20%20%20%20%20%20%20%20var%20popup_a1e5f55e26754e8f9f780eb7b0b504a6%20%3D%20L.popup%28%7BmaxWidth%3A%20%27100%25%27%0A%20%20%20%20%20%20%20%20%20%20%20%20%0A%20%20%20%20%20%20%20%20%20%20%20%20%7D%29%3B%0A%0A%20%20%20%20%20%20%20%20%20%20%20%20%0A%20%20%20%20%20%20%20%20%20%20%20%20%20%20%20%20var%20html_bdcfc9d05d3c4609acb175923fd8e89c%20%3D%20%24%28%60%3Cdiv%20id%3D%22html_bdcfc9d05d3c4609acb175923fd8e89c%22%20style%3D%22width%3A%20100.0%25%3B%20height%3A%20100.0%25%3B%22%3EHayes%20Valley/Tenderloin/North%20of%20Market%20Cluster%201%3C/div%3E%60%29%5B0%5D%3B%0A%20%20%20%20%20%20%20%20%20%20%20%20%20%20%20%20popup_a1e5f55e26754e8f9f780eb7b0b504a6.setContent%28html_bdcfc9d05d3c4609acb175923fd8e89c%29%3B%0A%20%20%20%20%20%20%20%20%20%20%20%20%0A%0A%20%20%20%20%20%20%20%20%20%20%20%20circle_marker_6c2b168f581842758547cd461f18c45e.bindPopup%28popup_a1e5f55e26754e8f9f780eb7b0b504a6%29%0A%20%20%20%20%20%20%20%20%20%20%20%20%3B%0A%0A%20%20%20%20%20%20%20%20%20%20%20%20%0A%20%20%20%20%20%20%20%20%0A%20%20%20%20%0A%20%20%20%20%20%20%20%20%20%20%20%20var%20circle_marker_898fc83b885b42709da58b407cbeafd7%20%3D%20L.circleMarker%28%0A%20%20%20%20%20%20%20%20%20%20%20%20%20%20%20%20%5B37.777570000000026%2C%20-122.40434999999997%5D%2C%0A%20%20%20%20%20%20%20%20%20%20%20%20%20%20%20%20%7B%0A%20%20%22bubblingMouseEvents%22%3A%20true%2C%0A%20%20%22color%22%3A%20%22%238000ff%22%2C%0A%20%20%22dashArray%22%3A%20null%2C%0A%20%20%22dashOffset%22%3A%20null%2C%0A%20%20%22fill%22%3A%20true%2C%0A%20%20%22fillColor%22%3A%20%22%238000ff%22%2C%0A%20%20%22fillOpacity%22%3A%200.7%2C%0A%20%20%22fillRule%22%3A%20%22evenodd%22%2C%0A%20%20%22lineCap%22%3A%20%22round%22%2C%0A%20%20%22lineJoin%22%3A%20%22round%22%2C%0A%20%20%22opacity%22%3A%201.0%2C%0A%20%20%22radius%22%3A%205%2C%0A%20%20%22stroke%22%3A%20true%2C%0A%20%20%22weight%22%3A%203%0A%7D%0A%20%20%20%20%20%20%20%20%20%20%20%20%20%20%20%20%29%0A%20%20%20%20%20%20%20%20%20%20%20%20%20%20%20%20.addTo%28map_fa7e0642a5634a72a4245997c3d11426%29%3B%0A%20%20%20%20%20%20%20%20%20%20%20%20%0A%20%20%20%20%0A%20%20%20%20%20%20%20%20%20%20%20%20var%20popup_6aa8367894b14fca88a304d675478111%20%3D%20L.popup%28%7BmaxWidth%3A%20%27100%25%27%0A%20%20%20%20%20%20%20%20%20%20%20%20%0A%20%20%20%20%20%20%20%20%20%20%20%20%7D%29%3B%0A%0A%20%20%20%20%20%20%20%20%20%20%20%20%0A%20%20%20%20%20%20%20%20%20%20%20%20%20%20%20%20var%20html_c93c25536fbd4433804f7b02d45f90d9%20%3D%20%24%28%60%3Cdiv%20id%3D%22html_c93c25536fbd4433804f7b02d45f90d9%22%20style%3D%22width%3A%20100.0%25%3B%20height%3A%20100.0%25%3B%22%3ESouth%20of%20Market%20Cluster%201%3C/div%3E%60%29%5B0%5D%3B%0A%20%20%20%20%20%20%20%20%20%20%20%20%20%20%20%20popup_6aa8367894b14fca88a304d675478111.setContent%28html_c93c25536fbd4433804f7b02d45f90d9%29%3B%0A%20%20%20%20%20%20%20%20%20%20%20%20%0A%0A%20%20%20%20%20%20%20%20%20%20%20%20circle_marker_898fc83b885b42709da58b407cbeafd7.bindPopup%28popup_6aa8367894b14fca88a304d675478111%29%0A%20%20%20%20%20%20%20%20%20%20%20%20%3B%0A%0A%20%20%20%20%20%20%20%20%20%20%20%20%0A%20%20%20%20%20%20%20%20%0A%20%20%20%20%0A%20%20%20%20%20%20%20%20%20%20%20%20var%20circle_marker_27535e1de4b8462bbe19d9742ba6d36c%20%3D%20L.circleMarker%28%0A%20%20%20%20%20%20%20%20%20%20%20%20%20%20%20%20%5B37.75660000000005%2C%20-122.39913999999999%5D%2C%0A%20%20%20%20%20%20%20%20%20%20%20%20%20%20%20%20%7B%0A%20%20%22bubblingMouseEvents%22%3A%20true%2C%0A%20%20%22color%22%3A%20%22%238000ff%22%2C%0A%20%20%22dashArray%22%3A%20null%2C%0A%20%20%22dashOffset%22%3A%20null%2C%0A%20%20%22fill%22%3A%20true%2C%0A%20%20%22fillColor%22%3A%20%22%238000ff%22%2C%0A%20%20%22fillOpacity%22%3A%200.7%2C%0A%20%20%22fillRule%22%3A%20%22evenodd%22%2C%0A%20%20%22lineCap%22%3A%20%22round%22%2C%0A%20%20%22lineJoin%22%3A%20%22round%22%2C%0A%20%20%22opacity%22%3A%201.0%2C%0A%20%20%22radius%22%3A%205%2C%0A%20%20%22stroke%22%3A%20true%2C%0A%20%20%22weight%22%3A%203%0A%7D%0A%20%20%20%20%20%20%20%20%20%20%20%20%20%20%20%20%29%0A%20%20%20%20%20%20%20%20%20%20%20%20%20%20%20%20.addTo%28map_fa7e0642a5634a72a4245997c3d11426%29%3B%0A%20%20%20%20%20%20%20%20%20%20%20%20%0A%20%20%20%20%0A%20%20%20%20%20%20%20%20%20%20%20%20var%20popup_8c499e79d4bc49209a8464d1e36d55f7%20%3D%20L.popup%28%7BmaxWidth%3A%20%27100%25%27%0A%20%20%20%20%20%20%20%20%20%20%20%20%0A%20%20%20%20%20%20%20%20%20%20%20%20%7D%29%3B%0A%0A%20%20%20%20%20%20%20%20%20%20%20%20%0A%20%20%20%20%20%20%20%20%20%20%20%20%20%20%20%20var%20html_be114ec5aceb40b0adb51aec3de63f17%20%3D%20%24%28%60%3Cdiv%20id%3D%22html_be114ec5aceb40b0adb51aec3de63f17%22%20style%3D%22width%3A%20100.0%25%3B%20height%3A%20100.0%25%3B%22%3EPotrero%20Hill%20Cluster%201%3C/div%3E%60%29%5B0%5D%3B%0A%20%20%20%20%20%20%20%20%20%20%20%20%20%20%20%20popup_8c499e79d4bc49209a8464d1e36d55f7.setContent%28html_be114ec5aceb40b0adb51aec3de63f17%29%3B%0A%20%20%20%20%20%20%20%20%20%20%20%20%0A%0A%20%20%20%20%20%20%20%20%20%20%20%20circle_marker_27535e1de4b8462bbe19d9742ba6d36c.bindPopup%28popup_8c499e79d4bc49209a8464d1e36d55f7%29%0A%20%20%20%20%20%20%20%20%20%20%20%20%3B%0A%0A%20%20%20%20%20%20%20%20%20%20%20%20%0A%20%20%20%20%20%20%20%20%0A%20%20%20%20%0A%20%20%20%20%20%20%20%20%20%20%20%20var%20circle_marker_c5fd5498848944ec8918ef140113de9f%20%3D%20L.circleMarker%28%0A%20%20%20%20%20%20%20%20%20%20%20%20%20%20%20%20%5B37.795390000000054%2C%20-122.40811999999994%5D%2C%0A%20%20%20%20%20%20%20%20%20%20%20%20%20%20%20%20%7B%0A%20%20%22bubblingMouseEvents%22%3A%20true%2C%0A%20%20%22color%22%3A%20%22%238000ff%22%2C%0A%20%20%22dashArray%22%3A%20null%2C%0A%20%20%22dashOffset%22%3A%20null%2C%0A%20%20%22fill%22%3A%20true%2C%0A%20%20%22fillColor%22%3A%20%22%238000ff%22%2C%0A%20%20%22fillOpacity%22%3A%200.7%2C%0A%20%20%22fillRule%22%3A%20%22evenodd%22%2C%0A%20%20%22lineCap%22%3A%20%22round%22%2C%0A%20%20%22lineJoin%22%3A%20%22round%22%2C%0A%20%20%22opacity%22%3A%201.0%2C%0A%20%20%22radius%22%3A%205%2C%0A%20%20%22stroke%22%3A%20true%2C%0A%20%20%22weight%22%3A%203%0A%7D%0A%20%20%20%20%20%20%20%20%20%20%20%20%20%20%20%20%29%0A%20%20%20%20%20%20%20%20%20%20%20%20%20%20%20%20.addTo%28map_fa7e0642a5634a72a4245997c3d11426%29%3B%0A%20%20%20%20%20%20%20%20%20%20%20%20%0A%20%20%20%20%0A%20%20%20%20%20%20%20%20%20%20%20%20var%20popup_81b150a57ca34fbda73cf24aeed4cd3e%20%3D%20L.popup%28%7BmaxWidth%3A%20%27100%25%27%0A%20%20%20%20%20%20%20%20%20%20%20%20%0A%20%20%20%20%20%20%20%20%20%20%20%20%7D%29%3B%0A%0A%20%20%20%20%20%20%20%20%20%20%20%20%0A%20%20%20%20%20%20%20%20%20%20%20%20%20%20%20%20var%20html_2d9bfad320904f829d66035d452140de%20%3D%20%24%28%60%3Cdiv%20id%3D%22html_2d9bfad320904f829d66035d452140de%22%20style%3D%22width%3A%20100.0%25%3B%20height%3A%20100.0%25%3B%22%3EChinatown%20Cluster%201%3C/div%3E%60%29%5B0%5D%3B%0A%20%20%20%20%20%20%20%20%20%20%20%20%20%20%20%20popup_81b150a57ca34fbda73cf24aeed4cd3e.setContent%28html_2d9bfad320904f829d66035d452140de%29%3B%0A%20%20%20%20%20%20%20%20%20%20%20%20%0A%0A%20%20%20%20%20%20%20%20%20%20%20%20circle_marker_c5fd5498848944ec8918ef140113de9f.bindPopup%28popup_81b150a57ca34fbda73cf24aeed4cd3e%29%0A%20%20%20%20%20%20%20%20%20%20%20%20%3B%0A%0A%20%20%20%20%20%20%20%20%20%20%20%20%0A%20%20%20%20%20%20%20%20%0A%20%20%20%20%0A%20%20%20%20%20%20%20%20%20%20%20%20var%20circle_marker_f9cf59444cba45b7ac15797116b34dda%20%3D%20L.circleMarker%28%0A%20%20%20%20%20%20%20%20%20%20%20%20%20%20%20%20%5B37.80203000000006%2C%20-122.41962999999998%5D%2C%0A%20%20%20%20%20%20%20%20%20%20%20%20%20%20%20%20%7B%0A%20%20%22bubblingMouseEvents%22%3A%20true%2C%0A%20%20%22color%22%3A%20%22%238000ff%22%2C%0A%20%20%22dashArray%22%3A%20null%2C%0A%20%20%22dashOffset%22%3A%20null%2C%0A%20%20%22fill%22%3A%20true%2C%0A%20%20%22fillColor%22%3A%20%22%238000ff%22%2C%0A%20%20%22fillOpacity%22%3A%200.7%2C%0A%20%20%22fillRule%22%3A%20%22evenodd%22%2C%0A%20%20%22lineCap%22%3A%20%22round%22%2C%0A%20%20%22lineJoin%22%3A%20%22round%22%2C%0A%20%20%22opacity%22%3A%201.0%2C%0A%20%20%22radius%22%3A%205%2C%0A%20%20%22stroke%22%3A%20true%2C%0A%20%20%22weight%22%3A%203%0A%7D%0A%20%20%20%20%20%20%20%20%20%20%20%20%20%20%20%20%29%0A%20%20%20%20%20%20%20%20%20%20%20%20%20%20%20%20.addTo%28map_fa7e0642a5634a72a4245997c3d11426%29%3B%0A%20%20%20%20%20%20%20%20%20%20%20%20%0A%20%20%20%20%0A%20%20%20%20%20%20%20%20%20%20%20%20var%20popup_0c31afc6eadd4ecbb2dc41a8eae5873a%20%3D%20L.popup%28%7BmaxWidth%3A%20%27100%25%27%0A%20%20%20%20%20%20%20%20%20%20%20%20%0A%20%20%20%20%20%20%20%20%20%20%20%20%7D%29%3B%0A%0A%20%20%20%20%20%20%20%20%20%20%20%20%0A%20%20%20%20%20%20%20%20%20%20%20%20%20%20%20%20var%20html_dea9d0a23e1146e0b89662cd35170a09%20%3D%20%24%28%60%3Cdiv%20id%3D%22html_dea9d0a23e1146e0b89662cd35170a09%22%20style%3D%22width%3A%20100.0%25%3B%20height%3A%20100.0%25%3B%22%3EPolk/Russian%20Hill%20%28Nob%20Hill%29%20Cluster%201%3C/div%3E%60%29%5B0%5D%3B%0A%20%20%20%20%20%20%20%20%20%20%20%20%20%20%20%20popup_0c31afc6eadd4ecbb2dc41a8eae5873a.setContent%28html_dea9d0a23e1146e0b89662cd35170a09%29%3B%0A%20%20%20%20%20%20%20%20%20%20%20%20%0A%0A%20%20%20%20%20%20%20%20%20%20%20%20circle_marker_f9cf59444cba45b7ac15797116b34dda.bindPopup%28popup_0c31afc6eadd4ecbb2dc41a8eae5873a%29%0A%20%20%20%20%20%20%20%20%20%20%20%20%3B%0A%0A%20%20%20%20%20%20%20%20%20%20%20%20%0A%20%20%20%20%20%20%20%20%0A%20%20%20%20%0A%20%20%20%20%20%20%20%20%20%20%20%20var%20circle_marker_7fc191f0b4fb471d9214e0089e994ae4%20%3D%20L.circleMarker%28%0A%20%20%20%20%20%20%20%20%20%20%20%20%20%20%20%20%5B37.741997438926944%2C%20-122.42222095946559%5D%2C%0A%20%20%20%20%20%20%20%20%20%20%20%20%20%20%20%20%7B%0A%20%20%22bubblingMouseEvents%22%3A%20true%2C%0A%20%20%22color%22%3A%20%22%238000ff%22%2C%0A%20%20%22dashArray%22%3A%20null%2C%0A%20%20%22dashOffset%22%3A%20null%2C%0A%20%20%22fill%22%3A%20true%2C%0A%20%20%22fillColor%22%3A%20%22%238000ff%22%2C%0A%20%20%22fillOpacity%22%3A%200.7%2C%0A%20%20%22fillRule%22%3A%20%22evenodd%22%2C%0A%20%20%22lineCap%22%3A%20%22round%22%2C%0A%20%20%22lineJoin%22%3A%20%22round%22%2C%0A%20%20%22opacity%22%3A%201.0%2C%0A%20%20%22radius%22%3A%205%2C%0A%20%20%22stroke%22%3A%20true%2C%0A%20%20%22weight%22%3A%203%0A%7D%0A%20%20%20%20%20%20%20%20%20%20%20%20%20%20%20%20%29%0A%20%20%20%20%20%20%20%20%20%20%20%20%20%20%20%20.addTo%28map_fa7e0642a5634a72a4245997c3d11426%29%3B%0A%20%20%20%20%20%20%20%20%20%20%20%20%0A%20%20%20%20%0A%20%20%20%20%20%20%20%20%20%20%20%20var%20popup_7f630d98e1b34e9dbb86ec58496a294a%20%3D%20L.popup%28%7BmaxWidth%3A%20%27100%25%27%0A%20%20%20%20%20%20%20%20%20%20%20%20%0A%20%20%20%20%20%20%20%20%20%20%20%20%7D%29%3B%0A%0A%20%20%20%20%20%20%20%20%20%20%20%20%0A%20%20%20%20%20%20%20%20%20%20%20%20%20%20%20%20var%20html_6a50f8db0a5a4dffba59e69b14c805ee%20%3D%20%24%28%60%3Cdiv%20id%3D%22html_6a50f8db0a5a4dffba59e69b14c805ee%22%20style%3D%22width%3A%20100.0%25%3B%20height%3A%20100.0%25%3B%22%3EInner%20Mission/Bernal%20Heights%20Cluster%201%3C/div%3E%60%29%5B0%5D%3B%0A%20%20%20%20%20%20%20%20%20%20%20%20%20%20%20%20popup_7f630d98e1b34e9dbb86ec58496a294a.setContent%28html_6a50f8db0a5a4dffba59e69b14c805ee%29%3B%0A%20%20%20%20%20%20%20%20%20%20%20%20%0A%0A%20%20%20%20%20%20%20%20%20%20%20%20circle_marker_7fc191f0b4fb471d9214e0089e994ae4.bindPopup%28popup_7f630d98e1b34e9dbb86ec58496a294a%29%0A%20%20%20%20%20%20%20%20%20%20%20%20%3B%0A%0A%20%20%20%20%20%20%20%20%20%20%20%20%0A%20%20%20%20%20%20%20%20%0A%20%20%20%20%0A%20%20%20%20%20%20%20%20%20%20%20%20var%20circle_marker_1db690a4176945e7a3cec064a676da8e%20%3D%20L.circleMarker%28%0A%20%20%20%20%20%20%20%20%20%20%20%20%20%20%20%20%5B37.71088000000003%2C%20-122.43769999999995%5D%2C%0A%20%20%20%20%20%20%20%20%20%20%20%20%20%20%20%20%7B%0A%20%20%22bubblingMouseEvents%22%3A%20true%2C%0A%20%20%22color%22%3A%20%22%238000ff%22%2C%0A%20%20%22dashArray%22%3A%20null%2C%0A%20%20%22dashOffset%22%3A%20null%2C%0A%20%20%22fill%22%3A%20true%2C%0A%20%20%22fillColor%22%3A%20%22%238000ff%22%2C%0A%20%20%22fillOpacity%22%3A%200.7%2C%0A%20%20%22fillRule%22%3A%20%22evenodd%22%2C%0A%20%20%22lineCap%22%3A%20%22round%22%2C%0A%20%20%22lineJoin%22%3A%20%22round%22%2C%0A%20%20%22opacity%22%3A%201.0%2C%0A%20%20%22radius%22%3A%205%2C%0A%20%20%22stroke%22%3A%20true%2C%0A%20%20%22weight%22%3A%203%0A%7D%0A%20%20%20%20%20%20%20%20%20%20%20%20%20%20%20%20%29%0A%20%20%20%20%20%20%20%20%20%20%20%20%20%20%20%20.addTo%28map_fa7e0642a5634a72a4245997c3d11426%29%3B%0A%20%20%20%20%20%20%20%20%20%20%20%20%0A%20%20%20%20%0A%20%20%20%20%20%20%20%20%20%20%20%20var%20popup_49e0b45340ee44bbb85fd6827f3b0bca%20%3D%20L.popup%28%7BmaxWidth%3A%20%27100%25%27%0A%20%20%20%20%20%20%20%20%20%20%20%20%0A%20%20%20%20%20%20%20%20%20%20%20%20%7D%29%3B%0A%0A%20%20%20%20%20%20%20%20%20%20%20%20%0A%20%20%20%20%20%20%20%20%20%20%20%20%20%20%20%20var%20html_aa2d0ac0cf32481f9b6e1eebd2b5dab8%20%3D%20%24%28%60%3Cdiv%20id%3D%22html_aa2d0ac0cf32481f9b6e1eebd2b5dab8%22%20style%3D%22width%3A%20100.0%25%3B%20height%3A%20100.0%25%3B%22%3EIngelside-Excelsior/Crocker-Amazon%20Cluster%201%3C/div%3E%60%29%5B0%5D%3B%0A%20%20%20%20%20%20%20%20%20%20%20%20%20%20%20%20popup_49e0b45340ee44bbb85fd6827f3b0bca.setContent%28html_aa2d0ac0cf32481f9b6e1eebd2b5dab8%29%3B%0A%20%20%20%20%20%20%20%20%20%20%20%20%0A%0A%20%20%20%20%20%20%20%20%20%20%20%20circle_marker_1db690a4176945e7a3cec064a676da8e.bindPopup%28popup_49e0b45340ee44bbb85fd6827f3b0bca%29%0A%20%20%20%20%20%20%20%20%20%20%20%20%3B%0A%0A%20%20%20%20%20%20%20%20%20%20%20%20%0A%20%20%20%20%20%20%20%20%0A%20%20%20%20%0A%20%20%20%20%20%20%20%20%20%20%20%20var%20circle_marker_8756ba576a8b42dd85e70ca76e838778%20%3D%20L.circleMarker%28%0A%20%20%20%20%20%20%20%20%20%20%20%20%20%20%20%20%5B37.747315835736856%2C%20-122.4336933819572%5D%2C%0A%20%20%20%20%20%20%20%20%20%20%20%20%20%20%20%20%7B%0A%20%20%22bubblingMouseEvents%22%3A%20true%2C%0A%20%20%22color%22%3A%20%22%238000ff%22%2C%0A%20%20%22dashArray%22%3A%20null%2C%0A%20%20%22dashOffset%22%3A%20null%2C%0A%20%20%22fill%22%3A%20true%2C%0A%20%20%22fillColor%22%3A%20%22%238000ff%22%2C%0A%20%20%22fillOpacity%22%3A%200.7%2C%0A%20%20%22fillRule%22%3A%20%22evenodd%22%2C%0A%20%20%22lineCap%22%3A%20%22round%22%2C%0A%20%20%22lineJoin%22%3A%20%22round%22%2C%0A%20%20%22opacity%22%3A%201.0%2C%0A%20%20%22radius%22%3A%205%2C%0A%20%20%22stroke%22%3A%20true%2C%0A%20%20%22weight%22%3A%203%0A%7D%0A%20%20%20%20%20%20%20%20%20%20%20%20%20%20%20%20%29%0A%20%20%20%20%20%20%20%20%20%20%20%20%20%20%20%20.addTo%28map_fa7e0642a5634a72a4245997c3d11426%29%3B%0A%20%20%20%20%20%20%20%20%20%20%20%20%0A%20%20%20%20%0A%20%20%20%20%20%20%20%20%20%20%20%20var%20popup_fd4a75e4bdf44c78ace0d3537af50663%20%3D%20L.popup%28%7BmaxWidth%3A%20%27100%25%27%0A%20%20%20%20%20%20%20%20%20%20%20%20%0A%20%20%20%20%20%20%20%20%20%20%20%20%7D%29%3B%0A%0A%20%20%20%20%20%20%20%20%20%20%20%20%0A%20%20%20%20%20%20%20%20%20%20%20%20%20%20%20%20var%20html_abc14bb6413442c3aa8a5212531b1baf%20%3D%20%24%28%60%3Cdiv%20id%3D%22html_abc14bb6413442c3aa8a5212531b1baf%22%20style%3D%22width%3A%20100.0%25%3B%20height%3A%20100.0%25%3B%22%3ECastro/Noe%20Valley%20Cluster%201%3C/div%3E%60%29%5B0%5D%3B%0A%20%20%20%20%20%20%20%20%20%20%20%20%20%20%20%20popup_fd4a75e4bdf44c78ace0d3537af50663.setContent%28html_abc14bb6413442c3aa8a5212531b1baf%29%3B%0A%20%20%20%20%20%20%20%20%20%20%20%20%0A%0A%20%20%20%20%20%20%20%20%20%20%20%20circle_marker_8756ba576a8b42dd85e70ca76e838778.bindPopup%28popup_fd4a75e4bdf44c78ace0d3537af50663%29%0A%20%20%20%20%20%20%20%20%20%20%20%20%3B%0A%0A%20%20%20%20%20%20%20%20%20%20%20%20%0A%20%20%20%20%20%20%20%20%0A%20%20%20%20%0A%20%20%20%20%20%20%20%20%20%20%20%20var%20circle_marker_eb697ca07d7141749e2a09d2983dadb3%20%3D%20L.circleMarker%28%0A%20%20%20%20%20%20%20%20%20%20%20%20%20%20%20%20%5B37.780950000000075%2C%20-122.43221999999997%5D%2C%0A%20%20%20%20%20%20%20%20%20%20%20%20%20%20%20%20%7B%0A%20%20%22bubblingMouseEvents%22%3A%20true%2C%0A%20%20%22color%22%3A%20%22%238000ff%22%2C%0A%20%20%22dashArray%22%3A%20null%2C%0A%20%20%22dashOffset%22%3A%20null%2C%0A%20%20%22fill%22%3A%20true%2C%0A%20%20%22fillColor%22%3A%20%22%238000ff%22%2C%0A%20%20%22fillOpacity%22%3A%200.7%2C%0A%20%20%22fillRule%22%3A%20%22evenodd%22%2C%0A%20%20%22lineCap%22%3A%20%22round%22%2C%0A%20%20%22lineJoin%22%3A%20%22round%22%2C%0A%20%20%22opacity%22%3A%201.0%2C%0A%20%20%22radius%22%3A%205%2C%0A%20%20%22stroke%22%3A%20true%2C%0A%20%20%22weight%22%3A%203%0A%7D%0A%20%20%20%20%20%20%20%20%20%20%20%20%20%20%20%20%29%0A%20%20%20%20%20%20%20%20%20%20%20%20%20%20%20%20.addTo%28map_fa7e0642a5634a72a4245997c3d11426%29%3B%0A%20%20%20%20%20%20%20%20%20%20%20%20%0A%20%20%20%20%0A%20%20%20%20%20%20%20%20%20%20%20%20var%20popup_ac3d8fdc1a36448a82276f508807c6fb%20%3D%20L.popup%28%7BmaxWidth%3A%20%27100%25%27%0A%20%20%20%20%20%20%20%20%20%20%20%20%0A%20%20%20%20%20%20%20%20%20%20%20%20%7D%29%3B%0A%0A%20%20%20%20%20%20%20%20%20%20%20%20%0A%20%20%20%20%20%20%20%20%20%20%20%20%20%20%20%20var%20html_22353820fad849a4a6407d399e23a32b%20%3D%20%24%28%60%3Cdiv%20id%3D%22html_22353820fad849a4a6407d399e23a32b%22%20style%3D%22width%3A%20100.0%25%3B%20height%3A%20100.0%25%3B%22%3EWestern%20Addition/Japantown%20Cluster%201%3C/div%3E%60%29%5B0%5D%3B%0A%20%20%20%20%20%20%20%20%20%20%20%20%20%20%20%20popup_ac3d8fdc1a36448a82276f508807c6fb.setContent%28html_22353820fad849a4a6407d399e23a32b%29%3B%0A%20%20%20%20%20%20%20%20%20%20%20%20%0A%0A%20%20%20%20%20%20%20%20%20%20%20%20circle_marker_eb697ca07d7141749e2a09d2983dadb3.bindPopup%28popup_ac3d8fdc1a36448a82276f508807c6fb%29%0A%20%20%20%20%20%20%20%20%20%20%20%20%3B%0A%0A%20%20%20%20%20%20%20%20%20%20%20%20%0A%20%20%20%20%20%20%20%20%0A%20%20%20%20%0A%20%20%20%20%20%20%20%20%20%20%20%20var%20circle_marker_a0c6a2f118834770a878f823c3813699%20%3D%20L.circleMarker%28%0A%20%20%20%20%20%20%20%20%20%20%20%20%20%20%20%20%5B37.74817000000007%2C%20-122.46410999999995%5D%2C%0A%20%20%20%20%20%20%20%20%20%20%20%20%20%20%20%20%7B%0A%20%20%22bubblingMouseEvents%22%3A%20true%2C%0A%20%20%22color%22%3A%20%22%23ff0000%22%2C%0A%20%20%22dashArray%22%3A%20null%2C%0A%20%20%22dashOffset%22%3A%20null%2C%0A%20%20%22fill%22%3A%20true%2C%0A%20%20%22fillColor%22%3A%20%22%23ff0000%22%2C%0A%20%20%22fillOpacity%22%3A%200.7%2C%0A%20%20%22fillRule%22%3A%20%22evenodd%22%2C%0A%20%20%22lineCap%22%3A%20%22round%22%2C%0A%20%20%22lineJoin%22%3A%20%22round%22%2C%0A%20%20%22opacity%22%3A%201.0%2C%0A%20%20%22radius%22%3A%205%2C%0A%20%20%22stroke%22%3A%20true%2C%0A%20%20%22weight%22%3A%203%0A%7D%0A%20%20%20%20%20%20%20%20%20%20%20%20%20%20%20%20%29%0A%20%20%20%20%20%20%20%20%20%20%20%20%20%20%20%20.addTo%28map_fa7e0642a5634a72a4245997c3d11426%29%3B%0A%20%20%20%20%20%20%20%20%20%20%20%20%0A%20%20%20%20%0A%20%20%20%20%20%20%20%20%20%20%20%20var%20popup_9e34897c7a72413386a2171e77193bb5%20%3D%20L.popup%28%7BmaxWidth%3A%20%27100%25%27%0A%20%20%20%20%20%20%20%20%20%20%20%20%0A%20%20%20%20%20%20%20%20%20%20%20%20%7D%29%3B%0A%0A%20%20%20%20%20%20%20%20%20%20%20%20%0A%20%20%20%20%20%20%20%20%20%20%20%20%20%20%20%20var%20html_3e8ebae75164423b90c2bf2ef62bb002%20%3D%20%24%28%60%3Cdiv%20id%3D%22html_3e8ebae75164423b90c2bf2ef62bb002%22%20style%3D%22width%3A%20100.0%25%3B%20height%3A%20100.0%25%3B%22%3EParkside/Forest%20Hill%20Cluster%200%3C/div%3E%60%29%5B0%5D%3B%0A%20%20%20%20%20%20%20%20%20%20%20%20%20%20%20%20popup_9e34897c7a72413386a2171e77193bb5.setContent%28html_3e8ebae75164423b90c2bf2ef62bb002%29%3B%0A%20%20%20%20%20%20%20%20%20%20%20%20%0A%0A%20%20%20%20%20%20%20%20%20%20%20%20circle_marker_a0c6a2f118834770a878f823c3813699.bindPopup%28popup_9e34897c7a72413386a2171e77193bb5%29%0A%20%20%20%20%20%20%20%20%20%20%20%20%3B%0A%0A%20%20%20%20%20%20%20%20%20%20%20%20%0A%20%20%20%20%20%20%20%20%0A%20%20%20%20%0A%20%20%20%20%20%20%20%20%20%20%20%20var%20circle_marker_c179b1a2049f499a9e40e1a513d6cdec%20%3D%20L.circleMarker%28%0A%20%20%20%20%20%20%20%20%20%20%20%20%20%20%20%20%5B37.769930000000045%2C%20-122.44691999999998%5D%2C%0A%20%20%20%20%20%20%20%20%20%20%20%20%20%20%20%20%7B%0A%20%20%22bubblingMouseEvents%22%3A%20true%2C%0A%20%20%22color%22%3A%20%22%238000ff%22%2C%0A%20%20%22dashArray%22%3A%20null%2C%0A%20%20%22dashOffset%22%3A%20null%2C%0A%20%20%22fill%22%3A%20true%2C%0A%20%20%22fillColor%22%3A%20%22%238000ff%22%2C%0A%20%20%22fillOpacity%22%3A%200.7%2C%0A%20%20%22fillRule%22%3A%20%22evenodd%22%2C%0A%20%20%22lineCap%22%3A%20%22round%22%2C%0A%20%20%22lineJoin%22%3A%20%22round%22%2C%0A%20%20%22opacity%22%3A%201.0%2C%0A%20%20%22radius%22%3A%205%2C%0A%20%20%22stroke%22%3A%20true%2C%0A%20%20%22weight%22%3A%203%0A%7D%0A%20%20%20%20%20%20%20%20%20%20%20%20%20%20%20%20%29%0A%20%20%20%20%20%20%20%20%20%20%20%20%20%20%20%20.addTo%28map_fa7e0642a5634a72a4245997c3d11426%29%3B%0A%20%20%20%20%20%20%20%20%20%20%20%20%0A%20%20%20%20%0A%20%20%20%20%20%20%20%20%20%20%20%20var%20popup_d79e452b42774bec83b0001ed4931e5e%20%3D%20L.popup%28%7BmaxWidth%3A%20%27100%25%27%0A%20%20%20%20%20%20%20%20%20%20%20%20%0A%20%20%20%20%20%20%20%20%20%20%20%20%7D%29%3B%0A%0A%20%20%20%20%20%20%20%20%20%20%20%20%0A%20%20%20%20%20%20%20%20%20%20%20%20%20%20%20%20var%20html_5afae2b5a39841c0ad67832fb091f6a0%20%3D%20%24%28%60%3Cdiv%20id%3D%22html_5afae2b5a39841c0ad67832fb091f6a0%22%20style%3D%22width%3A%20100.0%25%3B%20height%3A%20100.0%25%3B%22%3EHaight-Ashbury%20Cluster%201%3C/div%3E%60%29%5B0%5D%3B%0A%20%20%20%20%20%20%20%20%20%20%20%20%20%20%20%20popup_d79e452b42774bec83b0001ed4931e5e.setContent%28html_5afae2b5a39841c0ad67832fb091f6a0%29%3B%0A%20%20%20%20%20%20%20%20%20%20%20%20%0A%0A%20%20%20%20%20%20%20%20%20%20%20%20circle_marker_c179b1a2049f499a9e40e1a513d6cdec.bindPopup%28popup_d79e452b42774bec83b0001ed4931e5e%29%0A%20%20%20%20%20%20%20%20%20%20%20%20%3B%0A%0A%20%20%20%20%20%20%20%20%20%20%20%20%0A%20%20%20%20%20%20%20%20%0A%20%20%20%20%0A%20%20%20%20%20%20%20%20%20%20%20%20var%20circle_marker_554f055442584ebb8adbe24fa0af3fa9%20%3D%20L.circleMarker%28%0A%20%20%20%20%20%20%20%20%20%20%20%20%20%20%20%20%5B37.78090000000003%2C%20-122.46555999999998%5D%2C%0A%20%20%20%20%20%20%20%20%20%20%20%20%20%20%20%20%7B%0A%20%20%22bubblingMouseEvents%22%3A%20true%2C%0A%20%20%22color%22%3A%20%22%238000ff%22%2C%0A%20%20%22dashArray%22%3A%20null%2C%0A%20%20%22dashOffset%22%3A%20null%2C%0A%20%20%22fill%22%3A%20true%2C%0A%20%20%22fillColor%22%3A%20%22%238000ff%22%2C%0A%20%20%22fillOpacity%22%3A%200.7%2C%0A%20%20%22fillRule%22%3A%20%22evenodd%22%2C%0A%20%20%22lineCap%22%3A%20%22round%22%2C%0A%20%20%22lineJoin%22%3A%20%22round%22%2C%0A%20%20%22opacity%22%3A%201.0%2C%0A%20%20%22radius%22%3A%205%2C%0A%20%20%22stroke%22%3A%20true%2C%0A%20%20%22weight%22%3A%203%0A%7D%0A%20%20%20%20%20%20%20%20%20%20%20%20%20%20%20%20%29%0A%20%20%20%20%20%20%20%20%20%20%20%20%20%20%20%20.addTo%28map_fa7e0642a5634a72a4245997c3d11426%29%3B%0A%20%20%20%20%20%20%20%20%20%20%20%20%0A%20%20%20%20%0A%20%20%20%20%20%20%20%20%20%20%20%20var%20popup_3284c3eedf01402d8d07b4ca7f7e70ad%20%3D%20L.popup%28%7BmaxWidth%3A%20%27100%25%27%0A%20%20%20%20%20%20%20%20%20%20%20%20%0A%20%20%20%20%20%20%20%20%20%20%20%20%7D%29%3B%0A%0A%20%20%20%20%20%20%20%20%20%20%20%20%0A%20%20%20%20%20%20%20%20%20%20%20%20%20%20%20%20var%20html_8f35de4f58584f86a925a2f382a2e779%20%3D%20%24%28%60%3Cdiv%20id%3D%22html_8f35de4f58584f86a925a2f382a2e779%22%20style%3D%22width%3A%20100.0%25%3B%20height%3A%20100.0%25%3B%22%3EInner%20Richmond%20Cluster%201%3C/div%3E%60%29%5B0%5D%3B%0A%20%20%20%20%20%20%20%20%20%20%20%20%20%20%20%20popup_3284c3eedf01402d8d07b4ca7f7e70ad.setContent%28html_8f35de4f58584f86a925a2f382a2e779%29%3B%0A%20%20%20%20%20%20%20%20%20%20%20%20%0A%0A%20%20%20%20%20%20%20%20%20%20%20%20circle_marker_554f055442584ebb8adbe24fa0af3fa9.bindPopup%28popup_3284c3eedf01402d8d07b4ca7f7e70ad%29%0A%20%20%20%20%20%20%20%20%20%20%20%20%3B%0A%0A%20%20%20%20%20%20%20%20%20%20%20%20%0A%20%20%20%20%20%20%20%20%0A%20%20%20%20%0A%20%20%20%20%20%20%20%20%20%20%20%20var%20circle_marker_1c0dbc4cc4914f95a9a7106f5d75fa91%20%3D%20L.circleMarker%28%0A%20%20%20%20%20%20%20%20%20%20%20%20%20%20%20%20%5B37.77958000000007%2C%20-122.50240999999994%5D%2C%0A%20%20%20%20%20%20%20%20%20%20%20%20%20%20%20%20%7B%0A%20%20%22bubblingMouseEvents%22%3A%20true%2C%0A%20%20%22color%22%3A%20%22%238000ff%22%2C%0A%20%20%22dashArray%22%3A%20null%2C%0A%20%20%22dashOffset%22%3A%20null%2C%0A%20%20%22fill%22%3A%20true%2C%0A%20%20%22fillColor%22%3A%20%22%238000ff%22%2C%0A%20%20%22fillOpacity%22%3A%200.7%2C%0A%20%20%22fillRule%22%3A%20%22evenodd%22%2C%0A%20%20%22lineCap%22%3A%20%22round%22%2C%0A%20%20%22lineJoin%22%3A%20%22round%22%2C%0A%20%20%22opacity%22%3A%201.0%2C%0A%20%20%22radius%22%3A%205%2C%0A%20%20%22stroke%22%3A%20true%2C%0A%20%20%22weight%22%3A%203%0A%7D%0A%20%20%20%20%20%20%20%20%20%20%20%20%20%20%20%20%29%0A%20%20%20%20%20%20%20%20%20%20%20%20%20%20%20%20.addTo%28map_fa7e0642a5634a72a4245997c3d11426%29%3B%0A%20%20%20%20%20%20%20%20%20%20%20%20%0A%20%20%20%20%0A%20%20%20%20%20%20%20%20%20%20%20%20var%20popup_52ce2eba90534ada9d31e6dfb6d0373d%20%3D%20L.popup%28%7BmaxWidth%3A%20%27100%25%27%0A%20%20%20%20%20%20%20%20%20%20%20%20%0A%20%20%20%20%20%20%20%20%20%20%20%20%7D%29%3B%0A%0A%20%20%20%20%20%20%20%20%20%20%20%20%0A%20%20%20%20%20%20%20%20%20%20%20%20%20%20%20%20var%20html_e68bf915f9534b6989dc5ec89282e46e%20%3D%20%24%28%60%3Cdiv%20id%3D%22html_e68bf915f9534b6989dc5ec89282e46e%22%20style%3D%22width%3A%20100.0%25%3B%20height%3A%20100.0%25%3B%22%3EOuter%20Richmond%20Cluster%201%3C/div%3E%60%29%5B0%5D%3B%0A%20%20%20%20%20%20%20%20%20%20%20%20%20%20%20%20popup_52ce2eba90534ada9d31e6dfb6d0373d.setContent%28html_e68bf915f9534b6989dc5ec89282e46e%29%3B%0A%20%20%20%20%20%20%20%20%20%20%20%20%0A%0A%20%20%20%20%20%20%20%20%20%20%20%20circle_marker_1c0dbc4cc4914f95a9a7106f5d75fa91.bindPopup%28popup_52ce2eba90534ada9d31e6dfb6d0373d%29%0A%20%20%20%20%20%20%20%20%20%20%20%20%3B%0A%0A%20%20%20%20%20%20%20%20%20%20%20%20%0A%20%20%20%20%20%20%20%20%0A%20%20%20%20%0A%20%20%20%20%20%20%20%20%20%20%20%20var%20circle_marker_256513d1c9f640559260fe541404f2c4%20%3D%20L.circleMarker%28%0A%20%20%20%20%20%20%20%20%20%20%20%20%20%20%20%20%5B37.72962643128911%2C%20-122.49340523759045%5D%2C%0A%20%20%20%20%20%20%20%20%20%20%20%20%20%20%20%20%7B%0A%20%20%22bubblingMouseEvents%22%3A%20true%2C%0A%20%20%22color%22%3A%20%22%2380ffb4%22%2C%0A%20%20%22dashArray%22%3A%20null%2C%0A%20%20%22dashOffset%22%3A%20null%2C%0A%20%20%22fill%22%3A%20true%2C%0A%20%20%22fillColor%22%3A%20%22%2380ffb4%22%2C%0A%20%20%22fillOpacity%22%3A%200.7%2C%0A%20%20%22fillRule%22%3A%20%22evenodd%22%2C%0A%20%20%22lineCap%22%3A%20%22round%22%2C%0A%20%20%22lineJoin%22%3A%20%22round%22%2C%0A%20%20%22opacity%22%3A%201.0%2C%0A%20%20%22radius%22%3A%205%2C%0A%20%20%22stroke%22%3A%20true%2C%0A%20%20%22weight%22%3A%203%0A%7D%0A%20%20%20%20%20%20%20%20%20%20%20%20%20%20%20%20%29%0A%20%20%20%20%20%20%20%20%20%20%20%20%20%20%20%20.addTo%28map_fa7e0642a5634a72a4245997c3d11426%29%3B%0A%20%20%20%20%20%20%20%20%20%20%20%20%0A%20%20%20%20%0A%20%20%20%20%20%20%20%20%20%20%20%20var%20popup_ef87539b29ed4f41a4656273348a3861%20%3D%20L.popup%28%7BmaxWidth%3A%20%27100%25%27%0A%20%20%20%20%20%20%20%20%20%20%20%20%0A%20%20%20%20%20%20%20%20%20%20%20%20%7D%29%3B%0A%0A%20%20%20%20%20%20%20%20%20%20%20%20%0A%20%20%20%20%20%20%20%20%20%20%20%20%20%20%20%20var%20html_e9e3c4105f3d40d7905a9ab62123da82%20%3D%20%24%28%60%3Cdiv%20id%3D%22html_e9e3c4105f3d40d7905a9ab62123da82%22%20style%3D%22width%3A%20100.0%25%3B%20height%3A%20100.0%25%3B%22%3ESunset%20Cluster%202%3C/div%3E%60%29%5B0%5D%3B%0A%20%20%20%20%20%20%20%20%20%20%20%20%20%20%20%20popup_ef87539b29ed4f41a4656273348a3861.setContent%28html_e9e3c4105f3d40d7905a9ab62123da82%29%3B%0A%20%20%20%20%20%20%20%20%20%20%20%20%0A%0A%20%20%20%20%20%20%20%20%20%20%20%20circle_marker_256513d1c9f640559260fe541404f2c4.bindPopup%28popup_ef87539b29ed4f41a4656273348a3861%29%0A%20%20%20%20%20%20%20%20%20%20%20%20%3B%0A%0A%20%20%20%20%20%20%20%20%20%20%20%20%0A%20%20%20%20%20%20%20%20%0A%20%20%20%20%0A%20%20%20%20%20%20%20%20%20%20%20%20var%20circle_marker_91580d5fbbc340ea9d02fb2711571ef4%20%3D%20L.circleMarker%28%0A%20%20%20%20%20%20%20%20%20%20%20%20%20%20%20%20%5B37.80337000000003%2C%20-122.43692999999996%5D%2C%0A%20%20%20%20%20%20%20%20%20%20%20%20%20%20%20%20%7B%0A%20%20%22bubblingMouseEvents%22%3A%20true%2C%0A%20%20%22color%22%3A%20%22%238000ff%22%2C%0A%20%20%22dashArray%22%3A%20null%2C%0A%20%20%22dashOffset%22%3A%20null%2C%0A%20%20%22fill%22%3A%20true%2C%0A%20%20%22fillColor%22%3A%20%22%238000ff%22%2C%0A%20%20%22fillOpacity%22%3A%200.7%2C%0A%20%20%22fillRule%22%3A%20%22evenodd%22%2C%0A%20%20%22lineCap%22%3A%20%22round%22%2C%0A%20%20%22lineJoin%22%3A%20%22round%22%2C%0A%20%20%22opacity%22%3A%201.0%2C%0A%20%20%22radius%22%3A%205%2C%0A%20%20%22stroke%22%3A%20true%2C%0A%20%20%22weight%22%3A%203%0A%7D%0A%20%20%20%20%20%20%20%20%20%20%20%20%20%20%20%20%29%0A%20%20%20%20%20%20%20%20%20%20%20%20%20%20%20%20.addTo%28map_fa7e0642a5634a72a4245997c3d11426%29%3B%0A%20%20%20%20%20%20%20%20%20%20%20%20%0A%20%20%20%20%0A%20%20%20%20%20%20%20%20%20%20%20%20var%20popup_c6f88bc107244c13a4e2171839b5f23a%20%3D%20L.popup%28%7BmaxWidth%3A%20%27100%25%27%0A%20%20%20%20%20%20%20%20%20%20%20%20%0A%20%20%20%20%20%20%20%20%20%20%20%20%7D%29%3B%0A%0A%20%20%20%20%20%20%20%20%20%20%20%20%0A%20%20%20%20%20%20%20%20%20%20%20%20%20%20%20%20var%20html_69e31088026040b68aceba3d39e2aebc%20%3D%20%24%28%60%3Cdiv%20id%3D%22html_69e31088026040b68aceba3d39e2aebc%22%20style%3D%22width%3A%20100.0%25%3B%20height%3A%20100.0%25%3B%22%3EMarina%20Cluster%201%3C/div%3E%60%29%5B0%5D%3B%0A%20%20%20%20%20%20%20%20%20%20%20%20%20%20%20%20popup_c6f88bc107244c13a4e2171839b5f23a.setContent%28html_69e31088026040b68aceba3d39e2aebc%29%3B%0A%20%20%20%20%20%20%20%20%20%20%20%20%0A%0A%20%20%20%20%20%20%20%20%20%20%20%20circle_marker_91580d5fbbc340ea9d02fb2711571ef4.bindPopup%28popup_c6f88bc107244c13a4e2171839b5f23a%29%0A%20%20%20%20%20%20%20%20%20%20%20%20%3B%0A%0A%20%20%20%20%20%20%20%20%20%20%20%20%0A%20%20%20%20%20%20%20%20%0A%20%20%20%20%0A%20%20%20%20%20%20%20%20%20%20%20%20var%20circle_marker_7a3b22aceecb4770a3bbe77b267fc3a0%20%3D%20L.circleMarker%28%0A%20%20%20%20%20%20%20%20%20%20%20%20%20%20%20%20%5B37.72823400000004%2C%20-122.39380999999997%5D%2C%0A%20%20%20%20%20%20%20%20%20%20%20%20%20%20%20%20%7B%0A%20%20%22bubblingMouseEvents%22%3A%20true%2C%0A%20%20%22color%22%3A%20%22%238000ff%22%2C%0A%20%20%22dashArray%22%3A%20null%2C%0A%20%20%22dashOffset%22%3A%20null%2C%0A%20%20%22fill%22%3A%20true%2C%0A%20%20%22fillColor%22%3A%20%22%238000ff%22%2C%0A%20%20%22fillOpacity%22%3A%200.7%2C%0A%20%20%22fillRule%22%3A%20%22evenodd%22%2C%0A%20%20%22lineCap%22%3A%20%22round%22%2C%0A%20%20%22lineJoin%22%3A%20%22round%22%2C%0A%20%20%22opacity%22%3A%201.0%2C%0A%20%20%22radius%22%3A%205%2C%0A%20%20%22stroke%22%3A%20true%2C%0A%20%20%22weight%22%3A%203%0A%7D%0A%20%20%20%20%20%20%20%20%20%20%20%20%20%20%20%20%29%0A%20%20%20%20%20%20%20%20%20%20%20%20%20%20%20%20.addTo%28map_fa7e0642a5634a72a4245997c3d11426%29%3B%0A%20%20%20%20%20%20%20%20%20%20%20%20%0A%20%20%20%20%0A%20%20%20%20%20%20%20%20%20%20%20%20var%20popup_044e306a8d934609bf0942e676e5546f%20%3D%20L.popup%28%7BmaxWidth%3A%20%27100%25%27%0A%20%20%20%20%20%20%20%20%20%20%20%20%0A%20%20%20%20%20%20%20%20%20%20%20%20%7D%29%3B%0A%0A%20%20%20%20%20%20%20%20%20%20%20%20%0A%20%20%20%20%20%20%20%20%20%20%20%20%20%20%20%20var%20html_b57a989f33674b2088a25566c18dc5e9%20%3D%20%24%28%60%3Cdiv%20id%3D%22html_b57a989f33674b2088a25566c18dc5e9%22%20style%3D%22width%3A%20100.0%25%3B%20height%3A%20100.0%25%3B%22%3EBayview-Hunters%20Point%20Cluster%201%3C/div%3E%60%29%5B0%5D%3B%0A%20%20%20%20%20%20%20%20%20%20%20%20%20%20%20%20popup_044e306a8d934609bf0942e676e5546f.setContent%28html_b57a989f33674b2088a25566c18dc5e9%29%3B%0A%20%20%20%20%20%20%20%20%20%20%20%20%0A%0A%20%20%20%20%20%20%20%20%20%20%20%20circle_marker_7a3b22aceecb4770a3bbe77b267fc3a0.bindPopup%28popup_044e306a8d934609bf0942e676e5546f%29%0A%20%20%20%20%20%20%20%20%20%20%20%20%3B%0A%0A%20%20%20%20%20%20%20%20%20%20%20%20%0A%20%20%20%20%20%20%20%20%0A%20%20%20%20%0A%20%20%20%20%20%20%20%20%20%20%20%20var%20circle_marker_8a94f7584d0e4944afdf1217547833c7%20%3D%20L.circleMarker%28%0A%20%20%20%20%20%20%20%20%20%20%20%20%20%20%20%20%5B37.734650000000045%2C%20-122.46802999999994%5D%2C%0A%20%20%20%20%20%20%20%20%20%20%20%20%20%20%20%20%7B%0A%20%20%22bubblingMouseEvents%22%3A%20true%2C%0A%20%20%22color%22%3A%20%22%238000ff%22%2C%0A%20%20%22dashArray%22%3A%20null%2C%0A%20%20%22dashOffset%22%3A%20null%2C%0A%20%20%22fill%22%3A%20true%2C%0A%20%20%22fillColor%22%3A%20%22%238000ff%22%2C%0A%20%20%22fillOpacity%22%3A%200.7%2C%0A%20%20%22fillRule%22%3A%20%22evenodd%22%2C%0A%20%20%22lineCap%22%3A%20%22round%22%2C%0A%20%20%22lineJoin%22%3A%20%22round%22%2C%0A%20%20%22opacity%22%3A%201.0%2C%0A%20%20%22radius%22%3A%205%2C%0A%20%20%22stroke%22%3A%20true%2C%0A%20%20%22weight%22%3A%203%0A%7D%0A%20%20%20%20%20%20%20%20%20%20%20%20%20%20%20%20%29%0A%20%20%20%20%20%20%20%20%20%20%20%20%20%20%20%20.addTo%28map_fa7e0642a5634a72a4245997c3d11426%29%3B%0A%20%20%20%20%20%20%20%20%20%20%20%20%0A%20%20%20%20%0A%20%20%20%20%20%20%20%20%20%20%20%20var%20popup_81a179e7a2934687b5b56741a899dfe0%20%3D%20L.popup%28%7BmaxWidth%3A%20%27100%25%27%0A%20%20%20%20%20%20%20%20%20%20%20%20%0A%20%20%20%20%20%20%20%20%20%20%20%20%7D%29%3B%0A%0A%20%20%20%20%20%20%20%20%20%20%20%20%0A%20%20%20%20%20%20%20%20%20%20%20%20%20%20%20%20var%20html_1fe21ab9f94b4561a07e9356e3918267%20%3D%20%24%28%60%3Cdiv%20id%3D%22html_1fe21ab9f94b4561a07e9356e3918267%22%20style%3D%22width%3A%20100.0%25%3B%20height%3A%20100.0%25%3B%22%3ESt.%20Francis%20Wood/Miraloma/West%20Portal%20Cluster%201%3C/div%3E%60%29%5B0%5D%3B%0A%20%20%20%20%20%20%20%20%20%20%20%20%20%20%20%20popup_81a179e7a2934687b5b56741a899dfe0.setContent%28html_1fe21ab9f94b4561a07e9356e3918267%29%3B%0A%20%20%20%20%20%20%20%20%20%20%20%20%0A%0A%20%20%20%20%20%20%20%20%20%20%20%20circle_marker_8a94f7584d0e4944afdf1217547833c7.bindPopup%28popup_81a179e7a2934687b5b56741a899dfe0%29%0A%20%20%20%20%20%20%20%20%20%20%20%20%3B%0A%0A%20%20%20%20%20%20%20%20%20%20%20%20%0A%20%20%20%20%20%20%20%20%0A%20%20%20%20%0A%20%20%20%20%20%20%20%20%20%20%20%20var%20circle_marker_fff20f04c6de49a7ab66c529040116ac%20%3D%20L.circleMarker%28%0A%20%20%20%20%20%20%20%20%20%20%20%20%20%20%20%20%5B37.75425000000007%2C%20-122.44676999999996%5D%2C%0A%20%20%20%20%20%20%20%20%20%20%20%20%20%20%20%20%7B%0A%20%20%22bubblingMouseEvents%22%3A%20true%2C%0A%20%20%22color%22%3A%20%22%23ff0000%22%2C%0A%20%20%22dashArray%22%3A%20null%2C%0A%20%20%22dashOffset%22%3A%20null%2C%0A%20%20%22fill%22%3A%20true%2C%0A%20%20%22fillColor%22%3A%20%22%23ff0000%22%2C%0A%20%20%22fillOpacity%22%3A%200.7%2C%0A%20%20%22fillRule%22%3A%20%22evenodd%22%2C%0A%20%20%22lineCap%22%3A%20%22round%22%2C%0A%20%20%22lineJoin%22%3A%20%22round%22%2C%0A%20%20%22opacity%22%3A%201.0%2C%0A%20%20%22radius%22%3A%205%2C%0A%20%20%22stroke%22%3A%20true%2C%0A%20%20%22weight%22%3A%203%0A%7D%0A%20%20%20%20%20%20%20%20%20%20%20%20%20%20%20%20%29%0A%20%20%20%20%20%20%20%20%20%20%20%20%20%20%20%20.addTo%28map_fa7e0642a5634a72a4245997c3d11426%29%3B%0A%20%20%20%20%20%20%20%20%20%20%20%20%0A%20%20%20%20%0A%20%20%20%20%20%20%20%20%20%20%20%20var%20popup_fca714ed342548b8bc23d87065019aa1%20%3D%20L.popup%28%7BmaxWidth%3A%20%27100%25%27%0A%20%20%20%20%20%20%20%20%20%20%20%20%0A%20%20%20%20%20%20%20%20%20%20%20%20%7D%29%3B%0A%0A%20%20%20%20%20%20%20%20%20%20%20%20%0A%20%20%20%20%20%20%20%20%20%20%20%20%20%20%20%20var%20html_8fdbc19408004be68acab96d8ebfeeab%20%3D%20%24%28%60%3Cdiv%20id%3D%22html_8fdbc19408004be68acab96d8ebfeeab%22%20style%3D%22width%3A%20100.0%25%3B%20height%3A%20100.0%25%3B%22%3ETwin%20Peaks-Glen%20Park%20Cluster%200%3C/div%3E%60%29%5B0%5D%3B%0A%20%20%20%20%20%20%20%20%20%20%20%20%20%20%20%20popup_fca714ed342548b8bc23d87065019aa1.setContent%28html_8fdbc19408004be68acab96d8ebfeeab%29%3B%0A%20%20%20%20%20%20%20%20%20%20%20%20%0A%0A%20%20%20%20%20%20%20%20%20%20%20%20circle_marker_fff20f04c6de49a7ab66c529040116ac.bindPopup%28popup_fca714ed342548b8bc23d87065019aa1%29%0A%20%20%20%20%20%20%20%20%20%20%20%20%3B%0A%0A%20%20%20%20%20%20%20%20%20%20%20%20%0A%20%20%20%20%20%20%20%20%0A%20%20%20%20%0A%20%20%20%20%20%20%20%20%20%20%20%20var%20circle_marker_e600aa974679435984a516e6d372c34b%20%3D%20L.circleMarker%28%0A%20%20%20%20%20%20%20%20%20%20%20%20%20%20%20%20%5B37.71125886142111%2C%20-122.48486284101327%5D%2C%0A%20%20%20%20%20%20%20%20%20%20%20%20%20%20%20%20%7B%0A%20%20%22bubblingMouseEvents%22%3A%20true%2C%0A%20%20%22color%22%3A%20%22%23ff0000%22%2C%0A%20%20%22dashArray%22%3A%20null%2C%0A%20%20%22dashOffset%22%3A%20null%2C%0A%20%20%22fill%22%3A%20true%2C%0A%20%20%22fillColor%22%3A%20%22%23ff0000%22%2C%0A%20%20%22fillOpacity%22%3A%200.7%2C%0A%20%20%22fillRule%22%3A%20%22evenodd%22%2C%0A%20%20%22lineCap%22%3A%20%22round%22%2C%0A%20%20%22lineJoin%22%3A%20%22round%22%2C%0A%20%20%22opacity%22%3A%201.0%2C%0A%20%20%22radius%22%3A%205%2C%0A%20%20%22stroke%22%3A%20true%2C%0A%20%20%22weight%22%3A%203%0A%7D%0A%20%20%20%20%20%20%20%20%20%20%20%20%20%20%20%20%29%0A%20%20%20%20%20%20%20%20%20%20%20%20%20%20%20%20.addTo%28map_fa7e0642a5634a72a4245997c3d11426%29%3B%0A%20%20%20%20%20%20%20%20%20%20%20%20%0A%20%20%20%20%0A%20%20%20%20%20%20%20%20%20%20%20%20var%20popup_3809fa52752f4c11a9b655f07e7bf76e%20%3D%20L.popup%28%7BmaxWidth%3A%20%27100%25%27%0A%20%20%20%20%20%20%20%20%20%20%20%20%0A%20%20%20%20%20%20%20%20%20%20%20%20%7D%29%3B%0A%0A%20%20%20%20%20%20%20%20%20%20%20%20%0A%20%20%20%20%20%20%20%20%20%20%20%20%20%20%20%20var%20html_791af418c16846ccaa51fa8451c71f94%20%3D%20%24%28%60%3Cdiv%20id%3D%22html_791af418c16846ccaa51fa8451c71f94%22%20style%3D%22width%3A%20100.0%25%3B%20height%3A%20100.0%25%3B%22%3ELake%20Merced%20Cluster%200%3C/div%3E%60%29%5B0%5D%3B%0A%20%20%20%20%20%20%20%20%20%20%20%20%20%20%20%20popup_3809fa52752f4c11a9b655f07e7bf76e.setContent%28html_791af418c16846ccaa51fa8451c71f94%29%3B%0A%20%20%20%20%20%20%20%20%20%20%20%20%0A%0A%20%20%20%20%20%20%20%20%20%20%20%20circle_marker_e600aa974679435984a516e6d372c34b.bindPopup%28popup_3809fa52752f4c11a9b655f07e7bf76e%29%0A%20%20%20%20%20%20%20%20%20%20%20%20%3B%0A%0A%20%20%20%20%20%20%20%20%20%20%20%20%0A%20%20%20%20%20%20%20%20%0A%20%20%20%20%0A%20%20%20%20%20%20%20%20%20%20%20%20var%20circle_marker_abb1847a01144476ae15fb754284e26b%20%3D%20L.circleMarker%28%0A%20%20%20%20%20%20%20%20%20%20%20%20%20%20%20%20%5B37.80324800000005%2C%20-122.41506599999997%5D%2C%0A%20%20%20%20%20%20%20%20%20%20%20%20%20%20%20%20%7B%0A%20%20%22bubblingMouseEvents%22%3A%20true%2C%0A%20%20%22color%22%3A%20%22%238000ff%22%2C%0A%20%20%22dashArray%22%3A%20null%2C%0A%20%20%22dashOffset%22%3A%20null%2C%0A%20%20%22fill%22%3A%20true%2C%0A%20%20%22fillColor%22%3A%20%22%238000ff%22%2C%0A%20%20%22fillOpacity%22%3A%200.7%2C%0A%20%20%22fillRule%22%3A%20%22evenodd%22%2C%0A%20%20%22lineCap%22%3A%20%22round%22%2C%0A%20%20%22lineJoin%22%3A%20%22round%22%2C%0A%20%20%22opacity%22%3A%201.0%2C%0A%20%20%22radius%22%3A%205%2C%0A%20%20%22stroke%22%3A%20true%2C%0A%20%20%22weight%22%3A%203%0A%7D%0A%20%20%20%20%20%20%20%20%20%20%20%20%20%20%20%20%29%0A%20%20%20%20%20%20%20%20%20%20%20%20%20%20%20%20.addTo%28map_fa7e0642a5634a72a4245997c3d11426%29%3B%0A%20%20%20%20%20%20%20%20%20%20%20%20%0A%20%20%20%20%0A%20%20%20%20%20%20%20%20%20%20%20%20var%20popup_0fe4ebf571af4be7984d7f6da9eac74d%20%3D%20L.popup%28%7BmaxWidth%3A%20%27100%25%27%0A%20%20%20%20%20%20%20%20%20%20%20%20%0A%20%20%20%20%20%20%20%20%20%20%20%20%7D%29%3B%0A%0A%20%20%20%20%20%20%20%20%20%20%20%20%0A%20%20%20%20%20%20%20%20%20%20%20%20%20%20%20%20var%20html_ae9ee38aee144b2babd1b3c06ddeef32%20%3D%20%24%28%60%3Cdiv%20id%3D%22html_ae9ee38aee144b2babd1b3c06ddeef32%22%20style%3D%22width%3A%20100.0%25%3B%20height%3A%20100.0%25%3B%22%3ENorth%20Beach/Chinatown%20Cluster%201%3C/div%3E%60%29%5B0%5D%3B%0A%20%20%20%20%20%20%20%20%20%20%20%20%20%20%20%20popup_0fe4ebf571af4be7984d7f6da9eac74d.setContent%28html_ae9ee38aee144b2babd1b3c06ddeef32%29%3B%0A%20%20%20%20%20%20%20%20%20%20%20%20%0A%0A%20%20%20%20%20%20%20%20%20%20%20%20circle_marker_abb1847a01144476ae15fb754284e26b.bindPopup%28popup_0fe4ebf571af4be7984d7f6da9eac74d%29%0A%20%20%20%20%20%20%20%20%20%20%20%20%3B%0A%0A%20%20%20%20%20%20%20%20%20%20%20%20%0A%20%20%20%20%20%20%20%20%0A%20%20%20%20%0A%20%20%20%20%20%20%20%20%20%20%20%20var%20circle_marker_f76c2d01ab214729b50881f02c5a48ac%20%3D%20L.circleMarker%28%0A%20%20%20%20%20%20%20%20%20%20%20%20%20%20%20%20%5B37.71307000000007%2C%20-122.40930999999995%5D%2C%0A%20%20%20%20%20%20%20%20%20%20%20%20%20%20%20%20%7B%0A%20%20%22bubblingMouseEvents%22%3A%20true%2C%0A%20%20%22color%22%3A%20%22%238000ff%22%2C%0A%20%20%22dashArray%22%3A%20null%2C%0A%20%20%22dashOffset%22%3A%20null%2C%0A%20%20%22fill%22%3A%20true%2C%0A%20%20%22fillColor%22%3A%20%22%238000ff%22%2C%0A%20%20%22fillOpacity%22%3A%200.7%2C%0A%20%20%22fillRule%22%3A%20%22evenodd%22%2C%0A%20%20%22lineCap%22%3A%20%22round%22%2C%0A%20%20%22lineJoin%22%3A%20%22round%22%2C%0A%20%20%22opacity%22%3A%201.0%2C%0A%20%20%22radius%22%3A%205%2C%0A%20%20%22stroke%22%3A%20true%2C%0A%20%20%22weight%22%3A%203%0A%7D%0A%20%20%20%20%20%20%20%20%20%20%20%20%20%20%20%20%29%0A%20%20%20%20%20%20%20%20%20%20%20%20%20%20%20%20.addTo%28map_fa7e0642a5634a72a4245997c3d11426%29%3B%0A%20%20%20%20%20%20%20%20%20%20%20%20%0A%20%20%20%20%0A%20%20%20%20%20%20%20%20%20%20%20%20var%20popup_b6416a0c980e4ee0b24fc88dc6fc531d%20%3D%20L.popup%28%7BmaxWidth%3A%20%27100%25%27%0A%20%20%20%20%20%20%20%20%20%20%20%20%0A%20%20%20%20%20%20%20%20%20%20%20%20%7D%29%3B%0A%0A%20%20%20%20%20%20%20%20%20%20%20%20%0A%20%20%20%20%20%20%20%20%20%20%20%20%20%20%20%20var%20html_580eec74a2ce4851886d8aa96048d7f5%20%3D%20%24%28%60%3Cdiv%20id%3D%22html_580eec74a2ce4851886d8aa96048d7f5%22%20style%3D%22width%3A%20100.0%25%3B%20height%3A%20100.0%25%3B%22%3EVisitacion%20Valley/Sunnydale%20Cluster%201%3C/div%3E%60%29%5B0%5D%3B%0A%20%20%20%20%20%20%20%20%20%20%20%20%20%20%20%20popup_b6416a0c980e4ee0b24fc88dc6fc531d.setContent%28html_580eec74a2ce4851886d8aa96048d7f5%29%3B%0A%20%20%20%20%20%20%20%20%20%20%20%20%0A%0A%20%20%20%20%20%20%20%20%20%20%20%20circle_marker_f76c2d01ab214729b50881f02c5a48ac.bindPopup%28popup_b6416a0c980e4ee0b24fc88dc6fc531d%29%0A%20%20%20%20%20%20%20%20%20%20%20%20%3B%0A%0A%20%20%20%20%20%20%20%20%20%20%20%20%0A%20%20%20%20%20%20%20%20%0A%3C/script%3E onload=\"this.contentDocument.open();this.contentDocument.write(    decodeURIComponent(this.getAttribute('data-html')));this.contentDocument.close();\" allowfullscreen webkitallowfullscreen mozallowfullscreen></iframe></div></div>"
            ],
            "text/plain": [
              "<folium.folium.Map at 0x7fdbae348b50>"
            ]
          },
          "metadata": {
            "tags": []
          },
          "execution_count": 495
        }
      ]
    },
    {
      "cell_type": "markdown",
      "metadata": {
        "id": "Ko5mGAmy27ev"
      },
      "source": [
        "## Check clusters"
      ]
    },
    {
      "cell_type": "code",
      "metadata": {
        "id": "m2qUftuh2-Cy"
      },
      "source": [
        "sf_grouped.insert(0, 'ClusterLabels', kmeans.labels_)"
      ],
      "execution_count": 496,
      "outputs": []
    },
    {
      "cell_type": "markdown",
      "metadata": {
        "id": "KyBnyE6t3j4v"
      },
      "source": [
        "### Cluster 1"
      ]
    },
    {
      "cell_type": "code",
      "metadata": {
        "id": "K6j6olqb-ohi",
        "colab": {
          "base_uri": "https://localhost:8080/",
          "height": 227
        },
        "outputId": "5e7fff15-0b76-4a23-af32-e3269d4b0ee2"
      },
      "source": [
        "cluster_1_df = sf_merged.loc[sf_merged['ClusterLabels'] == 0, :]\n",
        "\n",
        "print('Neighborhoods in cluster:', cluster_1_df.shape[0])\n",
        "cluster_1_df.head()"
      ],
      "execution_count": 497,
      "outputs": [
        {
          "output_type": "stream",
          "text": [
            "Neighborhoods in cluster: 3\n"
          ],
          "name": "stdout"
        },
        {
          "output_type": "execute_result",
          "data": {
            "text/html": [
              "<div>\n",
              "<style scoped>\n",
              "    .dataframe tbody tr th:only-of-type {\n",
              "        vertical-align: middle;\n",
              "    }\n",
              "\n",
              "    .dataframe tbody tr th {\n",
              "        vertical-align: top;\n",
              "    }\n",
              "\n",
              "    .dataframe thead th {\n",
              "        text-align: right;\n",
              "    }\n",
              "</style>\n",
              "<table border=\"1\" class=\"dataframe\">\n",
              "  <thead>\n",
              "    <tr style=\"text-align: right;\">\n",
              "      <th></th>\n",
              "      <th>Neighborhood</th>\n",
              "      <th>NeighborhoodLatitude</th>\n",
              "      <th>NeighborhoodLongitude</th>\n",
              "      <th>ClusterLabels</th>\n",
              "      <th>1st Most Common Venue</th>\n",
              "      <th>2nd Most Common Venue</th>\n",
              "      <th>3rd Most Common Venue</th>\n",
              "      <th>4th Most Common Venue</th>\n",
              "      <th>5th Most Common Venue</th>\n",
              "      <th>6th Most Common Venue</th>\n",
              "      <th>7th Most Common Venue</th>\n",
              "      <th>8th Most Common Venue</th>\n",
              "      <th>9th Most Common Venue</th>\n",
              "      <th>10th Most Common Venue</th>\n",
              "    </tr>\n",
              "  </thead>\n",
              "  <tbody>\n",
              "    <tr>\n",
              "      <th>9</th>\n",
              "      <td>Parkside/Forest Hill</td>\n",
              "      <td>37.748170</td>\n",
              "      <td>-122.464110</td>\n",
              "      <td>0</td>\n",
              "      <td>Playground</td>\n",
              "      <td>Park</td>\n",
              "      <td>Sandwich Place</td>\n",
              "      <td>Chocolate Shop</td>\n",
              "      <td>Gym / Fitness Center</td>\n",
              "      <td>Gym</td>\n",
              "      <td>Garden</td>\n",
              "      <td>Elementary School</td>\n",
              "      <td>Dessert Shop</td>\n",
              "      <td>Zoo Exhibit</td>\n",
              "    </tr>\n",
              "    <tr>\n",
              "      <th>17</th>\n",
              "      <td>Twin Peaks-Glen Park</td>\n",
              "      <td>37.754250</td>\n",
              "      <td>-122.446770</td>\n",
              "      <td>0</td>\n",
              "      <td>Park</td>\n",
              "      <td>Playground</td>\n",
              "      <td>Pizza Place</td>\n",
              "      <td>Bus Station</td>\n",
              "      <td>Garden</td>\n",
              "      <td>Gym / Fitness Center</td>\n",
              "      <td>Gym</td>\n",
              "      <td>Elementary School</td>\n",
              "      <td>Dessert Shop</td>\n",
              "      <td>Zoo Exhibit</td>\n",
              "    </tr>\n",
              "    <tr>\n",
              "      <th>18</th>\n",
              "      <td>Lake Merced</td>\n",
              "      <td>37.711259</td>\n",
              "      <td>-122.484863</td>\n",
              "      <td>0</td>\n",
              "      <td>Park</td>\n",
              "      <td>Playground</td>\n",
              "      <td>Gym</td>\n",
              "      <td>Preschool</td>\n",
              "      <td>Chocolate Shop</td>\n",
              "      <td>Gym / Fitness Center</td>\n",
              "      <td>Garden</td>\n",
              "      <td>Elementary School</td>\n",
              "      <td>Dessert Shop</td>\n",
              "      <td>Zoo Exhibit</td>\n",
              "    </tr>\n",
              "  </tbody>\n",
              "</table>\n",
              "</div>"
            ],
            "text/plain": [
              "            Neighborhood  ...  10th Most Common Venue\n",
              "9   Parkside/Forest Hill  ...             Zoo Exhibit\n",
              "17  Twin Peaks-Glen Park  ...             Zoo Exhibit\n",
              "18           Lake Merced  ...             Zoo Exhibit\n",
              "\n",
              "[3 rows x 14 columns]"
            ]
          },
          "metadata": {
            "tags": []
          },
          "execution_count": 497
        }
      ]
    },
    {
      "cell_type": "code",
      "metadata": {
        "id": "erWY0DwbNCEO",
        "colab": {
          "base_uri": "https://localhost:8080/",
          "height": 297
        },
        "outputId": "1922bdb1-b387-4b9b-8fd3-7e5015ae6a9f"
      },
      "source": [
        "mean_df_cl1 = sf_grouped.loc[sf_grouped['ClusterLabels'] == 0, :].mean().sort_values(ascending=False).to_frame().rename(columns={0:'Mean'})\n",
        "mean_df_cl1[mean_df_cl1['Mean'] > 0.001]"
      ],
      "execution_count": 498,
      "outputs": [
        {
          "output_type": "execute_result",
          "data": {
            "text/html": [
              "<div>\n",
              "<style scoped>\n",
              "    .dataframe tbody tr th:only-of-type {\n",
              "        vertical-align: middle;\n",
              "    }\n",
              "\n",
              "    .dataframe tbody tr th {\n",
              "        vertical-align: top;\n",
              "    }\n",
              "\n",
              "    .dataframe thead th {\n",
              "        text-align: right;\n",
              "    }\n",
              "</style>\n",
              "<table border=\"1\" class=\"dataframe\">\n",
              "  <thead>\n",
              "    <tr style=\"text-align: right;\">\n",
              "      <th></th>\n",
              "      <th>Mean</th>\n",
              "    </tr>\n",
              "  </thead>\n",
              "  <tbody>\n",
              "    <tr>\n",
              "      <th>Park</th>\n",
              "      <td>0.377778</td>\n",
              "    </tr>\n",
              "    <tr>\n",
              "      <th>Playground</th>\n",
              "      <td>0.333333</td>\n",
              "    </tr>\n",
              "    <tr>\n",
              "      <th>Gym</th>\n",
              "      <td>0.066667</td>\n",
              "    </tr>\n",
              "    <tr>\n",
              "      <th>Preschool</th>\n",
              "      <td>0.066667</td>\n",
              "    </tr>\n",
              "    <tr>\n",
              "      <th>Sandwich Place</th>\n",
              "      <td>0.055556</td>\n",
              "    </tr>\n",
              "    <tr>\n",
              "      <th>Pizza Place</th>\n",
              "      <td>0.033333</td>\n",
              "    </tr>\n",
              "    <tr>\n",
              "      <th>Garden</th>\n",
              "      <td>0.033333</td>\n",
              "    </tr>\n",
              "    <tr>\n",
              "      <th>Bus Station</th>\n",
              "      <td>0.033333</td>\n",
              "    </tr>\n",
              "  </tbody>\n",
              "</table>\n",
              "</div>"
            ],
            "text/plain": [
              "                    Mean\n",
              "Park            0.377778\n",
              "Playground      0.333333\n",
              "Gym             0.066667\n",
              "Preschool       0.066667\n",
              "Sandwich Place  0.055556\n",
              "Pizza Place     0.033333\n",
              "Garden          0.033333\n",
              "Bus Station     0.033333"
            ]
          },
          "metadata": {
            "tags": []
          },
          "execution_count": 498
        }
      ]
    },
    {
      "cell_type": "markdown",
      "metadata": {
        "id": "rF8bGgSz3n2N"
      },
      "source": [
        "### Cluster 2"
      ]
    },
    {
      "cell_type": "code",
      "metadata": {
        "id": "2ALPF5xQNY_k",
        "colab": {
          "base_uri": "https://localhost:8080/",
          "height": 340
        },
        "outputId": "42e6f597-bb6d-4e1a-be40-f08d53ef22c2"
      },
      "source": [
        "cluster_2_df = sf_merged.loc[sf_merged['ClusterLabels'] == 1, :]\n",
        "\n",
        "print('Neighborhoods in cluster:', cluster_2_df.shape[0])\n",
        "cluster_2_df.head()"
      ],
      "execution_count": 499,
      "outputs": [
        {
          "output_type": "stream",
          "text": [
            "Neighborhoods in cluster: 17\n"
          ],
          "name": "stdout"
        },
        {
          "output_type": "execute_result",
          "data": {
            "text/html": [
              "<div>\n",
              "<style scoped>\n",
              "    .dataframe tbody tr th:only-of-type {\n",
              "        vertical-align: middle;\n",
              "    }\n",
              "\n",
              "    .dataframe tbody tr th {\n",
              "        vertical-align: top;\n",
              "    }\n",
              "\n",
              "    .dataframe thead th {\n",
              "        text-align: right;\n",
              "    }\n",
              "</style>\n",
              "<table border=\"1\" class=\"dataframe\">\n",
              "  <thead>\n",
              "    <tr style=\"text-align: right;\">\n",
              "      <th></th>\n",
              "      <th>Neighborhood</th>\n",
              "      <th>NeighborhoodLatitude</th>\n",
              "      <th>NeighborhoodLongitude</th>\n",
              "      <th>ClusterLabels</th>\n",
              "      <th>1st Most Common Venue</th>\n",
              "      <th>2nd Most Common Venue</th>\n",
              "      <th>3rd Most Common Venue</th>\n",
              "      <th>4th Most Common Venue</th>\n",
              "      <th>5th Most Common Venue</th>\n",
              "      <th>6th Most Common Venue</th>\n",
              "      <th>7th Most Common Venue</th>\n",
              "      <th>8th Most Common Venue</th>\n",
              "      <th>9th Most Common Venue</th>\n",
              "      <th>10th Most Common Venue</th>\n",
              "    </tr>\n",
              "  </thead>\n",
              "  <tbody>\n",
              "    <tr>\n",
              "      <th>0</th>\n",
              "      <td>Hayes Valley/Tenderloin/North of Market</td>\n",
              "      <td>37.77428</td>\n",
              "      <td>-122.42833</td>\n",
              "      <td>1</td>\n",
              "      <td>School</td>\n",
              "      <td>Park</td>\n",
              "      <td>Pizza Place</td>\n",
              "      <td>Ice Cream Shop</td>\n",
              "      <td>Gym / Fitness Center</td>\n",
              "      <td>Dessert Shop</td>\n",
              "      <td>Music School</td>\n",
              "      <td>Gym</td>\n",
              "      <td>Elementary School</td>\n",
              "      <td>Bike Rental / Bike Share</td>\n",
              "    </tr>\n",
              "    <tr>\n",
              "      <th>1</th>\n",
              "      <td>South of Market</td>\n",
              "      <td>37.77757</td>\n",
              "      <td>-122.40435</td>\n",
              "      <td>1</td>\n",
              "      <td>School</td>\n",
              "      <td>Pizza Place</td>\n",
              "      <td>Gym</td>\n",
              "      <td>Gym / Fitness Center</td>\n",
              "      <td>Sandwich Place</td>\n",
              "      <td>Garden</td>\n",
              "      <td>Elementary School</td>\n",
              "      <td>Preschool</td>\n",
              "      <td>Toy / Game Store</td>\n",
              "      <td>Playground</td>\n",
              "    </tr>\n",
              "    <tr>\n",
              "      <th>2</th>\n",
              "      <td>Potrero Hill</td>\n",
              "      <td>37.75660</td>\n",
              "      <td>-122.39914</td>\n",
              "      <td>1</td>\n",
              "      <td>Park</td>\n",
              "      <td>Pizza Place</td>\n",
              "      <td>Sandwich Place</td>\n",
              "      <td>Bus Station</td>\n",
              "      <td>Garden</td>\n",
              "      <td>Playground</td>\n",
              "      <td>Dessert Shop</td>\n",
              "      <td>Gym / Fitness Center</td>\n",
              "      <td>Gym</td>\n",
              "      <td>Cafeteria</td>\n",
              "    </tr>\n",
              "    <tr>\n",
              "      <th>3</th>\n",
              "      <td>Chinatown</td>\n",
              "      <td>37.79539</td>\n",
              "      <td>-122.40812</td>\n",
              "      <td>1</td>\n",
              "      <td>Elementary School</td>\n",
              "      <td>Pizza Place</td>\n",
              "      <td>Park</td>\n",
              "      <td>School</td>\n",
              "      <td>Preschool</td>\n",
              "      <td>Gym / Fitness Center</td>\n",
              "      <td>Gym</td>\n",
              "      <td>Language School</td>\n",
              "      <td>Sandwich Place</td>\n",
              "      <td>Ice Cream Shop</td>\n",
              "    </tr>\n",
              "    <tr>\n",
              "      <th>4</th>\n",
              "      <td>Polk/Russian Hill (Nob Hill)</td>\n",
              "      <td>37.80203</td>\n",
              "      <td>-122.41963</td>\n",
              "      <td>1</td>\n",
              "      <td>Park</td>\n",
              "      <td>Ice Cream Shop</td>\n",
              "      <td>Chocolate Shop</td>\n",
              "      <td>Pizza Place</td>\n",
              "      <td>Gym / Fitness Center</td>\n",
              "      <td>Bike Rental / Bike Share</td>\n",
              "      <td>Playground</td>\n",
              "      <td>National Park</td>\n",
              "      <td>High School</td>\n",
              "      <td>Garden</td>\n",
              "    </tr>\n",
              "  </tbody>\n",
              "</table>\n",
              "</div>"
            ],
            "text/plain": [
              "                              Neighborhood  ...    10th Most Common Venue\n",
              "0  Hayes Valley/Tenderloin/North of Market  ...  Bike Rental / Bike Share\n",
              "1                          South of Market  ...                Playground\n",
              "2                             Potrero Hill  ...                 Cafeteria\n",
              "3                                Chinatown  ...            Ice Cream Shop\n",
              "4             Polk/Russian Hill (Nob Hill)  ...                    Garden\n",
              "\n",
              "[5 rows x 14 columns]"
            ]
          },
          "metadata": {
            "tags": []
          },
          "execution_count": 499
        }
      ]
    },
    {
      "cell_type": "code",
      "metadata": {
        "colab": {
          "base_uri": "https://localhost:8080/",
          "height": 979
        },
        "id": "QRx3HZtW3sOs",
        "outputId": "b6b11a7c-5306-4d23-ce12-3aad2c648374"
      },
      "source": [
        "mean_df_cl2 = sf_grouped.loc[sf_grouped['ClusterLabels'] == 1, :].mean().sort_values(ascending=False).to_frame().rename(columns={0:'Mean'})\n",
        "mean_df_cl2.drop([mean_df_cl2.index[0]], inplace=True)\n",
        "mean_df_cl2[mean_df_cl2['Mean'] > 0.001]"
      ],
      "execution_count": 500,
      "outputs": [
        {
          "output_type": "execute_result",
          "data": {
            "text/html": [
              "<div>\n",
              "<style scoped>\n",
              "    .dataframe tbody tr th:only-of-type {\n",
              "        vertical-align: middle;\n",
              "    }\n",
              "\n",
              "    .dataframe tbody tr th {\n",
              "        vertical-align: top;\n",
              "    }\n",
              "\n",
              "    .dataframe thead th {\n",
              "        text-align: right;\n",
              "    }\n",
              "</style>\n",
              "<table border=\"1\" class=\"dataframe\">\n",
              "  <thead>\n",
              "    <tr style=\"text-align: right;\">\n",
              "      <th></th>\n",
              "      <th>Mean</th>\n",
              "    </tr>\n",
              "  </thead>\n",
              "  <tbody>\n",
              "    <tr>\n",
              "      <th>Park</th>\n",
              "      <td>0.151138</td>\n",
              "    </tr>\n",
              "    <tr>\n",
              "      <th>Pizza Place</th>\n",
              "      <td>0.129225</td>\n",
              "    </tr>\n",
              "    <tr>\n",
              "      <th>Playground</th>\n",
              "      <td>0.088598</td>\n",
              "    </tr>\n",
              "    <tr>\n",
              "      <th>School</th>\n",
              "      <td>0.077828</td>\n",
              "    </tr>\n",
              "    <tr>\n",
              "      <th>Elementary School</th>\n",
              "      <td>0.061717</td>\n",
              "    </tr>\n",
              "    <tr>\n",
              "      <th>Ice Cream Shop</th>\n",
              "      <td>0.050171</td>\n",
              "    </tr>\n",
              "    <tr>\n",
              "      <th>Sandwich Place</th>\n",
              "      <td>0.049374</td>\n",
              "    </tr>\n",
              "    <tr>\n",
              "      <th>Gym</th>\n",
              "      <td>0.046906</td>\n",
              "    </tr>\n",
              "    <tr>\n",
              "      <th>Gym / Fitness Center</th>\n",
              "      <td>0.044445</td>\n",
              "    </tr>\n",
              "    <tr>\n",
              "      <th>Bus Station</th>\n",
              "      <td>0.041243</td>\n",
              "    </tr>\n",
              "    <tr>\n",
              "      <th>Pharmacy</th>\n",
              "      <td>0.028884</td>\n",
              "    </tr>\n",
              "    <tr>\n",
              "      <th>Dessert Shop</th>\n",
              "      <td>0.026747</td>\n",
              "    </tr>\n",
              "    <tr>\n",
              "      <th>Baseball Field</th>\n",
              "      <td>0.025675</td>\n",
              "    </tr>\n",
              "    <tr>\n",
              "      <th>Garden</th>\n",
              "      <td>0.022539</td>\n",
              "    </tr>\n",
              "    <tr>\n",
              "      <th>Middle School</th>\n",
              "      <td>0.020604</td>\n",
              "    </tr>\n",
              "    <tr>\n",
              "      <th>Toy / Game Store</th>\n",
              "      <td>0.018729</td>\n",
              "    </tr>\n",
              "    <tr>\n",
              "      <th>High School</th>\n",
              "      <td>0.015719</td>\n",
              "    </tr>\n",
              "    <tr>\n",
              "      <th>Preschool</th>\n",
              "      <td>0.015346</td>\n",
              "    </tr>\n",
              "    <tr>\n",
              "      <th>Chocolate Shop</th>\n",
              "      <td>0.015256</td>\n",
              "    </tr>\n",
              "    <tr>\n",
              "      <th>Pool</th>\n",
              "      <td>0.014027</td>\n",
              "    </tr>\n",
              "    <tr>\n",
              "      <th>Bike Rental / Bike Share</th>\n",
              "      <td>0.008892</td>\n",
              "    </tr>\n",
              "    <tr>\n",
              "      <th>Shopping Mall</th>\n",
              "      <td>0.007998</td>\n",
              "    </tr>\n",
              "    <tr>\n",
              "      <th>Music School</th>\n",
              "      <td>0.007985</td>\n",
              "    </tr>\n",
              "    <tr>\n",
              "      <th>Cafeteria</th>\n",
              "      <td>0.007353</td>\n",
              "    </tr>\n",
              "    <tr>\n",
              "      <th>Language School</th>\n",
              "      <td>0.006347</td>\n",
              "    </tr>\n",
              "    <tr>\n",
              "      <th>Sports Club</th>\n",
              "      <td>0.005094</td>\n",
              "    </tr>\n",
              "    <tr>\n",
              "      <th>National Park</th>\n",
              "      <td>0.004949</td>\n",
              "    </tr>\n",
              "    <tr>\n",
              "      <th>Beach</th>\n",
              "      <td>0.003315</td>\n",
              "    </tr>\n",
              "    <tr>\n",
              "      <th>Kids Store</th>\n",
              "      <td>0.002262</td>\n",
              "    </tr>\n",
              "    <tr>\n",
              "      <th>Candy Store</th>\n",
              "      <td>0.001634</td>\n",
              "    </tr>\n",
              "  </tbody>\n",
              "</table>\n",
              "</div>"
            ],
            "text/plain": [
              "                              Mean\n",
              "Park                      0.151138\n",
              "Pizza Place               0.129225\n",
              "Playground                0.088598\n",
              "School                    0.077828\n",
              "Elementary School         0.061717\n",
              "Ice Cream Shop            0.050171\n",
              "Sandwich Place            0.049374\n",
              "Gym                       0.046906\n",
              "Gym / Fitness Center      0.044445\n",
              "Bus Station               0.041243\n",
              "Pharmacy                  0.028884\n",
              "Dessert Shop              0.026747\n",
              "Baseball Field            0.025675\n",
              "Garden                    0.022539\n",
              "Middle School             0.020604\n",
              "Toy / Game Store          0.018729\n",
              "High School               0.015719\n",
              "Preschool                 0.015346\n",
              "Chocolate Shop            0.015256\n",
              "Pool                      0.014027\n",
              "Bike Rental / Bike Share  0.008892\n",
              "Shopping Mall             0.007998\n",
              "Music School              0.007985\n",
              "Cafeteria                 0.007353\n",
              "Language School           0.006347\n",
              "Sports Club               0.005094\n",
              "National Park             0.004949\n",
              "Beach                     0.003315\n",
              "Kids Store                0.002262\n",
              "Candy Store               0.001634"
            ]
          },
          "metadata": {
            "tags": []
          },
          "execution_count": 500
        }
      ]
    },
    {
      "cell_type": "markdown",
      "metadata": {
        "id": "_RUGtXmT4fbv"
      },
      "source": [
        "### Cluster 3"
      ]
    },
    {
      "cell_type": "code",
      "metadata": {
        "colab": {
          "base_uri": "https://localhost:8080/",
          "height": 114
        },
        "id": "ozeGYT1338Hl",
        "outputId": "e5db5f66-d2a9-40c6-c969-c02c9ddf2e9e"
      },
      "source": [
        "cluster_3_df = sf_merged.loc[sf_merged['ClusterLabels'] == 2, :]\n",
        "\n",
        "print('Neighborhoods in cluster:', cluster_3_df.shape[0])\n",
        "cluster_3_df.head()"
      ],
      "execution_count": 501,
      "outputs": [
        {
          "output_type": "stream",
          "text": [
            "Neighborhoods in cluster: 1\n"
          ],
          "name": "stdout"
        },
        {
          "output_type": "execute_result",
          "data": {
            "text/html": [
              "<div>\n",
              "<style scoped>\n",
              "    .dataframe tbody tr th:only-of-type {\n",
              "        vertical-align: middle;\n",
              "    }\n",
              "\n",
              "    .dataframe tbody tr th {\n",
              "        vertical-align: top;\n",
              "    }\n",
              "\n",
              "    .dataframe thead th {\n",
              "        text-align: right;\n",
              "    }\n",
              "</style>\n",
              "<table border=\"1\" class=\"dataframe\">\n",
              "  <thead>\n",
              "    <tr style=\"text-align: right;\">\n",
              "      <th></th>\n",
              "      <th>Neighborhood</th>\n",
              "      <th>NeighborhoodLatitude</th>\n",
              "      <th>NeighborhoodLongitude</th>\n",
              "      <th>ClusterLabels</th>\n",
              "      <th>1st Most Common Venue</th>\n",
              "      <th>2nd Most Common Venue</th>\n",
              "      <th>3rd Most Common Venue</th>\n",
              "      <th>4th Most Common Venue</th>\n",
              "      <th>5th Most Common Venue</th>\n",
              "      <th>6th Most Common Venue</th>\n",
              "      <th>7th Most Common Venue</th>\n",
              "      <th>8th Most Common Venue</th>\n",
              "      <th>9th Most Common Venue</th>\n",
              "      <th>10th Most Common Venue</th>\n",
              "    </tr>\n",
              "  </thead>\n",
              "  <tbody>\n",
              "    <tr>\n",
              "      <th>13</th>\n",
              "      <td>Sunset</td>\n",
              "      <td>37.729626</td>\n",
              "      <td>-122.493405</td>\n",
              "      <td>2</td>\n",
              "      <td>Zoo Exhibit</td>\n",
              "      <td>Bus Station</td>\n",
              "      <td>Gym</td>\n",
              "      <td>Park</td>\n",
              "      <td>Picnic Area</td>\n",
              "      <td>Pizza Place</td>\n",
              "      <td>Sandwich Place</td>\n",
              "      <td>Shopping Mall</td>\n",
              "      <td>Cafeteria</td>\n",
              "      <td>Candy Store</td>\n",
              "    </tr>\n",
              "  </tbody>\n",
              "</table>\n",
              "</div>"
            ],
            "text/plain": [
              "   Neighborhood  ...  10th Most Common Venue\n",
              "13       Sunset  ...             Candy Store\n",
              "\n",
              "[1 rows x 14 columns]"
            ]
          },
          "metadata": {
            "tags": []
          },
          "execution_count": 501
        }
      ]
    },
    {
      "cell_type": "code",
      "metadata": {
        "colab": {
          "base_uri": "https://localhost:8080/",
          "height": 297
        },
        "id": "sEDIc_PH4lOc",
        "outputId": "c2b57cb6-54a2-4e85-9be7-688a3ed86860"
      },
      "source": [
        "#sf_grouped.loc[sf_grouped['ClusterLabels'] == 2, :].mean().sort_values(ascending=False)[:20]\n",
        "mean_df_cl3 = sf_grouped.loc[sf_grouped['ClusterLabels'] == 2, :].mean().sort_values(ascending=False).to_frame().rename(columns={0:'Mean'})\n",
        "mean_df_cl3.drop([mean_df_cl3.index[0]], inplace=True)\n",
        "mean_df_cl3[mean_df_cl3['Mean'] > 0.001]"
      ],
      "execution_count": 502,
      "outputs": [
        {
          "output_type": "execute_result",
          "data": {
            "text/html": [
              "<div>\n",
              "<style scoped>\n",
              "    .dataframe tbody tr th:only-of-type {\n",
              "        vertical-align: middle;\n",
              "    }\n",
              "\n",
              "    .dataframe tbody tr th {\n",
              "        vertical-align: top;\n",
              "    }\n",
              "\n",
              "    .dataframe thead th {\n",
              "        text-align: right;\n",
              "    }\n",
              "</style>\n",
              "<table border=\"1\" class=\"dataframe\">\n",
              "  <thead>\n",
              "    <tr style=\"text-align: right;\">\n",
              "      <th></th>\n",
              "      <th>Mean</th>\n",
              "    </tr>\n",
              "  </thead>\n",
              "  <tbody>\n",
              "    <tr>\n",
              "      <th>Zoo Exhibit</th>\n",
              "      <td>0.5625</td>\n",
              "    </tr>\n",
              "    <tr>\n",
              "      <th>Gym</th>\n",
              "      <td>0.0625</td>\n",
              "    </tr>\n",
              "    <tr>\n",
              "      <th>Sandwich Place</th>\n",
              "      <td>0.0625</td>\n",
              "    </tr>\n",
              "    <tr>\n",
              "      <th>Shopping Mall</th>\n",
              "      <td>0.0625</td>\n",
              "    </tr>\n",
              "    <tr>\n",
              "      <th>Bus Station</th>\n",
              "      <td>0.0625</td>\n",
              "    </tr>\n",
              "    <tr>\n",
              "      <th>Pizza Place</th>\n",
              "      <td>0.0625</td>\n",
              "    </tr>\n",
              "    <tr>\n",
              "      <th>Picnic Area</th>\n",
              "      <td>0.0625</td>\n",
              "    </tr>\n",
              "    <tr>\n",
              "      <th>Park</th>\n",
              "      <td>0.0625</td>\n",
              "    </tr>\n",
              "  </tbody>\n",
              "</table>\n",
              "</div>"
            ],
            "text/plain": [
              "                  Mean\n",
              "Zoo Exhibit     0.5625\n",
              "Gym             0.0625\n",
              "Sandwich Place  0.0625\n",
              "Shopping Mall   0.0625\n",
              "Bus Station     0.0625\n",
              "Pizza Place     0.0625\n",
              "Picnic Area     0.0625\n",
              "Park            0.0625"
            ]
          },
          "metadata": {
            "tags": []
          },
          "execution_count": 502
        }
      ]
    },
    {
      "cell_type": "markdown",
      "metadata": {
        "id": "0Pl18frYLpha"
      },
      "source": [
        "## Observations"
      ]
    },
    {
      "cell_type": "markdown",
      "metadata": {
        "id": "F7ThM_w9LtmS"
      },
      "source": [
        "The results from the k-means clustering show that we can categorize the neighbourhoods into 3 clusters based on the specific details of each cluster. \n",
        "\n",
        "**Cluster 1: “Welcome with Small children”**. This cluster is better for living with small kids. There is just preschool there, parks, playgrounds. \n",
        "This is a quite small cluster, 3 neighborhoods.\n",
        "\n",
        "\n",
        "**Cluster 2: “Welcome with All children”**. This cluster can be used for living with children of any ages. There are many types of schools there, parks, kids stores, ice cream and pizza cafes and so on. A lot of different venues are located here. \n",
        "This is a big cluster, 17 neighborhoods.\n",
        "\n",
        "**Cluster 3: “Welcome for a walk with children”**. There are no schools, kids stores and other places which are needed for a life with children. But there is a Zoo, parks and green area. It is nice for a walk! \n",
        "This is the smallest cluster, 1 neighborhood.\n"
      ]
    },
    {
      "cell_type": "code",
      "metadata": {
        "id": "aC1QcVU-FwO2"
      },
      "source": [
        ""
      ],
      "execution_count": 502,
      "outputs": []
    }
  ]
}